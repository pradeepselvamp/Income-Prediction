{
 "cells": [
  {
   "cell_type": "code",
   "execution_count": 6,
   "metadata": {},
   "outputs": [],
   "source": [
    "import numpy as np\n",
    "import pandas as pd\n",
    "from sklearn.preprocessing import StandardScaler\n",
    "import matplotlib.pyplot as plt\n",
    "from sklearn.model_selection import train_test_split\n",
    "import scipy.stats as stat\n",
    "import seaborn as sb\n",
    "from sklearn.metrics import accuracy_score\n",
    "%matplotlib inline\n",
    "from sklearn.svm import SVC\n",
    "from sklearn.metrics import classification_report,confusion_matrix,roc_curve,auc\n",
    "from sklearn.model_selection import GridSearchCV\n",
    "from sklearn.tree import DecisionTreeClassifier \n",
    "import imblearn\n",
    "from imblearn.over_sampling import SMOTE\n",
    "from sklearn.model_selection import cross_val_score\n",
    "from sklearn.ensemble import AdaBoostRegressor\n",
    "from sklearn.ensemble import AdaBoostClassifier\n",
    "#from sklearn.ensemble import XGBClassifier"
   ]
  },
  {
   "cell_type": "code",
   "execution_count": 128,
   "metadata": {},
   "outputs": [],
   "source": [
    "# Importing the dataset\n",
    "dataset = pd.read_csv('sgemm_product.csv')"
   ]
  },
  {
   "cell_type": "code",
   "execution_count": 129,
   "metadata": {},
   "outputs": [
    {
     "data": {
      "text/html": [
       "<div>\n",
       "<style scoped>\n",
       "    .dataframe tbody tr th:only-of-type {\n",
       "        vertical-align: middle;\n",
       "    }\n",
       "\n",
       "    .dataframe tbody tr th {\n",
       "        vertical-align: top;\n",
       "    }\n",
       "\n",
       "    .dataframe thead th {\n",
       "        text-align: right;\n",
       "    }\n",
       "</style>\n",
       "<table border=\"1\" class=\"dataframe\">\n",
       "  <thead>\n",
       "    <tr style=\"text-align: right;\">\n",
       "      <th></th>\n",
       "      <th>MWG</th>\n",
       "      <th>NWG</th>\n",
       "      <th>KWG</th>\n",
       "      <th>MDIMC</th>\n",
       "      <th>NDIMC</th>\n",
       "      <th>MDIMA</th>\n",
       "      <th>NDIMB</th>\n",
       "      <th>KWI</th>\n",
       "      <th>VWM</th>\n",
       "      <th>VWN</th>\n",
       "      <th>STRM</th>\n",
       "      <th>STRN</th>\n",
       "      <th>SA</th>\n",
       "      <th>SB</th>\n",
       "      <th>Run1 (ms)</th>\n",
       "      <th>Run2 (ms)</th>\n",
       "      <th>Run3 (ms)</th>\n",
       "      <th>Run4 (ms)</th>\n",
       "    </tr>\n",
       "  </thead>\n",
       "  <tbody>\n",
       "    <tr>\n",
       "      <td>0</td>\n",
       "      <td>16</td>\n",
       "      <td>16</td>\n",
       "      <td>16</td>\n",
       "      <td>8</td>\n",
       "      <td>8</td>\n",
       "      <td>8</td>\n",
       "      <td>8</td>\n",
       "      <td>2</td>\n",
       "      <td>1</td>\n",
       "      <td>1</td>\n",
       "      <td>0</td>\n",
       "      <td>0</td>\n",
       "      <td>0</td>\n",
       "      <td>0</td>\n",
       "      <td>115.26</td>\n",
       "      <td>115.87</td>\n",
       "      <td>118.55</td>\n",
       "      <td>115.80</td>\n",
       "    </tr>\n",
       "    <tr>\n",
       "      <td>1</td>\n",
       "      <td>16</td>\n",
       "      <td>16</td>\n",
       "      <td>16</td>\n",
       "      <td>8</td>\n",
       "      <td>8</td>\n",
       "      <td>8</td>\n",
       "      <td>8</td>\n",
       "      <td>2</td>\n",
       "      <td>1</td>\n",
       "      <td>1</td>\n",
       "      <td>0</td>\n",
       "      <td>0</td>\n",
       "      <td>0</td>\n",
       "      <td>1</td>\n",
       "      <td>78.13</td>\n",
       "      <td>78.25</td>\n",
       "      <td>79.25</td>\n",
       "      <td>79.19</td>\n",
       "    </tr>\n",
       "    <tr>\n",
       "      <td>2</td>\n",
       "      <td>16</td>\n",
       "      <td>16</td>\n",
       "      <td>16</td>\n",
       "      <td>8</td>\n",
       "      <td>8</td>\n",
       "      <td>8</td>\n",
       "      <td>8</td>\n",
       "      <td>2</td>\n",
       "      <td>1</td>\n",
       "      <td>1</td>\n",
       "      <td>0</td>\n",
       "      <td>0</td>\n",
       "      <td>1</td>\n",
       "      <td>0</td>\n",
       "      <td>79.84</td>\n",
       "      <td>80.69</td>\n",
       "      <td>80.76</td>\n",
       "      <td>80.97</td>\n",
       "    </tr>\n",
       "    <tr>\n",
       "      <td>3</td>\n",
       "      <td>16</td>\n",
       "      <td>16</td>\n",
       "      <td>16</td>\n",
       "      <td>8</td>\n",
       "      <td>8</td>\n",
       "      <td>8</td>\n",
       "      <td>8</td>\n",
       "      <td>2</td>\n",
       "      <td>1</td>\n",
       "      <td>1</td>\n",
       "      <td>0</td>\n",
       "      <td>0</td>\n",
       "      <td>1</td>\n",
       "      <td>1</td>\n",
       "      <td>84.32</td>\n",
       "      <td>89.90</td>\n",
       "      <td>86.75</td>\n",
       "      <td>85.58</td>\n",
       "    </tr>\n",
       "    <tr>\n",
       "      <td>4</td>\n",
       "      <td>16</td>\n",
       "      <td>16</td>\n",
       "      <td>16</td>\n",
       "      <td>8</td>\n",
       "      <td>8</td>\n",
       "      <td>8</td>\n",
       "      <td>8</td>\n",
       "      <td>2</td>\n",
       "      <td>1</td>\n",
       "      <td>1</td>\n",
       "      <td>0</td>\n",
       "      <td>1</td>\n",
       "      <td>0</td>\n",
       "      <td>0</td>\n",
       "      <td>115.13</td>\n",
       "      <td>121.98</td>\n",
       "      <td>122.73</td>\n",
       "      <td>114.81</td>\n",
       "    </tr>\n",
       "  </tbody>\n",
       "</table>\n",
       "</div>"
      ],
      "text/plain": [
       "   MWG  NWG  KWG  MDIMC  NDIMC  MDIMA  NDIMB  KWI  VWM  VWN  STRM  STRN  SA  \\\n",
       "0   16   16   16      8      8      8      8    2    1    1     0     0   0   \n",
       "1   16   16   16      8      8      8      8    2    1    1     0     0   0   \n",
       "2   16   16   16      8      8      8      8    2    1    1     0     0   1   \n",
       "3   16   16   16      8      8      8      8    2    1    1     0     0   1   \n",
       "4   16   16   16      8      8      8      8    2    1    1     0     1   0   \n",
       "\n",
       "   SB  Run1 (ms)  Run2 (ms)  Run3 (ms)  Run4 (ms)  \n",
       "0   0     115.26     115.87     118.55     115.80  \n",
       "1   1      78.13      78.25      79.25      79.19  \n",
       "2   0      79.84      80.69      80.76      80.97  \n",
       "3   1      84.32      89.90      86.75      85.58  \n",
       "4   0     115.13     121.98     122.73     114.81  "
      ]
     },
     "execution_count": 129,
     "metadata": {},
     "output_type": "execute_result"
    }
   ],
   "source": [
    "dataset.head()"
   ]
  },
  {
   "cell_type": "code",
   "execution_count": 130,
   "metadata": {},
   "outputs": [
    {
     "data": {
      "text/plain": [
       "(241600, 18)"
      ]
     },
     "execution_count": 130,
     "metadata": {},
     "output_type": "execute_result"
    }
   ],
   "source": [
    "dataset.shape"
   ]
  },
  {
   "cell_type": "code",
   "execution_count": 131,
   "metadata": {},
   "outputs": [
    {
     "data": {
      "text/html": [
       "<div>\n",
       "<style scoped>\n",
       "    .dataframe tbody tr th:only-of-type {\n",
       "        vertical-align: middle;\n",
       "    }\n",
       "\n",
       "    .dataframe tbody tr th {\n",
       "        vertical-align: top;\n",
       "    }\n",
       "\n",
       "    .dataframe thead th {\n",
       "        text-align: right;\n",
       "    }\n",
       "</style>\n",
       "<table border=\"1\" class=\"dataframe\">\n",
       "  <thead>\n",
       "    <tr style=\"text-align: right;\">\n",
       "      <th></th>\n",
       "      <th>MWG</th>\n",
       "      <th>NWG</th>\n",
       "      <th>KWG</th>\n",
       "      <th>MDIMC</th>\n",
       "      <th>NDIMC</th>\n",
       "      <th>MDIMA</th>\n",
       "      <th>NDIMB</th>\n",
       "      <th>KWI</th>\n",
       "      <th>VWM</th>\n",
       "      <th>VWN</th>\n",
       "      <th>STRM</th>\n",
       "      <th>STRN</th>\n",
       "      <th>SA</th>\n",
       "      <th>SB</th>\n",
       "      <th>Run1 (ms)</th>\n",
       "      <th>Run2 (ms)</th>\n",
       "      <th>Run3 (ms)</th>\n",
       "      <th>Run4 (ms)</th>\n",
       "    </tr>\n",
       "  </thead>\n",
       "  <tbody>\n",
       "    <tr>\n",
       "      <td>count</td>\n",
       "      <td>241600.000000</td>\n",
       "      <td>241600.000000</td>\n",
       "      <td>241600.000000</td>\n",
       "      <td>241600.000000</td>\n",
       "      <td>241600.000000</td>\n",
       "      <td>241600.000000</td>\n",
       "      <td>241600.000000</td>\n",
       "      <td>241600.000000</td>\n",
       "      <td>241600.000000</td>\n",
       "      <td>241600.000000</td>\n",
       "      <td>241600.000000</td>\n",
       "      <td>241600.000000</td>\n",
       "      <td>241600.000000</td>\n",
       "      <td>241600.000000</td>\n",
       "      <td>241600.000000</td>\n",
       "      <td>241600.000000</td>\n",
       "      <td>241600.000000</td>\n",
       "      <td>241600.000000</td>\n",
       "    </tr>\n",
       "    <tr>\n",
       "      <td>mean</td>\n",
       "      <td>80.415364</td>\n",
       "      <td>80.415364</td>\n",
       "      <td>25.513113</td>\n",
       "      <td>13.935894</td>\n",
       "      <td>13.935894</td>\n",
       "      <td>17.371126</td>\n",
       "      <td>17.371126</td>\n",
       "      <td>5.000000</td>\n",
       "      <td>2.448609</td>\n",
       "      <td>2.448609</td>\n",
       "      <td>0.500000</td>\n",
       "      <td>0.500000</td>\n",
       "      <td>0.500000</td>\n",
       "      <td>0.500000</td>\n",
       "      <td>217.647852</td>\n",
       "      <td>217.579536</td>\n",
       "      <td>217.532756</td>\n",
       "      <td>217.527669</td>\n",
       "    </tr>\n",
       "    <tr>\n",
       "      <td>std</td>\n",
       "      <td>42.469220</td>\n",
       "      <td>42.469220</td>\n",
       "      <td>7.855619</td>\n",
       "      <td>7.873662</td>\n",
       "      <td>7.873662</td>\n",
       "      <td>9.389418</td>\n",
       "      <td>9.389418</td>\n",
       "      <td>3.000006</td>\n",
       "      <td>1.953759</td>\n",
       "      <td>1.953759</td>\n",
       "      <td>0.500001</td>\n",
       "      <td>0.500001</td>\n",
       "      <td>0.500001</td>\n",
       "      <td>0.500001</td>\n",
       "      <td>369.012422</td>\n",
       "      <td>368.677309</td>\n",
       "      <td>368.655118</td>\n",
       "      <td>368.677413</td>\n",
       "    </tr>\n",
       "    <tr>\n",
       "      <td>min</td>\n",
       "      <td>16.000000</td>\n",
       "      <td>16.000000</td>\n",
       "      <td>16.000000</td>\n",
       "      <td>8.000000</td>\n",
       "      <td>8.000000</td>\n",
       "      <td>8.000000</td>\n",
       "      <td>8.000000</td>\n",
       "      <td>2.000000</td>\n",
       "      <td>1.000000</td>\n",
       "      <td>1.000000</td>\n",
       "      <td>0.000000</td>\n",
       "      <td>0.000000</td>\n",
       "      <td>0.000000</td>\n",
       "      <td>0.000000</td>\n",
       "      <td>13.290000</td>\n",
       "      <td>13.250000</td>\n",
       "      <td>13.360000</td>\n",
       "      <td>13.370000</td>\n",
       "    </tr>\n",
       "    <tr>\n",
       "      <td>25%</td>\n",
       "      <td>32.000000</td>\n",
       "      <td>32.000000</td>\n",
       "      <td>16.000000</td>\n",
       "      <td>8.000000</td>\n",
       "      <td>8.000000</td>\n",
       "      <td>8.000000</td>\n",
       "      <td>8.000000</td>\n",
       "      <td>2.000000</td>\n",
       "      <td>1.000000</td>\n",
       "      <td>1.000000</td>\n",
       "      <td>0.000000</td>\n",
       "      <td>0.000000</td>\n",
       "      <td>0.000000</td>\n",
       "      <td>0.000000</td>\n",
       "      <td>40.660000</td>\n",
       "      <td>40.710000</td>\n",
       "      <td>40.660000</td>\n",
       "      <td>40.640000</td>\n",
       "    </tr>\n",
       "    <tr>\n",
       "      <td>50%</td>\n",
       "      <td>64.000000</td>\n",
       "      <td>64.000000</td>\n",
       "      <td>32.000000</td>\n",
       "      <td>8.000000</td>\n",
       "      <td>8.000000</td>\n",
       "      <td>16.000000</td>\n",
       "      <td>16.000000</td>\n",
       "      <td>5.000000</td>\n",
       "      <td>2.000000</td>\n",
       "      <td>2.000000</td>\n",
       "      <td>0.500000</td>\n",
       "      <td>0.500000</td>\n",
       "      <td>0.500000</td>\n",
       "      <td>0.500000</td>\n",
       "      <td>69.825000</td>\n",
       "      <td>69.930000</td>\n",
       "      <td>69.790000</td>\n",
       "      <td>69.820000</td>\n",
       "    </tr>\n",
       "    <tr>\n",
       "      <td>75%</td>\n",
       "      <td>128.000000</td>\n",
       "      <td>128.000000</td>\n",
       "      <td>32.000000</td>\n",
       "      <td>16.000000</td>\n",
       "      <td>16.000000</td>\n",
       "      <td>32.000000</td>\n",
       "      <td>32.000000</td>\n",
       "      <td>8.000000</td>\n",
       "      <td>4.000000</td>\n",
       "      <td>4.000000</td>\n",
       "      <td>1.000000</td>\n",
       "      <td>1.000000</td>\n",
       "      <td>1.000000</td>\n",
       "      <td>1.000000</td>\n",
       "      <td>228.530000</td>\n",
       "      <td>228.310000</td>\n",
       "      <td>228.320000</td>\n",
       "      <td>228.320000</td>\n",
       "    </tr>\n",
       "    <tr>\n",
       "      <td>max</td>\n",
       "      <td>128.000000</td>\n",
       "      <td>128.000000</td>\n",
       "      <td>32.000000</td>\n",
       "      <td>32.000000</td>\n",
       "      <td>32.000000</td>\n",
       "      <td>32.000000</td>\n",
       "      <td>32.000000</td>\n",
       "      <td>8.000000</td>\n",
       "      <td>8.000000</td>\n",
       "      <td>8.000000</td>\n",
       "      <td>1.000000</td>\n",
       "      <td>1.000000</td>\n",
       "      <td>1.000000</td>\n",
       "      <td>1.000000</td>\n",
       "      <td>3339.630000</td>\n",
       "      <td>3375.420000</td>\n",
       "      <td>3397.080000</td>\n",
       "      <td>3361.710000</td>\n",
       "    </tr>\n",
       "  </tbody>\n",
       "</table>\n",
       "</div>"
      ],
      "text/plain": [
       "                 MWG            NWG            KWG          MDIMC  \\\n",
       "count  241600.000000  241600.000000  241600.000000  241600.000000   \n",
       "mean       80.415364      80.415364      25.513113      13.935894   \n",
       "std        42.469220      42.469220       7.855619       7.873662   \n",
       "min        16.000000      16.000000      16.000000       8.000000   \n",
       "25%        32.000000      32.000000      16.000000       8.000000   \n",
       "50%        64.000000      64.000000      32.000000       8.000000   \n",
       "75%       128.000000     128.000000      32.000000      16.000000   \n",
       "max       128.000000     128.000000      32.000000      32.000000   \n",
       "\n",
       "               NDIMC          MDIMA          NDIMB            KWI  \\\n",
       "count  241600.000000  241600.000000  241600.000000  241600.000000   \n",
       "mean       13.935894      17.371126      17.371126       5.000000   \n",
       "std         7.873662       9.389418       9.389418       3.000006   \n",
       "min         8.000000       8.000000       8.000000       2.000000   \n",
       "25%         8.000000       8.000000       8.000000       2.000000   \n",
       "50%         8.000000      16.000000      16.000000       5.000000   \n",
       "75%        16.000000      32.000000      32.000000       8.000000   \n",
       "max        32.000000      32.000000      32.000000       8.000000   \n",
       "\n",
       "                 VWM            VWN           STRM           STRN  \\\n",
       "count  241600.000000  241600.000000  241600.000000  241600.000000   \n",
       "mean        2.448609       2.448609       0.500000       0.500000   \n",
       "std         1.953759       1.953759       0.500001       0.500001   \n",
       "min         1.000000       1.000000       0.000000       0.000000   \n",
       "25%         1.000000       1.000000       0.000000       0.000000   \n",
       "50%         2.000000       2.000000       0.500000       0.500000   \n",
       "75%         4.000000       4.000000       1.000000       1.000000   \n",
       "max         8.000000       8.000000       1.000000       1.000000   \n",
       "\n",
       "                  SA             SB      Run1 (ms)      Run2 (ms)  \\\n",
       "count  241600.000000  241600.000000  241600.000000  241600.000000   \n",
       "mean        0.500000       0.500000     217.647852     217.579536   \n",
       "std         0.500001       0.500001     369.012422     368.677309   \n",
       "min         0.000000       0.000000      13.290000      13.250000   \n",
       "25%         0.000000       0.000000      40.660000      40.710000   \n",
       "50%         0.500000       0.500000      69.825000      69.930000   \n",
       "75%         1.000000       1.000000     228.530000     228.310000   \n",
       "max         1.000000       1.000000    3339.630000    3375.420000   \n",
       "\n",
       "           Run3 (ms)      Run4 (ms)  \n",
       "count  241600.000000  241600.000000  \n",
       "mean      217.532756     217.527669  \n",
       "std       368.655118     368.677413  \n",
       "min        13.360000      13.370000  \n",
       "25%        40.660000      40.640000  \n",
       "50%        69.790000      69.820000  \n",
       "75%       228.320000     228.320000  \n",
       "max      3397.080000    3361.710000  "
      ]
     },
     "execution_count": 131,
     "metadata": {},
     "output_type": "execute_result"
    }
   ],
   "source": [
    "dataset.describe()"
   ]
  },
  {
   "cell_type": "code",
   "execution_count": 132,
   "metadata": {},
   "outputs": [
    {
     "data": {
      "image/png": "[encoded data removed]",
      "text/plain": [
       "<Figure size 1224x1224 with 20 Axes>"
      ]
     },
     "metadata": {
      "needs_background": "light"
     },
     "output_type": "display_data"
    }
   ],
   "source": [
    "dataset['avg_runtime'] = dataset.iloc[:,14:18].mean(axis=1)\n",
    "#taking mean of 4 variables\n",
    "sgemm = pd.DataFrame(dataset)\n",
    "sgemm\n",
    "sgemm['avg_runtime'] = sgemm.iloc[:,14:18].mean(axis=1)\n",
    "sgemm.hist(bins = 6 , figsize=(17,17), color = 'maroon');"
   ]
  },
  {
   "cell_type": "code",
   "execution_count": 133,
   "metadata": {},
   "outputs": [
    {
     "data": {
      "text/plain": [
       "Text(0.5, 0, 'Average Runtime')"
      ]
     },
     "execution_count": 133,
     "metadata": {},
     "output_type": "execute_result"
    },
    {
     "data": {
      "image/png": "[encoded data removed]",
      "text/plain": [
       "<Figure size 792x576 with 1 Axes>"
      ]
     },
     "metadata": {
      "needs_background": "light"
     },
     "output_type": "display_data"
    }
   ],
   "source": [
    "#boxplot\n",
    "plt.figure(figsize=(11,8))\n",
    "sb.boxplot(x=\"avg_runtime\", data=sgemm)\n",
    "plt.xlabel('Average Runtime', fontsize=14)"
   ]
  },
  {
   "cell_type": "code",
   "execution_count": 134,
   "metadata": {},
   "outputs": [
    {
     "data": {
      "image/png": "[encoded data removed]",
      "text/plain": [
       "<Figure size 1296x1296 with 2 Axes>"
      ]
     },
     "metadata": {
      "needs_background": "light"
     },
     "output_type": "display_data"
    }
   ],
   "source": [
    "#Plotting correlation matrix\n",
    "sgemmvar = ['MWG', 'NWG', 'KWG', 'MDIMC', 'NDIMC', 'MDIMA', 'NDIMB', 'KWI', 'VWM',\n",
    "       'VWN', 'STRM', 'STRN', 'SA', 'SB', 'avg_runtime']\n",
    "sgemmcorr= sgemm[sgemmvar]\n",
    "corr=sgemmcorr.corr()\n",
    "plt.figure(figsize = (18,18))\n",
    "sb.set(font_scale=1)\n",
    "sb.heatmap(corr, cbar = True, annot=True, square = True, fmt = '.2f', xticklabels=sgemmvar, yticklabels=sgemmvar, cmap=\"Blues\",)\n",
    "plt.show();"
   ]
  },
  {
   "cell_type": "code",
   "execution_count": 135,
   "metadata": {},
   "outputs": [
    {
     "name": "stdout",
     "output_type": "stream",
     "text": [
      "<class 'pandas.core.frame.DataFrame'>\n",
      "Int64Index: 229520 entries, 0 to 241598\n",
      "Data columns (total 19 columns):\n",
      "MWG            229520 non-null int64\n",
      "NWG            229520 non-null int64\n",
      "KWG            229520 non-null int64\n",
      "MDIMC          229520 non-null int64\n",
      "NDIMC          229520 non-null int64\n",
      "MDIMA          229520 non-null int64\n",
      "NDIMB          229520 non-null int64\n",
      "KWI            229520 non-null int64\n",
      "VWM            229520 non-null int64\n",
      "VWN            229520 non-null int64\n",
      "STRM           229520 non-null int64\n",
      "STRN           229520 non-null int64\n",
      "SA             229520 non-null int64\n",
      "SB             229520 non-null int64\n",
      "Run1 (ms)      229520 non-null float64\n",
      "Run2 (ms)      229520 non-null float64\n",
      "Run3 (ms)      229520 non-null float64\n",
      "Run4 (ms)      229520 non-null float64\n",
      "avg_runtime    229520 non-null float64\n",
      "dtypes: float64(5), int64(14)\n",
      "memory usage: 35.0 MB\n"
     ]
    }
   ],
   "source": [
    "#Taking 2sigmas\n",
    "sgemm1 = sgemm.drop(sgemm[(sgemm.avg_runtime>sgemm.avg_runtime.quantile(0.975))].index)\n",
    "sgemm2 = sgemm1.drop(sgemm1[(sgemm1.avg_runtime<sgemm.avg_runtime.quantile(0.025))].index) \n",
    "sgemm2.info()"
   ]
  },
  {
   "cell_type": "code",
   "execution_count": 136,
   "metadata": {
    "scrolled": true
   },
   "outputs": [
    {
     "data": {
      "text/html": [
       "<div>\n",
       "<style scoped>\n",
       "    .dataframe tbody tr th:only-of-type {\n",
       "        vertical-align: middle;\n",
       "    }\n",
       "\n",
       "    .dataframe tbody tr th {\n",
       "        vertical-align: top;\n",
       "    }\n",
       "\n",
       "    .dataframe thead th {\n",
       "        text-align: right;\n",
       "    }\n",
       "</style>\n",
       "<table border=\"1\" class=\"dataframe\">\n",
       "  <thead>\n",
       "    <tr style=\"text-align: right;\">\n",
       "      <th></th>\n",
       "      <th>MWG</th>\n",
       "      <th>NWG</th>\n",
       "      <th>KWG</th>\n",
       "      <th>MDIMC</th>\n",
       "      <th>NDIMC</th>\n",
       "      <th>MDIMA</th>\n",
       "      <th>NDIMB</th>\n",
       "      <th>KWI</th>\n",
       "      <th>VWM</th>\n",
       "      <th>VWN</th>\n",
       "      <th>STRM</th>\n",
       "      <th>STRN</th>\n",
       "      <th>SA</th>\n",
       "      <th>SB</th>\n",
       "      <th>Run1 (ms)</th>\n",
       "      <th>Run2 (ms)</th>\n",
       "      <th>Run3 (ms)</th>\n",
       "      <th>Run4 (ms)</th>\n",
       "      <th>avg_runtime</th>\n",
       "    </tr>\n",
       "  </thead>\n",
       "  <tbody>\n",
       "    <tr>\n",
       "      <td>count</td>\n",
       "      <td>229520.000000</td>\n",
       "      <td>229520.000000</td>\n",
       "      <td>229520.000000</td>\n",
       "      <td>229520.000000</td>\n",
       "      <td>229520.000000</td>\n",
       "      <td>229520.000000</td>\n",
       "      <td>229520.000000</td>\n",
       "      <td>229520.000000</td>\n",
       "      <td>229520.000000</td>\n",
       "      <td>229520.000000</td>\n",
       "      <td>229520.000000</td>\n",
       "      <td>229520.000000</td>\n",
       "      <td>229520.000000</td>\n",
       "      <td>229520.000000</td>\n",
       "      <td>229520.000000</td>\n",
       "      <td>229520.000000</td>\n",
       "      <td>229520.000000</td>\n",
       "      <td>229520.000000</td>\n",
       "      <td>229520.000000</td>\n",
       "    </tr>\n",
       "    <tr>\n",
       "      <td>mean</td>\n",
       "      <td>79.503799</td>\n",
       "      <td>79.212130</td>\n",
       "      <td>25.532659</td>\n",
       "      <td>14.048100</td>\n",
       "      <td>13.960404</td>\n",
       "      <td>17.282921</td>\n",
       "      <td>17.278913</td>\n",
       "      <td>4.984864</td>\n",
       "      <td>2.429078</td>\n",
       "      <td>2.417005</td>\n",
       "      <td>0.495674</td>\n",
       "      <td>0.498671</td>\n",
       "      <td>0.481322</td>\n",
       "      <td>0.486171</td>\n",
       "      <td>176.062995</td>\n",
       "      <td>176.046375</td>\n",
       "      <td>176.002530</td>\n",
       "      <td>175.993503</td>\n",
       "      <td>176.026351</td>\n",
       "    </tr>\n",
       "    <tr>\n",
       "      <td>std</td>\n",
       "      <td>42.590214</td>\n",
       "      <td>42.551021</td>\n",
       "      <td>7.851829</td>\n",
       "      <td>7.884239</td>\n",
       "      <td>7.836359</td>\n",
       "      <td>9.366788</td>\n",
       "      <td>9.365922</td>\n",
       "      <td>2.999968</td>\n",
       "      <td>1.951373</td>\n",
       "      <td>1.942145</td>\n",
       "      <td>0.499982</td>\n",
       "      <td>0.499999</td>\n",
       "      <td>0.499652</td>\n",
       "      <td>0.499810</td>\n",
       "      <td>223.598338</td>\n",
       "      <td>223.383485</td>\n",
       "      <td>223.381709</td>\n",
       "      <td>223.381412</td>\n",
       "      <td>223.430831</td>\n",
       "    </tr>\n",
       "    <tr>\n",
       "      <td>min</td>\n",
       "      <td>16.000000</td>\n",
       "      <td>16.000000</td>\n",
       "      <td>16.000000</td>\n",
       "      <td>8.000000</td>\n",
       "      <td>8.000000</td>\n",
       "      <td>8.000000</td>\n",
       "      <td>8.000000</td>\n",
       "      <td>2.000000</td>\n",
       "      <td>1.000000</td>\n",
       "      <td>1.000000</td>\n",
       "      <td>0.000000</td>\n",
       "      <td>0.000000</td>\n",
       "      <td>0.000000</td>\n",
       "      <td>0.000000</td>\n",
       "      <td>22.310000</td>\n",
       "      <td>22.110000</td>\n",
       "      <td>22.620000</td>\n",
       "      <td>22.340000</td>\n",
       "      <td>23.430000</td>\n",
       "    </tr>\n",
       "    <tr>\n",
       "      <td>25%</td>\n",
       "      <td>32.000000</td>\n",
       "      <td>32.000000</td>\n",
       "      <td>16.000000</td>\n",
       "      <td>8.000000</td>\n",
       "      <td>8.000000</td>\n",
       "      <td>8.000000</td>\n",
       "      <td>8.000000</td>\n",
       "      <td>2.000000</td>\n",
       "      <td>1.000000</td>\n",
       "      <td>1.000000</td>\n",
       "      <td>0.000000</td>\n",
       "      <td>0.000000</td>\n",
       "      <td>0.000000</td>\n",
       "      <td>0.000000</td>\n",
       "      <td>41.400000</td>\n",
       "      <td>41.470000</td>\n",
       "      <td>41.410000</td>\n",
       "      <td>41.380000</td>\n",
       "      <td>41.410000</td>\n",
       "    </tr>\n",
       "    <tr>\n",
       "      <td>50%</td>\n",
       "      <td>64.000000</td>\n",
       "      <td>64.000000</td>\n",
       "      <td>32.000000</td>\n",
       "      <td>8.000000</td>\n",
       "      <td>8.000000</td>\n",
       "      <td>16.000000</td>\n",
       "      <td>16.000000</td>\n",
       "      <td>2.000000</td>\n",
       "      <td>2.000000</td>\n",
       "      <td>2.000000</td>\n",
       "      <td>0.000000</td>\n",
       "      <td>0.000000</td>\n",
       "      <td>0.000000</td>\n",
       "      <td>0.000000</td>\n",
       "      <td>69.825000</td>\n",
       "      <td>69.930000</td>\n",
       "      <td>69.790000</td>\n",
       "      <td>69.820000</td>\n",
       "      <td>69.790000</td>\n",
       "    </tr>\n",
       "    <tr>\n",
       "      <td>75%</td>\n",
       "      <td>128.000000</td>\n",
       "      <td>128.000000</td>\n",
       "      <td>32.000000</td>\n",
       "      <td>16.000000</td>\n",
       "      <td>16.000000</td>\n",
       "      <td>32.000000</td>\n",
       "      <td>32.000000</td>\n",
       "      <td>8.000000</td>\n",
       "      <td>4.000000</td>\n",
       "      <td>4.000000</td>\n",
       "      <td>1.000000</td>\n",
       "      <td>1.000000</td>\n",
       "      <td>1.000000</td>\n",
       "      <td>1.000000</td>\n",
       "      <td>217.010000</td>\n",
       "      <td>216.250000</td>\n",
       "      <td>216.270000</td>\n",
       "      <td>216.330000</td>\n",
       "      <td>216.623125</td>\n",
       "    </tr>\n",
       "    <tr>\n",
       "      <td>max</td>\n",
       "      <td>128.000000</td>\n",
       "      <td>128.000000</td>\n",
       "      <td>32.000000</td>\n",
       "      <td>32.000000</td>\n",
       "      <td>32.000000</td>\n",
       "      <td>32.000000</td>\n",
       "      <td>32.000000</td>\n",
       "      <td>8.000000</td>\n",
       "      <td>8.000000</td>\n",
       "      <td>8.000000</td>\n",
       "      <td>1.000000</td>\n",
       "      <td>1.000000</td>\n",
       "      <td>1.000000</td>\n",
       "      <td>1.000000</td>\n",
       "      <td>1176.460000</td>\n",
       "      <td>1174.300000</td>\n",
       "      <td>1173.700000</td>\n",
       "      <td>1173.470000</td>\n",
       "      <td>1170.632500</td>\n",
       "    </tr>\n",
       "  </tbody>\n",
       "</table>\n",
       "</div>"
      ],
      "text/plain": [
       "                 MWG            NWG            KWG          MDIMC  \\\n",
       "count  229520.000000  229520.000000  229520.000000  229520.000000   \n",
       "mean       79.503799      79.212130      25.532659      14.048100   \n",
       "std        42.590214      42.551021       7.851829       7.884239   \n",
       "min        16.000000      16.000000      16.000000       8.000000   \n",
       "25%        32.000000      32.000000      16.000000       8.000000   \n",
       "50%        64.000000      64.000000      32.000000       8.000000   \n",
       "75%       128.000000     128.000000      32.000000      16.000000   \n",
       "max       128.000000     128.000000      32.000000      32.000000   \n",
       "\n",
       "               NDIMC          MDIMA          NDIMB            KWI  \\\n",
       "count  229520.000000  229520.000000  229520.000000  229520.000000   \n",
       "mean       13.960404      17.282921      17.278913       4.984864   \n",
       "std         7.836359       9.366788       9.365922       2.999968   \n",
       "min         8.000000       8.000000       8.000000       2.000000   \n",
       "25%         8.000000       8.000000       8.000000       2.000000   \n",
       "50%         8.000000      16.000000      16.000000       2.000000   \n",
       "75%        16.000000      32.000000      32.000000       8.000000   \n",
       "max        32.000000      32.000000      32.000000       8.000000   \n",
       "\n",
       "                 VWM            VWN           STRM           STRN  \\\n",
       "count  229520.000000  229520.000000  229520.000000  229520.000000   \n",
       "mean        2.429078       2.417005       0.495674       0.498671   \n",
       "std         1.951373       1.942145       0.499982       0.499999   \n",
       "min         1.000000       1.000000       0.000000       0.000000   \n",
       "25%         1.000000       1.000000       0.000000       0.000000   \n",
       "50%         2.000000       2.000000       0.000000       0.000000   \n",
       "75%         4.000000       4.000000       1.000000       1.000000   \n",
       "max         8.000000       8.000000       1.000000       1.000000   \n",
       "\n",
       "                  SA             SB      Run1 (ms)      Run2 (ms)  \\\n",
       "count  229520.000000  229520.000000  229520.000000  229520.000000   \n",
       "mean        0.481322       0.486171     176.062995     176.046375   \n",
       "std         0.499652       0.499810     223.598338     223.383485   \n",
       "min         0.000000       0.000000      22.310000      22.110000   \n",
       "25%         0.000000       0.000000      41.400000      41.470000   \n",
       "50%         0.000000       0.000000      69.825000      69.930000   \n",
       "75%         1.000000       1.000000     217.010000     216.250000   \n",
       "max         1.000000       1.000000    1176.460000    1174.300000   \n",
       "\n",
       "           Run3 (ms)      Run4 (ms)    avg_runtime  \n",
       "count  229520.000000  229520.000000  229520.000000  \n",
       "mean      176.002530     175.993503     176.026351  \n",
       "std       223.381709     223.381412     223.430831  \n",
       "min        22.620000      22.340000      23.430000  \n",
       "25%        41.410000      41.380000      41.410000  \n",
       "50%        69.790000      69.820000      69.790000  \n",
       "75%       216.270000     216.330000     216.623125  \n",
       "max      1173.700000    1173.470000    1170.632500  "
      ]
     },
     "execution_count": 136,
     "metadata": {},
     "output_type": "execute_result"
    }
   ],
   "source": [
    "sgemm2.describe()"
   ]
  },
  {
   "cell_type": "markdown",
   "metadata": {},
   "source": [
    "# Support Vector Machines"
   ]
  },
  {
   "cell_type": "markdown",
   "metadata": {},
   "source": [
    "INITIAL SETUP : With default parameter values <br>\n",
    "Kernel - Linear, Gaussian & Polynomial"
   ]
  },
  {
   "cell_type": "code",
   "execution_count": 137,
   "metadata": {},
   "outputs": [],
   "source": [
    "#Turning this dataset into a Classification problem\n",
    "x = sgemm2.iloc[:,:-5]\n",
    "temp = sgemm2['avg_runtime'].quantile(0.5)\n",
    "y = sgemm2['avg_runtime'].apply(lambda x: 1 if x > temp else 0)"
   ]
  },
  {
   "cell_type": "code",
   "execution_count": 138,
   "metadata": {},
   "outputs": [
    {
     "data": {
      "text/plain": [
       "count    229520.000000\n",
       "mean          0.499996\n",
       "std           0.500001\n",
       "min           0.000000\n",
       "25%           0.000000\n",
       "50%           0.000000\n",
       "75%           1.000000\n",
       "max           1.000000\n",
       "Name: avg_runtime, dtype: float64"
      ]
     },
     "execution_count": 138,
     "metadata": {},
     "output_type": "execute_result"
    }
   ],
   "source": [
    "y.describe()"
   ]
  },
  {
   "cell_type": "code",
   "execution_count": 139,
   "metadata": {},
   "outputs": [],
   "source": [
    "x1_train, x1_test, y1_train, y1_test = train_test_split(x, y, test_size = 0.3, random_state = 0)"
   ]
  },
  {
   "cell_type": "code",
   "execution_count": 140,
   "metadata": {},
   "outputs": [],
   "source": [
    "scaler = StandardScaler()\n",
    "x1_train=scaler.fit_transform(x1_train)\n",
    "x1_test=scaler.transform(x1_test)"
   ]
  },
  {
   "cell_type": "code",
   "execution_count": 179,
   "metadata": {},
   "outputs": [],
   "source": [
    "model = SVC(kernel='linear')"
   ]
  },
  {
   "cell_type": "code",
   "execution_count": 16,
   "metadata": {},
   "outputs": [
    {
     "name": "stdout",
     "output_type": "stream",
     "text": [
      "CPU times: user 20min 41s, sys: 4.08 s, total: 20min 45s\n",
      "Wall time: 20min 47s\n"
     ]
    },
    {
     "data": {
      "text/plain": [
       "SVC(C=1.0, break_ties=False, cache_size=200, class_weight=None, coef0=0.0,\n",
       "    decision_function_shape='ovr', degree=3, gamma='scale', kernel='linear',\n",
       "    max_iter=-1, probability=False, random_state=None, shrinking=True,\n",
       "    tol=0.001, verbose=False)"
      ]
     },
     "execution_count": 16,
     "metadata": {},
     "output_type": "execute_result"
    }
   ],
   "source": [
    "%%time\n",
    "model.fit(x1_train,y1_train)"
   ]
  },
  {
   "cell_type": "code",
   "execution_count": 17,
   "metadata": {},
   "outputs": [
    {
     "name": "stdout",
     "output_type": "stream",
     "text": [
      "Accuracy: 0.8234866968746369\n",
      "Confusion Matrix: \n",
      " [[29293  5083]\n",
      " [ 7071 27409]]\n",
      "Classification Report: \n",
      "               precision    recall  f1-score   support\n",
      "\n",
      "           0       0.81      0.85      0.83     34376\n",
      "           1       0.84      0.79      0.82     34480\n",
      "\n",
      "    accuracy                           0.82     68856\n",
      "   macro avg       0.82      0.82      0.82     68856\n",
      "weighted avg       0.82      0.82      0.82     68856\n",
      "\n"
     ]
    }
   ],
   "source": [
    "predictions = model.predict(x1_test)\n",
    "print('Accuracy:',accuracy_score(y1_test,predictions))\n",
    "print('Confusion Matrix: \\n',confusion_matrix(y1_test,predictions))\n",
    "print('Classification Report: \\n',classification_report(y1_test,predictions))"
   ]
  },
  {
   "cell_type": "code",
   "execution_count": 18,
   "metadata": {},
   "outputs": [],
   "source": [
    "model = SVC(kernel='rbf')"
   ]
  },
  {
   "cell_type": "code",
   "execution_count": 19,
   "metadata": {
    "scrolled": true
   },
   "outputs": [
    {
     "name": "stdout",
     "output_type": "stream",
     "text": [
      "CPU times: user 6min 44s, sys: 1.14 s, total: 6min 45s\n",
      "Wall time: 6min 46s\n"
     ]
    },
    {
     "data": {
      "text/plain": [
       "SVC(C=1.0, break_ties=False, cache_size=200, class_weight=None, coef0=0.0,\n",
       "    decision_function_shape='ovr', degree=3, gamma='scale', kernel='rbf',\n",
       "    max_iter=-1, probability=False, random_state=None, shrinking=True,\n",
       "    tol=0.001, verbose=False)"
      ]
     },
     "execution_count": 19,
     "metadata": {},
     "output_type": "execute_result"
    }
   ],
   "source": [
    "%%time\n",
    "model.fit(x1_train,y1_train)"
   ]
  },
  {
   "cell_type": "code",
   "execution_count": 20,
   "metadata": {},
   "outputs": [
    {
     "name": "stdout",
     "output_type": "stream",
     "text": [
      "Accuracy: 0.9575345648890438\n",
      "Confusion Matrix: \n",
      " [[33501   875]\n",
      " [ 2049 32431]]\n",
      "Classification Report: \n",
      "               precision    recall  f1-score   support\n",
      "\n",
      "           0       0.94      0.97      0.96     34376\n",
      "           1       0.97      0.94      0.96     34480\n",
      "\n",
      "    accuracy                           0.96     68856\n",
      "   macro avg       0.96      0.96      0.96     68856\n",
      "weighted avg       0.96      0.96      0.96     68856\n",
      "\n"
     ]
    }
   ],
   "source": [
    "predictions = model.predict(x1_test)\n",
    "print('Accuracy:',accuracy_score(y1_test,predictions))\n",
    "print('Confusion Matrix: \\n',confusion_matrix(y1_test,predictions))\n",
    "print('Classification Report: \\n',classification_report(y1_test,predictions))"
   ]
  },
  {
   "cell_type": "code",
   "execution_count": 21,
   "metadata": {},
   "outputs": [],
   "source": [
    "model = SVC(kernel='poly')"
   ]
  },
  {
   "cell_type": "code",
   "execution_count": 22,
   "metadata": {},
   "outputs": [
    {
     "name": "stdout",
     "output_type": "stream",
     "text": [
      "CPU times: user 8min 39s, sys: 2.31 s, total: 8min 41s\n",
      "Wall time: 3h 4min 42s\n"
     ]
    },
    {
     "data": {
      "text/plain": [
       "SVC(C=1.0, break_ties=False, cache_size=200, class_weight=None, coef0=0.0,\n",
       "    decision_function_shape='ovr', degree=3, gamma='scale', kernel='poly',\n",
       "    max_iter=-1, probability=False, random_state=None, shrinking=True,\n",
       "    tol=0.001, verbose=False)"
      ]
     },
     "execution_count": 22,
     "metadata": {},
     "output_type": "execute_result"
    }
   ],
   "source": [
    "%%time\n",
    "model.fit(x1_train,y1_train)"
   ]
  },
  {
   "cell_type": "code",
   "execution_count": 23,
   "metadata": {},
   "outputs": [
    {
     "name": "stdout",
     "output_type": "stream",
     "text": [
      "Accuracy: 0.9045108632508423\n",
      "Confusion Matrix: \n",
      " [[32398  1978]\n",
      " [ 4597 29883]]\n",
      "Classification Report: \n",
      "               precision    recall  f1-score   support\n",
      "\n",
      "           0       0.88      0.94      0.91     34376\n",
      "           1       0.94      0.87      0.90     34480\n",
      "\n",
      "    accuracy                           0.90     68856\n",
      "   macro avg       0.91      0.90      0.90     68856\n",
      "weighted avg       0.91      0.90      0.90     68856\n",
      "\n"
     ]
    }
   ],
   "source": [
    "predictions = model.predict(x1_test)\n",
    "print('Accuracy:',accuracy_score(y1_test,predictions))\n",
    "print('Confusion Matrix: \\n',confusion_matrix(y1_test,predictions))\n",
    "print('Classification Report: \\n',classification_report(y1_test,predictions))"
   ]
  },
  {
   "cell_type": "markdown",
   "metadata": {},
   "source": [
    "#Tuning the Hyperparameters of SVM"
   ]
  },
  {
   "cell_type": "code",
   "execution_count": 38,
   "metadata": {},
   "outputs": [],
   "source": [
    "sgemm3 = sgemm2.sample(int(0.1*len(sgemm2)))\n",
    "x = sgemm3.iloc[:,:-5]\n",
    "temp = sgemm3['avg_runtime'].quantile(0.5)\n",
    "y = sgemm3['avg_runtime'].apply(lambda x: 1 if x > temp else 0)\n",
    "x_train, x_test, y_train, y_test = train_test_split(x, y, test_size = 0.3, random_state = 0)\n",
    "scaler = StandardScaler()\n",
    "x_train=scaler.fit_transform(x_train)\n",
    "x_test=scaler.transform(x_test)"
   ]
  },
  {
   "cell_type": "code",
   "execution_count": 39,
   "metadata": {},
   "outputs": [
    {
     "data": {
      "text/plain": [
       "16066"
      ]
     },
     "execution_count": 39,
     "metadata": {},
     "output_type": "execute_result"
    }
   ],
   "source": [
    "len(y_train)"
   ]
  },
  {
   "cell_type": "markdown",
   "metadata": {},
   "source": [
    "Linear Kernel"
   ]
  },
  {
   "cell_type": "code",
   "execution_count": 26,
   "metadata": {},
   "outputs": [],
   "source": [
    "param_grid = {'C': [1,10,100], 'gamma': [0.1,0.01,0.001], 'kernel': ['linear']} "
   ]
  },
  {
   "cell_type": "code",
   "execution_count": 27,
   "metadata": {},
   "outputs": [],
   "source": [
    "grid = GridSearchCV(SVC(),param_grid,refit=True,verbose=3)"
   ]
  },
  {
   "cell_type": "code",
   "execution_count": 28,
   "metadata": {
    "scrolled": true
   },
   "outputs": [
    {
     "name": "stdout",
     "output_type": "stream",
     "text": [
      "Fitting 5 folds for each of 9 candidates, totalling 45 fits\n",
      "[CV] C=1, gamma=0.1, kernel=linear ...................................\n"
     ]
    },
    {
     "name": "stderr",
     "output_type": "stream",
     "text": [
      "[Parallel(n_jobs=1)]: Using backend SequentialBackend with 1 concurrent workers.\n"
     ]
    },
    {
     "name": "stdout",
     "output_type": "stream",
     "text": [
      "[CV] ....... C=1, gamma=0.1, kernel=linear, score=0.836, total=   6.2s\n",
      "[CV] C=1, gamma=0.1, kernel=linear ...................................\n"
     ]
    },
    {
     "name": "stderr",
     "output_type": "stream",
     "text": [
      "[Parallel(n_jobs=1)]: Done   1 out of   1 | elapsed:    6.2s remaining:    0.0s\n"
     ]
    },
    {
     "name": "stdout",
     "output_type": "stream",
     "text": [
      "[CV] ....... C=1, gamma=0.1, kernel=linear, score=0.834, total=   6.0s\n",
      "[CV] C=1, gamma=0.1, kernel=linear ...................................\n"
     ]
    },
    {
     "name": "stderr",
     "output_type": "stream",
     "text": [
      "[Parallel(n_jobs=1)]: Done   2 out of   2 | elapsed:   12.2s remaining:    0.0s\n"
     ]
    },
    {
     "name": "stdout",
     "output_type": "stream",
     "text": [
      "[CV] ....... C=1, gamma=0.1, kernel=linear, score=0.832, total=   6.0s\n",
      "[CV] C=1, gamma=0.1, kernel=linear ...................................\n",
      "[CV] ....... C=1, gamma=0.1, kernel=linear, score=0.842, total=   6.0s\n",
      "[CV] C=1, gamma=0.1, kernel=linear ...................................\n",
      "[CV] ....... C=1, gamma=0.1, kernel=linear, score=0.841, total=   6.0s\n",
      "[CV] C=1, gamma=0.01, kernel=linear ..................................\n",
      "[CV] ...... C=1, gamma=0.01, kernel=linear, score=0.836, total=   5.9s\n",
      "[CV] C=1, gamma=0.01, kernel=linear ..................................\n",
      "[CV] ...... C=1, gamma=0.01, kernel=linear, score=0.834, total=   6.1s\n",
      "[CV] C=1, gamma=0.01, kernel=linear ..................................\n",
      "[CV] ...... C=1, gamma=0.01, kernel=linear, score=0.832, total=   6.1s\n",
      "[CV] C=1, gamma=0.01, kernel=linear ..................................\n",
      "[CV] ...... C=1, gamma=0.01, kernel=linear, score=0.842, total=   6.1s\n",
      "[CV] C=1, gamma=0.01, kernel=linear ..................................\n",
      "[CV] ...... C=1, gamma=0.01, kernel=linear, score=0.841, total=   5.8s\n",
      "[CV] C=1, gamma=0.001, kernel=linear .................................\n",
      "[CV] ..... C=1, gamma=0.001, kernel=linear, score=0.836, total=   6.2s\n",
      "[CV] C=1, gamma=0.001, kernel=linear .................................\n",
      "[CV] ..... C=1, gamma=0.001, kernel=linear, score=0.834, total=   6.3s\n",
      "[CV] C=1, gamma=0.001, kernel=linear .................................\n",
      "[CV] ..... C=1, gamma=0.001, kernel=linear, score=0.832, total=   6.3s\n",
      "[CV] C=1, gamma=0.001, kernel=linear .................................\n",
      "[CV] ..... C=1, gamma=0.001, kernel=linear, score=0.842, total=   6.2s\n",
      "[CV] C=1, gamma=0.001, kernel=linear .................................\n",
      "[CV] ..... C=1, gamma=0.001, kernel=linear, score=0.841, total=   6.1s\n",
      "[CV] C=10, gamma=0.1, kernel=linear ..................................\n",
      "[CV] ...... C=10, gamma=0.1, kernel=linear, score=0.836, total=  20.5s\n",
      "[CV] C=10, gamma=0.1, kernel=linear ..................................\n",
      "[CV] ...... C=10, gamma=0.1, kernel=linear, score=0.835, total=  21.4s\n",
      "[CV] C=10, gamma=0.1, kernel=linear ..................................\n",
      "[CV] ...... C=10, gamma=0.1, kernel=linear, score=0.832, total=  20.6s\n",
      "[CV] C=10, gamma=0.1, kernel=linear ..................................\n",
      "[CV] ...... C=10, gamma=0.1, kernel=linear, score=0.842, total=  20.4s\n",
      "[CV] C=10, gamma=0.1, kernel=linear ..................................\n",
      "[CV] ...... C=10, gamma=0.1, kernel=linear, score=0.841, total=  21.1s\n",
      "[CV] C=10, gamma=0.01, kernel=linear .................................\n",
      "[CV] ..... C=10, gamma=0.01, kernel=linear, score=0.836, total=  21.2s\n",
      "[CV] C=10, gamma=0.01, kernel=linear .................................\n",
      "[CV] ..... C=10, gamma=0.01, kernel=linear, score=0.835, total=  21.1s\n",
      "[CV] C=10, gamma=0.01, kernel=linear .................................\n",
      "[CV] ..... C=10, gamma=0.01, kernel=linear, score=0.832, total=  20.4s\n",
      "[CV] C=10, gamma=0.01, kernel=linear .................................\n",
      "[CV] ..... C=10, gamma=0.01, kernel=linear, score=0.842, total=  21.0s\n",
      "[CV] C=10, gamma=0.01, kernel=linear .................................\n",
      "[CV] ..... C=10, gamma=0.01, kernel=linear, score=0.841, total=  21.1s\n",
      "[CV] C=10, gamma=0.001, kernel=linear ................................\n",
      "[CV] .... C=10, gamma=0.001, kernel=linear, score=0.836, total=  20.8s\n",
      "[CV] C=10, gamma=0.001, kernel=linear ................................\n",
      "[CV] .... C=10, gamma=0.001, kernel=linear, score=0.835, total=  21.1s\n",
      "[CV] C=10, gamma=0.001, kernel=linear ................................\n",
      "[CV] .... C=10, gamma=0.001, kernel=linear, score=0.832, total=  20.9s\n",
      "[CV] C=10, gamma=0.001, kernel=linear ................................\n",
      "[CV] .... C=10, gamma=0.001, kernel=linear, score=0.842, total=  21.0s\n",
      "[CV] C=10, gamma=0.001, kernel=linear ................................\n",
      "[CV] .... C=10, gamma=0.001, kernel=linear, score=0.841, total=  20.9s\n",
      "[CV] C=100, gamma=0.1, kernel=linear .................................\n",
      "[CV] ..... C=100, gamma=0.1, kernel=linear, score=0.836, total= 2.3min\n",
      "[CV] C=100, gamma=0.1, kernel=linear .................................\n",
      "[CV] ..... C=100, gamma=0.1, kernel=linear, score=0.834, total= 2.4min\n",
      "[CV] C=100, gamma=0.1, kernel=linear .................................\n",
      "[CV] ..... C=100, gamma=0.1, kernel=linear, score=0.832, total= 2.5min\n",
      "[CV] C=100, gamma=0.1, kernel=linear .................................\n",
      "[CV] ..... C=100, gamma=0.1, kernel=linear, score=0.842, total= 2.5min\n",
      "[CV] C=100, gamma=0.1, kernel=linear .................................\n",
      "[CV] ..... C=100, gamma=0.1, kernel=linear, score=0.841, total= 2.5min\n",
      "[CV] C=100, gamma=0.01, kernel=linear ................................\n",
      "[CV] .... C=100, gamma=0.01, kernel=linear, score=0.836, total= 2.6min\n",
      "[CV] C=100, gamma=0.01, kernel=linear ................................\n",
      "[CV] .... C=100, gamma=0.01, kernel=linear, score=0.834, total= 2.6min\n",
      "[CV] C=100, gamma=0.01, kernel=linear ................................\n",
      "[CV] .... C=100, gamma=0.01, kernel=linear, score=0.832, total= 2.6min\n",
      "[CV] C=100, gamma=0.01, kernel=linear ................................\n",
      "[CV] .... C=100, gamma=0.01, kernel=linear, score=0.842, total=32.8min\n",
      "[CV] C=100, gamma=0.01, kernel=linear ................................\n",
      "[CV] .... C=100, gamma=0.01, kernel=linear, score=0.841, total= 2.2min\n",
      "[CV] C=100, gamma=0.001, kernel=linear ...............................\n",
      "[CV] ... C=100, gamma=0.001, kernel=linear, score=0.836, total= 2.1min\n",
      "[CV] C=100, gamma=0.001, kernel=linear ...............................\n",
      "[CV] ... C=100, gamma=0.001, kernel=linear, score=0.834, total= 2.1min\n",
      "[CV] C=100, gamma=0.001, kernel=linear ...............................\n",
      "[CV] ... C=100, gamma=0.001, kernel=linear, score=0.832, total= 2.1min\n",
      "[CV] C=100, gamma=0.001, kernel=linear ...............................\n",
      "[CV] ... C=100, gamma=0.001, kernel=linear, score=0.842, total= 2.1min\n",
      "[CV] C=100, gamma=0.001, kernel=linear ...............................\n",
      "[CV] ... C=100, gamma=0.001, kernel=linear, score=0.841, total= 2.0min\n"
     ]
    },
    {
     "name": "stderr",
     "output_type": "stream",
     "text": [
      "[Parallel(n_jobs=1)]: Done  45 out of  45 | elapsed: 72.1min finished\n"
     ]
    },
    {
     "data": {
      "text/plain": [
       "GridSearchCV(cv=None, error_score=nan,\n",
       "             estimator=SVC(C=1.0, break_ties=False, cache_size=200,\n",
       "                           class_weight=None, coef0=0.0,\n",
       "                           decision_function_shape='ovr', degree=3,\n",
       "                           gamma='scale', kernel='rbf', max_iter=-1,\n",
       "                           probability=False, random_state=None, shrinking=True,\n",
       "                           tol=0.001, verbose=False),\n",
       "             iid='deprecated', n_jobs=None,\n",
       "             param_grid={'C': [1, 10, 100], 'gamma': [0.1, 0.01, 0.001],\n",
       "                         'kernel': ['linear']},\n",
       "             pre_dispatch='2*n_jobs', refit=True, return_train_score=False,\n",
       "             scoring=None, verbose=3)"
      ]
     },
     "execution_count": 28,
     "metadata": {},
     "output_type": "execute_result"
    }
   ],
   "source": [
    "grid.fit(x_train,y_train)"
   ]
  },
  {
   "cell_type": "code",
   "execution_count": 29,
   "metadata": {},
   "outputs": [
    {
     "data": {
      "text/plain": [
       "{'C': 1, 'gamma': 0.1, 'kernel': 'linear'}"
      ]
     },
     "execution_count": 29,
     "metadata": {},
     "output_type": "execute_result"
    }
   ],
   "source": [
    "grid.best_params_"
   ]
  },
  {
   "cell_type": "code",
   "execution_count": 30,
   "metadata": {},
   "outputs": [
    {
     "data": {
      "text/plain": [
       "SVC(C=1, break_ties=False, cache_size=200, class_weight=None, coef0=0.0,\n",
       "    decision_function_shape='ovr', degree=3, gamma=0.1, kernel='linear',\n",
       "    max_iter=-1, probability=False, random_state=None, shrinking=True,\n",
       "    tol=0.001, verbose=False)"
      ]
     },
     "execution_count": 30,
     "metadata": {},
     "output_type": "execute_result"
    }
   ],
   "source": [
    "grid.best_estimator_"
   ]
  },
  {
   "cell_type": "code",
   "execution_count": 31,
   "metadata": {},
   "outputs": [
    {
     "name": "stdout",
     "output_type": "stream",
     "text": [
      "Confusion Matrix: \n",
      " [[2940  456]\n",
      " [ 709 2781]]\n",
      "Classification Report: \n",
      "               precision    recall  f1-score   support\n",
      "\n",
      "           0       0.81      0.87      0.83      3396\n",
      "           1       0.86      0.80      0.83      3490\n",
      "\n",
      "    accuracy                           0.83      6886\n",
      "   macro avg       0.83      0.83      0.83      6886\n",
      "weighted avg       0.83      0.83      0.83      6886\n",
      "\n"
     ]
    }
   ],
   "source": [
    "grid_predictions = grid.predict(x_test)\n",
    "print('Confusion Matrix: \\n', confusion_matrix(y_test,grid_predictions))\n",
    "print('Classification Report: \\n', classification_report(y_test,grid_predictions))"
   ]
  },
  {
   "cell_type": "code",
   "execution_count": 32,
   "metadata": {},
   "outputs": [],
   "source": [
    "model = SVC(C=1,gamma=0.1,kernel='linear')"
   ]
  },
  {
   "cell_type": "code",
   "execution_count": 33,
   "metadata": {},
   "outputs": [
    {
     "name": "stdout",
     "output_type": "stream",
     "text": [
      "CPU times: user 20min 22s, sys: 3.26 s, total: 20min 25s\n",
      "Wall time: 24min 59s\n"
     ]
    },
    {
     "data": {
      "text/plain": [
       "SVC(C=1, break_ties=False, cache_size=200, class_weight=None, coef0=0.0,\n",
       "    decision_function_shape='ovr', degree=3, gamma=0.1, kernel='linear',\n",
       "    max_iter=-1, probability=False, random_state=None, shrinking=True,\n",
       "    tol=0.001, verbose=False)"
      ]
     },
     "execution_count": 33,
     "metadata": {},
     "output_type": "execute_result"
    }
   ],
   "source": [
    "%%time\n",
    "model.fit(x1_train,y1_train)"
   ]
  },
  {
   "cell_type": "code",
   "execution_count": 34,
   "metadata": {},
   "outputs": [
    {
     "name": "stdout",
     "output_type": "stream",
     "text": [
      "Accuracy: 0.8234866968746369\n",
      "Confusion Matrix: \n",
      " [[29293  5083]\n",
      " [ 7071 27409]]\n",
      "Classification Report: \n",
      "               precision    recall  f1-score   support\n",
      "\n",
      "           0       0.81      0.85      0.83     34376\n",
      "           1       0.84      0.79      0.82     34480\n",
      "\n",
      "    accuracy                           0.82     68856\n",
      "   macro avg       0.82      0.82      0.82     68856\n",
      "weighted avg       0.82      0.82      0.82     68856\n",
      "\n"
     ]
    }
   ],
   "source": [
    "predictions = model.predict(x1_test)\n",
    "print('Accuracy:',accuracy_score(y1_test,predictions))\n",
    "print('Confusion Matrix: \\n',confusion_matrix(y1_test,predictions))\n",
    "print('Classification Report: \\n',classification_report(y1_test,predictions))"
   ]
  },
  {
   "cell_type": "code",
   "execution_count": 40,
   "metadata": {},
   "outputs": [
    {
     "name": "stdout",
     "output_type": "stream",
     "text": [
      "Scores:  [0.81507297 0.81964714 0.81960784 0.8211329  0.808061  ]\n",
      "Accuracy: 0.82 (+/- 0.01)\n"
     ]
    }
   ],
   "source": [
    "model = SVC(C=1,gamma=0.1,kernel='linear')\n",
    "scores = cross_val_score(model, x1_train, y1_train, scoring='accuracy', cv=5)\n",
    "print('Scores: ',scores)\n",
    "print(\"Accuracy: %0.2f (+/- %0.2f)\" % (scores.mean(), scores.std() * 2))"
   ]
  },
  {
   "cell_type": "markdown",
   "metadata": {},
   "source": [
    "Gaussian Kernel"
   ]
  },
  {
   "cell_type": "code",
   "execution_count": 141,
   "metadata": {},
   "outputs": [],
   "source": [
    "param_grid = {'C': [1,10,100], 'gamma': [0.1,0.01,0.001], 'kernel': ['rbf']} "
   ]
  },
  {
   "cell_type": "code",
   "execution_count": 142,
   "metadata": {},
   "outputs": [],
   "source": [
    "grid = GridSearchCV(SVC(),param_grid,refit=True,verbose=3)"
   ]
  },
  {
   "cell_type": "code",
   "execution_count": 37,
   "metadata": {
    "scrolled": true
   },
   "outputs": [
    {
     "name": "stdout",
     "output_type": "stream",
     "text": [
      "Fitting 5 folds for each of 9 candidates, totalling 45 fits\n",
      "[CV] C=1, gamma=0.1, kernel=rbf ......................................\n"
     ]
    },
    {
     "name": "stderr",
     "output_type": "stream",
     "text": [
      "[Parallel(n_jobs=1)]: Using backend SequentialBackend with 1 concurrent workers.\n"
     ]
    },
    {
     "name": "stdout",
     "output_type": "stream",
     "text": [
      "[CV] .......... C=1, gamma=0.1, kernel=rbf, score=0.936, total=   3.4s\n",
      "[CV] C=1, gamma=0.1, kernel=rbf ......................................\n"
     ]
    },
    {
     "name": "stderr",
     "output_type": "stream",
     "text": [
      "[Parallel(n_jobs=1)]: Done   1 out of   1 | elapsed:    3.4s remaining:    0.0s\n"
     ]
    },
    {
     "name": "stdout",
     "output_type": "stream",
     "text": [
      "[CV] .......... C=1, gamma=0.1, kernel=rbf, score=0.935, total=   3.3s\n",
      "[CV] C=1, gamma=0.1, kernel=rbf ......................................\n"
     ]
    },
    {
     "name": "stderr",
     "output_type": "stream",
     "text": [
      "[Parallel(n_jobs=1)]: Done   2 out of   2 | elapsed:    6.7s remaining:    0.0s\n"
     ]
    },
    {
     "name": "stdout",
     "output_type": "stream",
     "text": [
      "[CV] .......... C=1, gamma=0.1, kernel=rbf, score=0.942, total=   3.4s\n",
      "[CV] C=1, gamma=0.1, kernel=rbf ......................................\n",
      "[CV] .......... C=1, gamma=0.1, kernel=rbf, score=0.935, total=   3.3s\n",
      "[CV] C=1, gamma=0.1, kernel=rbf ......................................\n",
      "[CV] .......... C=1, gamma=0.1, kernel=rbf, score=0.934, total=   3.3s\n",
      "[CV] C=1, gamma=0.01, kernel=rbf .....................................\n",
      "[CV] ......... C=1, gamma=0.01, kernel=rbf, score=0.869, total=   3.7s\n",
      "[CV] C=1, gamma=0.01, kernel=rbf .....................................\n",
      "[CV] ......... C=1, gamma=0.01, kernel=rbf, score=0.872, total=   3.7s\n",
      "[CV] C=1, gamma=0.01, kernel=rbf .....................................\n",
      "[CV] ......... C=1, gamma=0.01, kernel=rbf, score=0.878, total=   3.8s\n",
      "[CV] C=1, gamma=0.01, kernel=rbf .....................................\n",
      "[CV] ......... C=1, gamma=0.01, kernel=rbf, score=0.875, total=   4.0s\n",
      "[CV] C=1, gamma=0.01, kernel=rbf .....................................\n",
      "[CV] ......... C=1, gamma=0.01, kernel=rbf, score=0.871, total=   3.8s\n",
      "[CV] C=1, gamma=0.001, kernel=rbf ....................................\n",
      "[CV] ........ C=1, gamma=0.001, kernel=rbf, score=0.827, total=   4.6s\n",
      "[CV] C=1, gamma=0.001, kernel=rbf ....................................\n",
      "[CV] ........ C=1, gamma=0.001, kernel=rbf, score=0.829, total=   4.4s\n",
      "[CV] C=1, gamma=0.001, kernel=rbf ....................................\n",
      "[CV] ........ C=1, gamma=0.001, kernel=rbf, score=0.833, total=   4.4s\n",
      "[CV] C=1, gamma=0.001, kernel=rbf ....................................\n",
      "[CV] ........ C=1, gamma=0.001, kernel=rbf, score=0.832, total=   4.5s\n",
      "[CV] C=1, gamma=0.001, kernel=rbf ....................................\n",
      "[CV] ........ C=1, gamma=0.001, kernel=rbf, score=0.837, total=   4.5s\n",
      "[CV] C=10, gamma=0.1, kernel=rbf .....................................\n",
      "[CV] ......... C=10, gamma=0.1, kernel=rbf, score=0.949, total=   3.3s\n",
      "[CV] C=10, gamma=0.1, kernel=rbf .....................................\n",
      "[CV] ......... C=10, gamma=0.1, kernel=rbf, score=0.941, total=   3.3s\n",
      "[CV] C=10, gamma=0.1, kernel=rbf .....................................\n",
      "[CV] ......... C=10, gamma=0.1, kernel=rbf, score=0.954, total=   3.3s\n",
      "[CV] C=10, gamma=0.1, kernel=rbf .....................................\n",
      "[CV] ......... C=10, gamma=0.1, kernel=rbf, score=0.947, total=   3.3s\n",
      "[CV] C=10, gamma=0.1, kernel=rbf .....................................\n",
      "[CV] ......... C=10, gamma=0.1, kernel=rbf, score=0.942, total=   3.2s\n",
      "[CV] C=10, gamma=0.01, kernel=rbf ....................................\n",
      "[CV] ........ C=10, gamma=0.01, kernel=rbf, score=0.917, total=   3.7s\n",
      "[CV] C=10, gamma=0.01, kernel=rbf ....................................\n",
      "[CV] ........ C=10, gamma=0.01, kernel=rbf, score=0.918, total=   3.7s\n",
      "[CV] C=10, gamma=0.01, kernel=rbf ....................................\n",
      "[CV] ........ C=10, gamma=0.01, kernel=rbf, score=0.925, total=   3.6s\n",
      "[CV] C=10, gamma=0.01, kernel=rbf ....................................\n",
      "[CV] ........ C=10, gamma=0.01, kernel=rbf, score=0.911, total=   3.7s\n",
      "[CV] C=10, gamma=0.01, kernel=rbf ....................................\n",
      "[CV] ........ C=10, gamma=0.01, kernel=rbf, score=0.911, total=   3.7s\n",
      "[CV] C=10, gamma=0.001, kernel=rbf ...................................\n",
      "[CV] ....... C=10, gamma=0.001, kernel=rbf, score=0.841, total=   4.0s\n",
      "[CV] C=10, gamma=0.001, kernel=rbf ...................................\n",
      "[CV] ....... C=10, gamma=0.001, kernel=rbf, score=0.842, total=   4.0s\n",
      "[CV] C=10, gamma=0.001, kernel=rbf ...................................\n",
      "[CV] ....... C=10, gamma=0.001, kernel=rbf, score=0.845, total=   4.0s\n",
      "[CV] C=10, gamma=0.001, kernel=rbf ...................................\n",
      "[CV] ....... C=10, gamma=0.001, kernel=rbf, score=0.851, total=   4.0s\n",
      "[CV] C=10, gamma=0.001, kernel=rbf ...................................\n",
      "[CV] ....... C=10, gamma=0.001, kernel=rbf, score=0.847, total=   4.2s\n",
      "[CV] C=100, gamma=0.1, kernel=rbf ....................................\n",
      "[CV] ........ C=100, gamma=0.1, kernel=rbf, score=0.940, total=   4.0s\n",
      "[CV] C=100, gamma=0.1, kernel=rbf ....................................\n",
      "[CV] ........ C=100, gamma=0.1, kernel=rbf, score=0.939, total=   4.0s\n",
      "[CV] C=100, gamma=0.1, kernel=rbf ....................................\n",
      "[CV] ........ C=100, gamma=0.1, kernel=rbf, score=0.954, total=   4.1s\n",
      "[CV] C=100, gamma=0.1, kernel=rbf ....................................\n",
      "[CV] ........ C=100, gamma=0.1, kernel=rbf, score=0.942, total=   4.0s\n",
      "[CV] C=100, gamma=0.1, kernel=rbf ....................................\n",
      "[CV] ........ C=100, gamma=0.1, kernel=rbf, score=0.939, total=   4.1s\n",
      "[CV] C=100, gamma=0.01, kernel=rbf ...................................\n",
      "[CV] ....... C=100, gamma=0.01, kernel=rbf, score=0.937, total=   4.4s\n",
      "[CV] C=100, gamma=0.01, kernel=rbf ...................................\n",
      "[CV] ....... C=100, gamma=0.01, kernel=rbf, score=0.933, total=   4.5s\n",
      "[CV] C=100, gamma=0.01, kernel=rbf ...................................\n",
      "[CV] ....... C=100, gamma=0.01, kernel=rbf, score=0.944, total=   4.4s\n",
      "[CV] C=100, gamma=0.01, kernel=rbf ...................................\n",
      "[CV] ....... C=100, gamma=0.01, kernel=rbf, score=0.935, total=   4.3s\n",
      "[CV] C=100, gamma=0.01, kernel=rbf ...................................\n",
      "[CV] ....... C=100, gamma=0.01, kernel=rbf, score=0.935, total=   4.4s\n",
      "[CV] C=100, gamma=0.001, kernel=rbf ..................................\n",
      "[CV] ...... C=100, gamma=0.001, kernel=rbf, score=0.873, total=   4.7s\n",
      "[CV] C=100, gamma=0.001, kernel=rbf ..................................\n",
      "[CV] ...... C=100, gamma=0.001, kernel=rbf, score=0.876, total=   4.7s\n",
      "[CV] C=100, gamma=0.001, kernel=rbf ..................................\n",
      "[CV] ...... C=100, gamma=0.001, kernel=rbf, score=0.878, total=   4.6s\n",
      "[CV] C=100, gamma=0.001, kernel=rbf ..................................\n",
      "[CV] ...... C=100, gamma=0.001, kernel=rbf, score=0.876, total=   4.5s\n",
      "[CV] C=100, gamma=0.001, kernel=rbf ..................................\n",
      "[CV] ...... C=100, gamma=0.001, kernel=rbf, score=0.875, total=   4.7s\n"
     ]
    },
    {
     "name": "stderr",
     "output_type": "stream",
     "text": [
      "[Parallel(n_jobs=1)]: Done  45 out of  45 | elapsed:  3.0min finished\n"
     ]
    },
    {
     "data": {
      "text/plain": [
       "GridSearchCV(cv=None, error_score=nan,\n",
       "             estimator=SVC(C=1.0, break_ties=False, cache_size=200,\n",
       "                           class_weight=None, coef0=0.0,\n",
       "                           decision_function_shape='ovr', degree=3,\n",
       "                           gamma='scale', kernel='rbf', max_iter=-1,\n",
       "                           probability=False, random_state=None, shrinking=True,\n",
       "                           tol=0.001, verbose=False),\n",
       "             iid='deprecated', n_jobs=None,\n",
       "             param_grid={'C': [1, 10, 100], 'gamma': [0.1, 0.01, 0.001],\n",
       "                         'kernel': ['rbf']},\n",
       "             pre_dispatch='2*n_jobs', refit=True, return_train_score=False,\n",
       "             scoring=None, verbose=3)"
      ]
     },
     "execution_count": 37,
     "metadata": {},
     "output_type": "execute_result"
    }
   ],
   "source": [
    "grid.fit(x_train,y_train)"
   ]
  },
  {
   "cell_type": "code",
   "execution_count": 38,
   "metadata": {},
   "outputs": [
    {
     "data": {
      "text/plain": [
       "{'C': 10, 'gamma': 0.1, 'kernel': 'rbf'}"
      ]
     },
     "execution_count": 38,
     "metadata": {},
     "output_type": "execute_result"
    }
   ],
   "source": [
    "grid.best_params_"
   ]
  },
  {
   "cell_type": "code",
   "execution_count": 39,
   "metadata": {},
   "outputs": [
    {
     "data": {
      "text/plain": [
       "SVC(C=10, break_ties=False, cache_size=200, class_weight=None, coef0=0.0,\n",
       "    decision_function_shape='ovr', degree=3, gamma=0.1, kernel='rbf',\n",
       "    max_iter=-1, probability=False, random_state=None, shrinking=True,\n",
       "    tol=0.001, verbose=False)"
      ]
     },
     "execution_count": 39,
     "metadata": {},
     "output_type": "execute_result"
    }
   ],
   "source": [
    "grid.best_estimator_"
   ]
  },
  {
   "cell_type": "code",
   "execution_count": 40,
   "metadata": {},
   "outputs": [
    {
     "name": "stdout",
     "output_type": "stream",
     "text": [
      "Confusion Matrix: \n",
      " [[3276  120]\n",
      " [ 248 3242]]\n",
      "Classification Report: \n",
      "               precision    recall  f1-score   support\n",
      "\n",
      "           0       0.93      0.96      0.95      3396\n",
      "           1       0.96      0.93      0.95      3490\n",
      "\n",
      "    accuracy                           0.95      6886\n",
      "   macro avg       0.95      0.95      0.95      6886\n",
      "weighted avg       0.95      0.95      0.95      6886\n",
      "\n"
     ]
    }
   ],
   "source": [
    "grid_predictions = grid.predict(x_test)\n",
    "print('Confusion Matrix: \\n', confusion_matrix(y_test,grid_predictions))\n",
    "print('Classification Report: \\n', classification_report(y_test,grid_predictions))"
   ]
  },
  {
   "cell_type": "code",
   "execution_count": 143,
   "metadata": {},
   "outputs": [],
   "source": [
    "model = SVC(C=10,gamma=0.1,kernel='rbf')"
   ]
  },
  {
   "cell_type": "code",
   "execution_count": 144,
   "metadata": {},
   "outputs": [
    {
     "name": "stdout",
     "output_type": "stream",
     "text": [
      "CPU times: user 8min 32s, sys: 2.83 s, total: 8min 35s\n",
      "Wall time: 8min 36s\n"
     ]
    },
    {
     "data": {
      "text/plain": [
       "SVC(C=10, break_ties=False, cache_size=200, class_weight=None, coef0=0.0,\n",
       "    decision_function_shape='ovr', degree=3, gamma=0.1, kernel='rbf',\n",
       "    max_iter=-1, probability=False, random_state=None, shrinking=True,\n",
       "    tol=0.001, verbose=False)"
      ]
     },
     "execution_count": 144,
     "metadata": {},
     "output_type": "execute_result"
    }
   ],
   "source": [
    "%%time\n",
    "model.fit(x1_train,y1_train)"
   ]
  },
  {
   "cell_type": "code",
   "execution_count": 145,
   "metadata": {},
   "outputs": [
    {
     "name": "stdout",
     "output_type": "stream",
     "text": [
      "Accuracy: 0.979261066573719\n",
      "Confusion Matrix: \n",
      " [[33798   578]\n",
      " [  850 33630]]\n",
      "Classification Report: \n",
      "               precision    recall  f1-score   support\n",
      "\n",
      "           0       0.98      0.98      0.98     34376\n",
      "           1       0.98      0.98      0.98     34480\n",
      "\n",
      "    accuracy                           0.98     68856\n",
      "   macro avg       0.98      0.98      0.98     68856\n",
      "weighted avg       0.98      0.98      0.98     68856\n",
      "\n"
     ]
    }
   ],
   "source": [
    "predictions = model.predict(x1_test)\n",
    "print('Accuracy:',accuracy_score(y1_test,predictions))\n",
    "print('Confusion Matrix: \\n',confusion_matrix(y1_test,predictions))\n",
    "print('Classification Report: \\n',classification_report(y1_test,predictions))"
   ]
  },
  {
   "cell_type": "code",
   "execution_count": 146,
   "metadata": {},
   "outputs": [
    {
     "data": {
      "image/png": "[encoded data removed]",
      "text/plain": [
       "<Figure size 432x288 with 1 Axes>"
      ]
     },
     "metadata": {},
     "output_type": "display_data"
    }
   ],
   "source": [
    "def roc_auc(y_test,y_pred):\n",
    "    sb.set()\n",
    "    fpr, tpr, thresholds = roc_curve(y_test, y_pred)\n",
    "    roc_auc = auc(fpr,tpr)\n",
    "    plt.title('ROC Curve')\n",
    "    plt.plot(fpr, tpr, 'b',label='AUC = %0.3f'% roc_auc)\n",
    "    plt.legend()\n",
    "    plt.plot([0,1],[0,1],'r--')\n",
    "    plt.xlim([-0.1,1.0])\n",
    "    plt.ylim([-0.1,1.01])\n",
    "    plt.ylabel('True Positive Rate')\n",
    "    plt.xlabel('False Positive Rate')\n",
    "    plt.show()\n",
    "roc_auc(predictions,y1_test)"
   ]
  },
  {
   "cell_type": "code",
   "execution_count": 41,
   "metadata": {},
   "outputs": [
    {
     "name": "stdout",
     "output_type": "stream",
     "text": [
      "Scores:  [0.89087345 0.88194293 0.8745098  0.8869281  0.87211329]\n",
      "Accuracy: 0.88 (+/- 0.01)\n"
     ]
    }
   ],
   "source": [
    "model = SVC(C=10,gamma=0.1,kernel='rbf')\n",
    "scores = cross_val_score(model, x1_train, y1_train, scoring='accuracy', cv=5)\n",
    "print('Scores: ',scores)\n",
    "print(\"Accuracy: %0.2f (+/- %0.2f)\" % (scores.mean(), scores.std() * 2))"
   ]
  },
  {
   "cell_type": "markdown",
   "metadata": {},
   "source": [
    "Polynomial Kernel"
   ]
  },
  {
   "cell_type": "code",
   "execution_count": 14,
   "metadata": {},
   "outputs": [],
   "source": [
    "param_grid = {'C': [1,10,100], 'degree' : [3,5], 'gamma': [0.1,0.01,0.001], 'kernel': ['poly']} "
   ]
  },
  {
   "cell_type": "code",
   "execution_count": 15,
   "metadata": {},
   "outputs": [],
   "source": [
    "grid = GridSearchCV(SVC(),param_grid,refit=True,verbose=3)"
   ]
  },
  {
   "cell_type": "code",
   "execution_count": 16,
   "metadata": {
    "scrolled": true
   },
   "outputs": [
    {
     "name": "stdout",
     "output_type": "stream",
     "text": [
      "Fitting 5 folds for each of 18 candidates, totalling 90 fits\n",
      "[CV] C=1, degree=3, gamma=0.1, kernel=poly ...........................\n"
     ]
    },
    {
     "name": "stderr",
     "output_type": "stream",
     "text": [
      "[Parallel(n_jobs=1)]: Using backend SequentialBackend with 1 concurrent workers.\n"
     ]
    },
    {
     "name": "stdout",
     "output_type": "stream",
     "text": [
      "[CV]  C=1, degree=3, gamma=0.1, kernel=poly, score=0.889, total=   4.5s\n",
      "[CV] C=1, degree=3, gamma=0.1, kernel=poly ...........................\n"
     ]
    },
    {
     "name": "stderr",
     "output_type": "stream",
     "text": [
      "[Parallel(n_jobs=1)]: Done   1 out of   1 | elapsed:    4.5s remaining:    0.0s\n"
     ]
    },
    {
     "name": "stdout",
     "output_type": "stream",
     "text": [
      "[CV]  C=1, degree=3, gamma=0.1, kernel=poly, score=0.886, total=   4.1s\n",
      "[CV] C=1, degree=3, gamma=0.1, kernel=poly ...........................\n"
     ]
    },
    {
     "name": "stderr",
     "output_type": "stream",
     "text": [
      "[Parallel(n_jobs=1)]: Done   2 out of   2 | elapsed:    8.6s remaining:    0.0s\n"
     ]
    },
    {
     "name": "stdout",
     "output_type": "stream",
     "text": [
      "[CV]  C=1, degree=3, gamma=0.1, kernel=poly, score=0.880, total=   4.2s\n",
      "[CV] C=1, degree=3, gamma=0.1, kernel=poly ...........................\n",
      "[CV]  C=1, degree=3, gamma=0.1, kernel=poly, score=0.882, total=   4.3s\n",
      "[CV] C=1, degree=3, gamma=0.1, kernel=poly ...........................\n",
      "[CV]  C=1, degree=3, gamma=0.1, kernel=poly, score=0.887, total=   4.2s\n",
      "[CV] C=1, degree=3, gamma=0.01, kernel=poly ..........................\n",
      "[CV]  C=1, degree=3, gamma=0.01, kernel=poly, score=0.696, total=   4.9s\n",
      "[CV] C=1, degree=3, gamma=0.01, kernel=poly ..........................\n",
      "[CV]  C=1, degree=3, gamma=0.01, kernel=poly, score=0.693, total=   4.9s\n",
      "[CV] C=1, degree=3, gamma=0.01, kernel=poly ..........................\n",
      "[CV]  C=1, degree=3, gamma=0.01, kernel=poly, score=0.703, total=   4.9s\n",
      "[CV] C=1, degree=3, gamma=0.01, kernel=poly ..........................\n",
      "[CV]  C=1, degree=3, gamma=0.01, kernel=poly, score=0.698, total=   4.8s\n",
      "[CV] C=1, degree=3, gamma=0.01, kernel=poly ..........................\n",
      "[CV]  C=1, degree=3, gamma=0.01, kernel=poly, score=0.702, total=   4.8s\n",
      "[CV] C=1, degree=3, gamma=0.001, kernel=poly .........................\n",
      "[CV]  C=1, degree=3, gamma=0.001, kernel=poly, score=0.501, total=   4.8s\n",
      "[CV] C=1, degree=3, gamma=0.001, kernel=poly .........................\n",
      "[CV]  C=1, degree=3, gamma=0.001, kernel=poly, score=0.501, total=   4.8s\n",
      "[CV] C=1, degree=3, gamma=0.001, kernel=poly .........................\n",
      "[CV]  C=1, degree=3, gamma=0.001, kernel=poly, score=0.501, total=   4.8s\n",
      "[CV] C=1, degree=3, gamma=0.001, kernel=poly .........................\n",
      "[CV]  C=1, degree=3, gamma=0.001, kernel=poly, score=0.501, total=   4.8s\n",
      "[CV] C=1, degree=3, gamma=0.001, kernel=poly .........................\n",
      "[CV]  C=1, degree=3, gamma=0.001, kernel=poly, score=0.501, total=   4.8s\n",
      "[CV] C=1, degree=5, gamma=0.1, kernel=poly ...........................\n",
      "[CV]  C=1, degree=5, gamma=0.1, kernel=poly, score=0.898, total=   5.8s\n",
      "[CV] C=1, degree=5, gamma=0.1, kernel=poly ...........................\n",
      "[CV]  C=1, degree=5, gamma=0.1, kernel=poly, score=0.897, total=   5.3s\n",
      "[CV] C=1, degree=5, gamma=0.1, kernel=poly ...........................\n",
      "[CV]  C=1, degree=5, gamma=0.1, kernel=poly, score=0.889, total=   5.1s\n",
      "[CV] C=1, degree=5, gamma=0.1, kernel=poly ...........................\n",
      "[CV]  C=1, degree=5, gamma=0.1, kernel=poly, score=0.890, total=   5.3s\n",
      "[CV] C=1, degree=5, gamma=0.1, kernel=poly ...........................\n",
      "[CV]  C=1, degree=5, gamma=0.1, kernel=poly, score=0.898, total=   5.3s\n",
      "[CV] C=1, degree=5, gamma=0.01, kernel=poly ..........................\n",
      "[CV]  C=1, degree=5, gamma=0.01, kernel=poly, score=0.501, total=   4.9s\n",
      "[CV] C=1, degree=5, gamma=0.01, kernel=poly ..........................\n",
      "[CV]  C=1, degree=5, gamma=0.01, kernel=poly, score=0.501, total=   4.9s\n",
      "[CV] C=1, degree=5, gamma=0.01, kernel=poly ..........................\n",
      "[CV]  C=1, degree=5, gamma=0.01, kernel=poly, score=0.501, total=   4.9s\n",
      "[CV] C=1, degree=5, gamma=0.01, kernel=poly ..........................\n",
      "[CV]  C=1, degree=5, gamma=0.01, kernel=poly, score=0.501, total=   4.9s\n",
      "[CV] C=1, degree=5, gamma=0.01, kernel=poly ..........................\n",
      "[CV]  C=1, degree=5, gamma=0.01, kernel=poly, score=0.501, total=   4.9s\n",
      "[CV] C=1, degree=5, gamma=0.001, kernel=poly .........................\n",
      "[CV]  C=1, degree=5, gamma=0.001, kernel=poly, score=0.501, total=   4.9s\n",
      "[CV] C=1, degree=5, gamma=0.001, kernel=poly .........................\n",
      "[CV]  C=1, degree=5, gamma=0.001, kernel=poly, score=0.501, total=   4.9s\n",
      "[CV] C=1, degree=5, gamma=0.001, kernel=poly .........................\n",
      "[CV]  C=1, degree=5, gamma=0.001, kernel=poly, score=0.501, total=   4.9s\n",
      "[CV] C=1, degree=5, gamma=0.001, kernel=poly .........................\n",
      "[CV]  C=1, degree=5, gamma=0.001, kernel=poly, score=0.501, total=   4.9s\n",
      "[CV] C=1, degree=5, gamma=0.001, kernel=poly .........................\n",
      "[CV]  C=1, degree=5, gamma=0.001, kernel=poly, score=0.501, total=   4.9s\n",
      "[CV] C=10, degree=3, gamma=0.1, kernel=poly ..........................\n",
      "[CV]  C=10, degree=3, gamma=0.1, kernel=poly, score=0.905, total=   9.5s\n",
      "[CV] C=10, degree=3, gamma=0.1, kernel=poly ..........................\n",
      "[CV]  C=10, degree=3, gamma=0.1, kernel=poly, score=0.900, total=   9.5s\n",
      "[CV] C=10, degree=3, gamma=0.1, kernel=poly ..........................\n",
      "[CV]  C=10, degree=3, gamma=0.1, kernel=poly, score=0.896, total=   9.0s\n",
      "[CV] C=10, degree=3, gamma=0.1, kernel=poly ..........................\n",
      "[CV]  C=10, degree=3, gamma=0.1, kernel=poly, score=0.895, total=   9.4s\n",
      "[CV] C=10, degree=3, gamma=0.1, kernel=poly ..........................\n",
      "[CV]  C=10, degree=3, gamma=0.1, kernel=poly, score=0.898, total=   9.8s\n",
      "[CV] C=10, degree=3, gamma=0.01, kernel=poly .........................\n",
      "[CV]  C=10, degree=3, gamma=0.01, kernel=poly, score=0.802, total=   4.0s\n",
      "[CV] C=10, degree=3, gamma=0.01, kernel=poly .........................\n",
      "[CV]  C=10, degree=3, gamma=0.01, kernel=poly, score=0.812, total=   3.8s\n",
      "[CV] C=10, degree=3, gamma=0.01, kernel=poly .........................\n",
      "[CV]  C=10, degree=3, gamma=0.01, kernel=poly, score=0.811, total=   3.9s\n",
      "[CV] C=10, degree=3, gamma=0.01, kernel=poly .........................\n",
      "[CV]  C=10, degree=3, gamma=0.01, kernel=poly, score=0.806, total=   4.0s\n",
      "[CV] C=10, degree=3, gamma=0.01, kernel=poly .........................\n",
      "[CV]  C=10, degree=3, gamma=0.01, kernel=poly, score=0.804, total=   3.9s\n",
      "[CV] C=10, degree=3, gamma=0.001, kernel=poly ........................\n",
      "[CV]  C=10, degree=3, gamma=0.001, kernel=poly, score=0.501, total=   4.8s\n",
      "[CV] C=10, degree=3, gamma=0.001, kernel=poly ........................\n",
      "[CV]  C=10, degree=3, gamma=0.001, kernel=poly, score=0.501, total=   4.8s\n",
      "[CV] C=10, degree=3, gamma=0.001, kernel=poly ........................\n",
      "[CV]  C=10, degree=3, gamma=0.001, kernel=poly, score=0.501, total=   4.8s\n",
      "[CV] C=10, degree=3, gamma=0.001, kernel=poly ........................\n",
      "[CV]  C=10, degree=3, gamma=0.001, kernel=poly, score=0.501, total=   4.8s\n",
      "[CV] C=10, degree=3, gamma=0.001, kernel=poly ........................\n",
      "[CV]  C=10, degree=3, gamma=0.001, kernel=poly, score=0.501, total=   4.8s\n",
      "[CV] C=10, degree=5, gamma=0.1, kernel=poly ..........................\n",
      "[CV]  C=10, degree=5, gamma=0.1, kernel=poly, score=0.899, total=  11.2s\n",
      "[CV] C=10, degree=5, gamma=0.1, kernel=poly ..........................\n",
      "[CV]  C=10, degree=5, gamma=0.1, kernel=poly, score=0.891, total=  12.0s\n",
      "[CV] C=10, degree=5, gamma=0.1, kernel=poly ..........................\n",
      "[CV]  C=10, degree=5, gamma=0.1, kernel=poly, score=0.895, total=  11.5s\n",
      "[CV] C=10, degree=5, gamma=0.1, kernel=poly ..........................\n",
      "[CV]  C=10, degree=5, gamma=0.1, kernel=poly, score=0.889, total=  11.6s\n",
      "[CV] C=10, degree=5, gamma=0.1, kernel=poly ..........................\n",
      "[CV]  C=10, degree=5, gamma=0.1, kernel=poly, score=0.895, total=  11.1s\n",
      "[CV] C=10, degree=5, gamma=0.01, kernel=poly .........................\n",
      "[CV]  C=10, degree=5, gamma=0.01, kernel=poly, score=0.501, total=   5.1s\n",
      "[CV] C=10, degree=5, gamma=0.01, kernel=poly .........................\n",
      "[CV]  C=10, degree=5, gamma=0.01, kernel=poly, score=0.501, total=   5.1s\n",
      "[CV] C=10, degree=5, gamma=0.01, kernel=poly .........................\n",
      "[CV]  C=10, degree=5, gamma=0.01, kernel=poly, score=0.501, total=   5.1s\n",
      "[CV] C=10, degree=5, gamma=0.01, kernel=poly .........................\n",
      "[CV]  C=10, degree=5, gamma=0.01, kernel=poly, score=0.501, total=   5.0s\n",
      "[CV] C=10, degree=5, gamma=0.01, kernel=poly .........................\n",
      "[CV]  C=10, degree=5, gamma=0.01, kernel=poly, score=0.501, total=   5.1s\n",
      "[CV] C=10, degree=5, gamma=0.001, kernel=poly ........................\n",
      "[CV]  C=10, degree=5, gamma=0.001, kernel=poly, score=0.501, total=   5.2s\n",
      "[CV] C=10, degree=5, gamma=0.001, kernel=poly ........................\n",
      "[CV]  C=10, degree=5, gamma=0.001, kernel=poly, score=0.501, total=   5.1s\n",
      "[CV] C=10, degree=5, gamma=0.001, kernel=poly ........................\n",
      "[CV]  C=10, degree=5, gamma=0.001, kernel=poly, score=0.501, total=   5.1s\n",
      "[CV] C=10, degree=5, gamma=0.001, kernel=poly ........................\n",
      "[CV]  C=10, degree=5, gamma=0.001, kernel=poly, score=0.501, total=   5.1s\n",
      "[CV] C=10, degree=5, gamma=0.001, kernel=poly ........................\n"
     ]
    },
    {
     "name": "stdout",
     "output_type": "stream",
     "text": [
      "[CV]  C=10, degree=5, gamma=0.001, kernel=poly, score=0.501, total=   5.2s\n",
      "[CV] C=100, degree=3, gamma=0.1, kernel=poly .........................\n",
      "[CV]  C=100, degree=3, gamma=0.1, kernel=poly, score=0.907, total= 1.2min\n",
      "[CV] C=100, degree=3, gamma=0.1, kernel=poly .........................\n",
      "[CV]  C=100, degree=3, gamma=0.1, kernel=poly, score=0.915, total= 1.3min\n",
      "[CV] C=100, degree=3, gamma=0.1, kernel=poly .........................\n",
      "[CV]  C=100, degree=3, gamma=0.1, kernel=poly, score=0.905, total= 1.3min\n",
      "[CV] C=100, degree=3, gamma=0.1, kernel=poly .........................\n",
      "[CV]  C=100, degree=3, gamma=0.1, kernel=poly, score=0.910, total= 1.1min\n",
      "[CV] C=100, degree=3, gamma=0.1, kernel=poly .........................\n",
      "[CV]  C=100, degree=3, gamma=0.1, kernel=poly, score=0.904, total= 1.0min\n",
      "[CV] C=100, degree=3, gamma=0.01, kernel=poly ........................\n",
      "[CV]  C=100, degree=3, gamma=0.01, kernel=poly, score=0.841, total=   3.4s\n",
      "[CV] C=100, degree=3, gamma=0.01, kernel=poly ........................\n",
      "[CV]  C=100, degree=3, gamma=0.01, kernel=poly, score=0.849, total=   3.3s\n",
      "[CV] C=100, degree=3, gamma=0.01, kernel=poly ........................\n",
      "[CV]  C=100, degree=3, gamma=0.01, kernel=poly, score=0.850, total=   3.5s\n",
      "[CV] C=100, degree=3, gamma=0.01, kernel=poly ........................\n",
      "[CV]  C=100, degree=3, gamma=0.01, kernel=poly, score=0.843, total=   3.4s\n",
      "[CV] C=100, degree=3, gamma=0.01, kernel=poly ........................\n",
      "[CV]  C=100, degree=3, gamma=0.01, kernel=poly, score=0.849, total=   3.4s\n",
      "[CV] C=100, degree=3, gamma=0.001, kernel=poly .......................\n",
      "[CV]  C=100, degree=3, gamma=0.001, kernel=poly, score=0.501, total=   5.1s\n",
      "[CV] C=100, degree=3, gamma=0.001, kernel=poly .......................\n",
      "[CV]  C=100, degree=3, gamma=0.001, kernel=poly, score=0.501, total=   4.9s\n",
      "[CV] C=100, degree=3, gamma=0.001, kernel=poly .......................\n",
      "[CV]  C=100, degree=3, gamma=0.001, kernel=poly, score=0.501, total=   4.9s\n",
      "[CV] C=100, degree=3, gamma=0.001, kernel=poly .......................\n",
      "[CV]  C=100, degree=3, gamma=0.001, kernel=poly, score=0.501, total=   5.0s\n",
      "[CV] C=100, degree=3, gamma=0.001, kernel=poly .......................\n",
      "[CV]  C=100, degree=3, gamma=0.001, kernel=poly, score=0.501, total=   4.9s\n",
      "[CV] C=100, degree=5, gamma=0.1, kernel=poly .........................\n",
      "[CV]  C=100, degree=5, gamma=0.1, kernel=poly, score=0.883, total=  15.2s\n",
      "[CV] C=100, degree=5, gamma=0.1, kernel=poly .........................\n",
      "[CV]  C=100, degree=5, gamma=0.1, kernel=poly, score=0.882, total=  12.6s\n",
      "[CV] C=100, degree=5, gamma=0.1, kernel=poly .........................\n",
      "[CV]  C=100, degree=5, gamma=0.1, kernel=poly, score=0.880, total=  12.2s\n",
      "[CV] C=100, degree=5, gamma=0.1, kernel=poly .........................\n",
      "[CV]  C=100, degree=5, gamma=0.1, kernel=poly, score=0.875, total=  13.9s\n",
      "[CV] C=100, degree=5, gamma=0.1, kernel=poly .........................\n",
      "[CV]  C=100, degree=5, gamma=0.1, kernel=poly, score=0.879, total=  15.5s\n",
      "[CV] C=100, degree=5, gamma=0.01, kernel=poly ........................\n",
      "[CV]  C=100, degree=5, gamma=0.01, kernel=poly, score=0.596, total=   5.1s\n",
      "[CV] C=100, degree=5, gamma=0.01, kernel=poly ........................\n",
      "[CV]  C=100, degree=5, gamma=0.01, kernel=poly, score=0.594, total=   5.1s\n",
      "[CV] C=100, degree=5, gamma=0.01, kernel=poly ........................\n",
      "[CV]  C=100, degree=5, gamma=0.01, kernel=poly, score=0.596, total=   5.2s\n",
      "[CV] C=100, degree=5, gamma=0.01, kernel=poly ........................\n",
      "[CV]  C=100, degree=5, gamma=0.01, kernel=poly, score=0.590, total=   5.2s\n",
      "[CV] C=100, degree=5, gamma=0.01, kernel=poly ........................\n",
      "[CV]  C=100, degree=5, gamma=0.01, kernel=poly, score=0.586, total=   5.0s\n",
      "[CV] C=100, degree=5, gamma=0.001, kernel=poly .......................\n",
      "[CV]  C=100, degree=5, gamma=0.001, kernel=poly, score=0.501, total=   5.1s\n",
      "[CV] C=100, degree=5, gamma=0.001, kernel=poly .......................\n",
      "[CV]  C=100, degree=5, gamma=0.001, kernel=poly, score=0.501, total=   5.2s\n",
      "[CV] C=100, degree=5, gamma=0.001, kernel=poly .......................\n",
      "[CV]  C=100, degree=5, gamma=0.001, kernel=poly, score=0.501, total=   5.1s\n",
      "[CV] C=100, degree=5, gamma=0.001, kernel=poly .......................\n",
      "[CV]  C=100, degree=5, gamma=0.001, kernel=poly, score=0.501, total=   5.0s\n",
      "[CV] C=100, degree=5, gamma=0.001, kernel=poly .......................\n",
      "[CV]  C=100, degree=5, gamma=0.001, kernel=poly, score=0.501, total=   5.1s\n"
     ]
    },
    {
     "name": "stderr",
     "output_type": "stream",
     "text": [
      "[Parallel(n_jobs=1)]: Done  90 out of  90 | elapsed: 14.3min finished\n"
     ]
    },
    {
     "data": {
      "text/plain": [
       "GridSearchCV(cv=None, error_score=nan,\n",
       "             estimator=SVC(C=1.0, break_ties=False, cache_size=200,\n",
       "                           class_weight=None, coef0=0.0,\n",
       "                           decision_function_shape='ovr', degree=3,\n",
       "                           gamma='scale', kernel='rbf', max_iter=-1,\n",
       "                           probability=False, random_state=None, shrinking=True,\n",
       "                           tol=0.001, verbose=False),\n",
       "             iid='deprecated', n_jobs=None,\n",
       "             param_grid={'C': [1, 10, 100], 'degree': [3, 5],\n",
       "                         'gamma': [0.1, 0.01, 0.001], 'kernel': ['poly']},\n",
       "             pre_dispatch='2*n_jobs', refit=True, return_train_score=False,\n",
       "             scoring=None, verbose=3)"
      ]
     },
     "execution_count": 16,
     "metadata": {},
     "output_type": "execute_result"
    }
   ],
   "source": [
    "grid.fit(x_train,y_train)"
   ]
  },
  {
   "cell_type": "code",
   "execution_count": 19,
   "metadata": {
    "scrolled": true
   },
   "outputs": [
    {
     "name": "stdout",
     "output_type": "stream",
     "text": [
      "Fitting 5 folds for each of 2 candidates, totalling 10 fits\n",
      "[CV] C=10, degree=3, gamma=0.1, kernel=poly ..........................\n"
     ]
    },
    {
     "name": "stderr",
     "output_type": "stream",
     "text": [
      "[Parallel(n_jobs=1)]: Using backend SequentialBackend with 1 concurrent workers.\n"
     ]
    },
    {
     "name": "stdout",
     "output_type": "stream",
     "text": [
      "[CV]  C=10, degree=3, gamma=0.1, kernel=poly, score=0.905, total=  10.0s\n",
      "[CV] C=10, degree=3, gamma=0.1, kernel=poly ..........................\n"
     ]
    },
    {
     "name": "stderr",
     "output_type": "stream",
     "text": [
      "[Parallel(n_jobs=1)]: Done   1 out of   1 | elapsed:   10.0s remaining:    0.0s\n"
     ]
    },
    {
     "name": "stdout",
     "output_type": "stream",
     "text": [
      "[CV]  C=10, degree=3, gamma=0.1, kernel=poly, score=0.900, total=   9.8s\n",
      "[CV] C=10, degree=3, gamma=0.1, kernel=poly ..........................\n"
     ]
    },
    {
     "name": "stderr",
     "output_type": "stream",
     "text": [
      "[Parallel(n_jobs=1)]: Done   2 out of   2 | elapsed:   19.8s remaining:    0.0s\n"
     ]
    },
    {
     "name": "stdout",
     "output_type": "stream",
     "text": [
      "[CV]  C=10, degree=3, gamma=0.1, kernel=poly, score=0.896, total=   9.5s\n",
      "[CV] C=10, degree=3, gamma=0.1, kernel=poly ..........................\n",
      "[CV]  C=10, degree=3, gamma=0.1, kernel=poly, score=0.895, total=   9.5s\n",
      "[CV] C=10, degree=3, gamma=0.1, kernel=poly ..........................\n",
      "[CV]  C=10, degree=3, gamma=0.1, kernel=poly, score=0.898, total=   9.7s\n",
      "[CV] C=10, degree=5, gamma=0.1, kernel=poly ..........................\n",
      "[CV]  C=10, degree=5, gamma=0.1, kernel=poly, score=0.899, total=  11.9s\n",
      "[CV] C=10, degree=5, gamma=0.1, kernel=poly ..........................\n",
      "[CV]  C=10, degree=5, gamma=0.1, kernel=poly, score=0.891, total=  12.5s\n",
      "[CV] C=10, degree=5, gamma=0.1, kernel=poly ..........................\n",
      "[CV]  C=10, degree=5, gamma=0.1, kernel=poly, score=0.895, total=  11.2s\n",
      "[CV] C=10, degree=5, gamma=0.1, kernel=poly ..........................\n",
      "[CV]  C=10, degree=5, gamma=0.1, kernel=poly, score=0.889, total=  11.3s\n",
      "[CV] C=10, degree=5, gamma=0.1, kernel=poly ..........................\n",
      "[CV]  C=10, degree=5, gamma=0.1, kernel=poly, score=0.895, total=  11.5s\n"
     ]
    },
    {
     "name": "stderr",
     "output_type": "stream",
     "text": [
      "[Parallel(n_jobs=1)]: Done  10 out of  10 | elapsed:  1.8min finished\n"
     ]
    },
    {
     "data": {
      "text/plain": [
       "GridSearchCV(cv=None, error_score=nan,\n",
       "             estimator=SVC(C=1.0, break_ties=False, cache_size=200,\n",
       "                           class_weight=None, coef0=0.0,\n",
       "                           decision_function_shape='ovr', degree=3,\n",
       "                           gamma='scale', kernel='rbf', max_iter=-1,\n",
       "                           probability=False, random_state=None, shrinking=True,\n",
       "                           tol=0.001, verbose=False),\n",
       "             iid='deprecated', n_jobs=None,\n",
       "             param_grid={'C': [10], 'degree': [3, 5], 'gamma': [0.1],\n",
       "                         'kernel': ['poly']},\n",
       "             pre_dispatch='2*n_jobs', refit=True, return_train_score=False,\n",
       "             scoring=None, verbose=3)"
      ]
     },
     "execution_count": 19,
     "metadata": {},
     "output_type": "execute_result"
    }
   ],
   "source": [
    "param_grid = {'C': [10], 'degree' : [3,5], 'gamma': [0.1], 'kernel': ['poly']} \n",
    "grid = GridSearchCV(SVC(),param_grid,refit=True,verbose=3)\n",
    "grid.fit(x_train,y_train)"
   ]
  },
  {
   "cell_type": "code",
   "execution_count": 20,
   "metadata": {},
   "outputs": [
    {
     "data": {
      "text/plain": [
       "{'C': 10, 'degree': 3, 'gamma': 0.1, 'kernel': 'poly'}"
      ]
     },
     "execution_count": 20,
     "metadata": {},
     "output_type": "execute_result"
    }
   ],
   "source": [
    "grid.best_params_"
   ]
  },
  {
   "cell_type": "code",
   "execution_count": 20,
   "metadata": {
    "scrolled": true
   },
   "outputs": [
    {
     "data": {
      "text/plain": [
       "SVC(C=100, break_ties=False, cache_size=200, class_weight=None, coef0=0.0,\n",
       "    decision_function_shape='ovr', degree=3, gamma=0.1, kernel='poly',\n",
       "    max_iter=-1, probability=False, random_state=None, shrinking=True,\n",
       "    tol=0.001, verbose=False)"
      ]
     },
     "execution_count": 20,
     "metadata": {},
     "output_type": "execute_result"
    }
   ],
   "source": [
    "grid.best_estimator_"
   ]
  },
  {
   "cell_type": "code",
   "execution_count": 21,
   "metadata": {},
   "outputs": [
    {
     "name": "stdout",
     "output_type": "stream",
     "text": [
      "Accuracy: 0.9054603543421434\n",
      "Confusion Matrix: \n",
      " [[3264  199]\n",
      " [ 452 2971]]\n",
      "Classification Report: \n",
      "               precision    recall  f1-score   support\n",
      "\n",
      "           0       0.88      0.94      0.91      3463\n",
      "           1       0.94      0.87      0.90      3423\n",
      "\n",
      "    accuracy                           0.91      6886\n",
      "   macro avg       0.91      0.91      0.91      6886\n",
      "weighted avg       0.91      0.91      0.91      6886\n",
      "\n"
     ]
    }
   ],
   "source": [
    "grid_predictions = grid.predict(x_test)\n",
    "print('Accuracy:',accuracy_score(y_test,grid_predictions))\n",
    "print('Confusion Matrix: \\n', confusion_matrix(y_test,grid_predictions))\n",
    "print('Classification Report: \\n', classification_report(y_test,grid_predictions))"
   ]
  },
  {
   "cell_type": "code",
   "execution_count": 22,
   "metadata": {},
   "outputs": [],
   "source": [
    "model = SVC(C=10,degree=3,gamma=0.1,kernel='poly')"
   ]
  },
  {
   "cell_type": "code",
   "execution_count": 23,
   "metadata": {},
   "outputs": [
    {
     "name": "stdout",
     "output_type": "stream",
     "text": [
      "CPU times: user 28min 29s, sys: 9.09 s, total: 28min 38s\n",
      "Wall time: 28min 46s\n"
     ]
    },
    {
     "data": {
      "text/plain": [
       "SVC(C=10, break_ties=False, cache_size=200, class_weight=None, coef0=0.0,\n",
       "    decision_function_shape='ovr', degree=3, gamma=0.1, kernel='poly',\n",
       "    max_iter=-1, probability=False, random_state=None, shrinking=True,\n",
       "    tol=0.001, verbose=False)"
      ]
     },
     "execution_count": 23,
     "metadata": {},
     "output_type": "execute_result"
    }
   ],
   "source": [
    "%%time\n",
    "model.fit(x1_train,y1_train)"
   ]
  },
  {
   "cell_type": "code",
   "execution_count": 24,
   "metadata": {},
   "outputs": [
    {
     "name": "stdout",
     "output_type": "stream",
     "text": [
      "Accuracy: 0.9182642035552457\n",
      "Confusion Matrix: \n",
      " [[32416  1960]\n",
      " [ 3668 30812]]\n",
      "Classification Report: \n",
      "               precision    recall  f1-score   support\n",
      "\n",
      "           0       0.90      0.94      0.92     34376\n",
      "           1       0.94      0.89      0.92     34480\n",
      "\n",
      "    accuracy                           0.92     68856\n",
      "   macro avg       0.92      0.92      0.92     68856\n",
      "weighted avg       0.92      0.92      0.92     68856\n",
      "\n"
     ]
    }
   ],
   "source": [
    "predictions = model.predict(x1_test)\n",
    "print('Accuracy:',accuracy_score(y1_test,predictions))\n",
    "print('Confusion Matrix: \\n',confusion_matrix(y1_test,predictions))\n",
    "print('Classification Report: \\n',classification_report(y1_test,predictions))"
   ]
  },
  {
   "cell_type": "code",
   "execution_count": null,
   "metadata": {},
   "outputs": [],
   "source": [
    "model = SVC(C=10,degree=3,gamma=0.1,kernel='poly')\n",
    "scores = cross_val_score(model, x1_train, y1_train, scoring='accuracy', cv=5)\n",
    "print('Scores: ',scores)\n",
    "print(\"Accuracy: %0.2f (+/- %0.2f)\" % (scores.mean(), scores.std() * 2))"
   ]
  },
  {
   "cell_type": "markdown",
   "metadata": {},
   "source": [
    "# Decision Trees"
   ]
  },
  {
   "cell_type": "code",
   "execution_count": 373,
   "metadata": {},
   "outputs": [],
   "source": [
    "# Create Decision Tree classifer object\n",
    "dtc = DecisionTreeClassifier()\n",
    "\n",
    "# Train Decision Tree Classifer\n",
    "dtc = dtc.fit(x1_train,y1_train)"
   ]
  },
  {
   "cell_type": "code",
   "execution_count": 374,
   "metadata": {},
   "outputs": [
    {
     "name": "stdout",
     "output_type": "stream",
     "text": [
      "Accuracy - Training set: 1.00\n"
     ]
    }
   ],
   "source": [
    "trainacc = dtc.score(x1_train,y1_train)\n",
    "print('Accuracy - Training set: {:.2f}'.format(trainacc))"
   ]
  },
  {
   "cell_type": "code",
   "execution_count": 375,
   "metadata": {},
   "outputs": [
    {
     "name": "stdout",
     "output_type": "stream",
     "text": [
      "Accuracy: 0.9897031485999768\n",
      "Confusion Matrix: \n",
      " [[34013   363]\n",
      " [  346 34134]]\n",
      "Classification Report: \n",
      "               precision    recall  f1-score   support\n",
      "\n",
      "           0       0.99      0.99      0.99     34376\n",
      "           1       0.99      0.99      0.99     34480\n",
      "\n",
      "    accuracy                           0.99     68856\n",
      "   macro avg       0.99      0.99      0.99     68856\n",
      "weighted avg       0.99      0.99      0.99     68856\n",
      "\n"
     ]
    }
   ],
   "source": [
    "#Predict the response for test dataset\n",
    "predictions = dtc.predict(x1_test)\n",
    "# print classification report \n",
    "print('Accuracy:',accuracy_score(y1_test,predictions))\n",
    "print('Confusion Matrix: \\n',confusion_matrix(y1_test, predictions))\n",
    "print('Classification Report: \\n',classification_report(y1_test, predictions)) "
   ]
  },
  {
   "cell_type": "markdown",
   "metadata": {},
   "source": [
    "#Decision Trees - Hyperparameter tuning"
   ]
  },
  {
   "cell_type": "code",
   "execution_count": 376,
   "metadata": {},
   "outputs": [],
   "source": [
    "param_grid = {\"criterion\": [\"gini\", \"entropy\"],\n",
    "              \"max_depth\": [2, 5, 10, 20],\n",
    "              \"max_leaf_nodes\": [None, 5, 10, 20]\n",
    "              }\n",
    "grid = GridSearchCV(DecisionTreeClassifier(), param_grid, refit = True, verbose = 2) "
   ]
  },
  {
   "cell_type": "code",
   "execution_count": 377,
   "metadata": {
    "scrolled": true
   },
   "outputs": [
    {
     "name": "stdout",
     "output_type": "stream",
     "text": [
      "Fitting 5 folds for each of 32 candidates, totalling 160 fits\n",
      "[CV] criterion=gini, max_depth=2, max_leaf_nodes=None ................\n",
      "[CV] . criterion=gini, max_depth=2, max_leaf_nodes=None, total=   0.1s\n",
      "[CV] criterion=gini, max_depth=2, max_leaf_nodes=None ................\n"
     ]
    },
    {
     "name": "stderr",
     "output_type": "stream",
     "text": [
      "[Parallel(n_jobs=1)]: Using backend SequentialBackend with 1 concurrent workers.\n",
      "[Parallel(n_jobs=1)]: Done   1 out of   1 | elapsed:    0.1s remaining:    0.0s\n"
     ]
    },
    {
     "name": "stdout",
     "output_type": "stream",
     "text": [
      "[CV] . criterion=gini, max_depth=2, max_leaf_nodes=None, total=   0.1s\n",
      "[CV] criterion=gini, max_depth=2, max_leaf_nodes=None ................\n",
      "[CV] . criterion=gini, max_depth=2, max_leaf_nodes=None, total=   0.1s\n",
      "[CV] criterion=gini, max_depth=2, max_leaf_nodes=None ................\n",
      "[CV] . criterion=gini, max_depth=2, max_leaf_nodes=None, total=   0.1s\n",
      "[CV] criterion=gini, max_depth=2, max_leaf_nodes=None ................\n",
      "[CV] . criterion=gini, max_depth=2, max_leaf_nodes=None, total=   0.1s\n",
      "[CV] criterion=gini, max_depth=2, max_leaf_nodes=5 ...................\n",
      "[CV] .... criterion=gini, max_depth=2, max_leaf_nodes=5, total=   0.1s\n",
      "[CV] criterion=gini, max_depth=2, max_leaf_nodes=5 ...................\n",
      "[CV] .... criterion=gini, max_depth=2, max_leaf_nodes=5, total=   0.1s\n",
      "[CV] criterion=gini, max_depth=2, max_leaf_nodes=5 ...................\n",
      "[CV] .... criterion=gini, max_depth=2, max_leaf_nodes=5, total=   0.1s\n",
      "[CV] criterion=gini, max_depth=2, max_leaf_nodes=5 ...................\n",
      "[CV] .... criterion=gini, max_depth=2, max_leaf_nodes=5, total=   0.1s\n",
      "[CV] criterion=gini, max_depth=2, max_leaf_nodes=5 ...................\n",
      "[CV] .... criterion=gini, max_depth=2, max_leaf_nodes=5, total=   0.1s\n",
      "[CV] criterion=gini, max_depth=2, max_leaf_nodes=10 ..................\n",
      "[CV] ... criterion=gini, max_depth=2, max_leaf_nodes=10, total=   0.1s\n",
      "[CV] criterion=gini, max_depth=2, max_leaf_nodes=10 ..................\n",
      "[CV] ... criterion=gini, max_depth=2, max_leaf_nodes=10, total=   0.1s\n",
      "[CV] criterion=gini, max_depth=2, max_leaf_nodes=10 ..................\n",
      "[CV] ... criterion=gini, max_depth=2, max_leaf_nodes=10, total=   0.1s\n",
      "[CV] criterion=gini, max_depth=2, max_leaf_nodes=10 ..................\n",
      "[CV] ... criterion=gini, max_depth=2, max_leaf_nodes=10, total=   0.1s\n",
      "[CV] criterion=gini, max_depth=2, max_leaf_nodes=10 ..................\n",
      "[CV] ... criterion=gini, max_depth=2, max_leaf_nodes=10, total=   0.1s\n",
      "[CV] criterion=gini, max_depth=2, max_leaf_nodes=20 ..................\n",
      "[CV] ... criterion=gini, max_depth=2, max_leaf_nodes=20, total=   0.1s\n",
      "[CV] criterion=gini, max_depth=2, max_leaf_nodes=20 ..................\n",
      "[CV] ... criterion=gini, max_depth=2, max_leaf_nodes=20, total=   0.1s\n",
      "[CV] criterion=gini, max_depth=2, max_leaf_nodes=20 ..................\n",
      "[CV] ... criterion=gini, max_depth=2, max_leaf_nodes=20, total=   0.1s\n",
      "[CV] criterion=gini, max_depth=2, max_leaf_nodes=20 ..................\n",
      "[CV] ... criterion=gini, max_depth=2, max_leaf_nodes=20, total=   0.1s\n",
      "[CV] criterion=gini, max_depth=2, max_leaf_nodes=20 ..................\n",
      "[CV] ... criterion=gini, max_depth=2, max_leaf_nodes=20, total=   0.1s\n",
      "[CV] criterion=gini, max_depth=5, max_leaf_nodes=None ................\n",
      "[CV] . criterion=gini, max_depth=5, max_leaf_nodes=None, total=   0.2s\n",
      "[CV] criterion=gini, max_depth=5, max_leaf_nodes=None ................\n",
      "[CV] . criterion=gini, max_depth=5, max_leaf_nodes=None, total=   0.2s\n",
      "[CV] criterion=gini, max_depth=5, max_leaf_nodes=None ................\n",
      "[CV] . criterion=gini, max_depth=5, max_leaf_nodes=None, total=   0.2s\n",
      "[CV] criterion=gini, max_depth=5, max_leaf_nodes=None ................\n",
      "[CV] . criterion=gini, max_depth=5, max_leaf_nodes=None, total=   0.2s\n",
      "[CV] criterion=gini, max_depth=5, max_leaf_nodes=None ................\n",
      "[CV] . criterion=gini, max_depth=5, max_leaf_nodes=None, total=   0.2s\n",
      "[CV] criterion=gini, max_depth=5, max_leaf_nodes=5 ...................\n",
      "[CV] .... criterion=gini, max_depth=5, max_leaf_nodes=5, total=   0.1s\n",
      "[CV] criterion=gini, max_depth=5, max_leaf_nodes=5 ...................\n",
      "[CV] .... criterion=gini, max_depth=5, max_leaf_nodes=5, total=   0.2s\n",
      "[CV] criterion=gini, max_depth=5, max_leaf_nodes=5 ...................\n",
      "[CV] .... criterion=gini, max_depth=5, max_leaf_nodes=5, total=   0.2s\n",
      "[CV] criterion=gini, max_depth=5, max_leaf_nodes=5 ...................\n",
      "[CV] .... criterion=gini, max_depth=5, max_leaf_nodes=5, total=   0.2s\n",
      "[CV] criterion=gini, max_depth=5, max_leaf_nodes=5 ...................\n",
      "[CV] .... criterion=gini, max_depth=5, max_leaf_nodes=5, total=   0.2s\n",
      "[CV] criterion=gini, max_depth=5, max_leaf_nodes=10 ..................\n",
      "[CV] ... criterion=gini, max_depth=5, max_leaf_nodes=10, total=   0.2s\n",
      "[CV] criterion=gini, max_depth=5, max_leaf_nodes=10 ..................\n",
      "[CV] ... criterion=gini, max_depth=5, max_leaf_nodes=10, total=   0.2s\n",
      "[CV] criterion=gini, max_depth=5, max_leaf_nodes=10 ..................\n",
      "[CV] ... criterion=gini, max_depth=5, max_leaf_nodes=10, total=   0.2s\n",
      "[CV] criterion=gini, max_depth=5, max_leaf_nodes=10 ..................\n",
      "[CV] ... criterion=gini, max_depth=5, max_leaf_nodes=10, total=   0.2s\n",
      "[CV] criterion=gini, max_depth=5, max_leaf_nodes=10 ..................\n",
      "[CV] ... criterion=gini, max_depth=5, max_leaf_nodes=10, total=   0.2s\n",
      "[CV] criterion=gini, max_depth=5, max_leaf_nodes=20 ..................\n",
      "[CV] ... criterion=gini, max_depth=5, max_leaf_nodes=20, total=   0.2s\n",
      "[CV] criterion=gini, max_depth=5, max_leaf_nodes=20 ..................\n",
      "[CV] ... criterion=gini, max_depth=5, max_leaf_nodes=20, total=   0.2s\n",
      "[CV] criterion=gini, max_depth=5, max_leaf_nodes=20 ..................\n",
      "[CV] ... criterion=gini, max_depth=5, max_leaf_nodes=20, total=   0.2s\n",
      "[CV] criterion=gini, max_depth=5, max_leaf_nodes=20 ..................\n",
      "[CV] ... criterion=gini, max_depth=5, max_leaf_nodes=20, total=   0.2s\n",
      "[CV] criterion=gini, max_depth=5, max_leaf_nodes=20 ..................\n",
      "[CV] ... criterion=gini, max_depth=5, max_leaf_nodes=20, total=   0.2s\n",
      "[CV] criterion=gini, max_depth=10, max_leaf_nodes=None ...............\n",
      "[CV]  criterion=gini, max_depth=10, max_leaf_nodes=None, total=   0.3s\n",
      "[CV] criterion=gini, max_depth=10, max_leaf_nodes=None ...............\n",
      "[CV]  criterion=gini, max_depth=10, max_leaf_nodes=None, total=   0.3s\n",
      "[CV] criterion=gini, max_depth=10, max_leaf_nodes=None ...............\n",
      "[CV]  criterion=gini, max_depth=10, max_leaf_nodes=None, total=   0.3s\n",
      "[CV] criterion=gini, max_depth=10, max_leaf_nodes=None ...............\n",
      "[CV]  criterion=gini, max_depth=10, max_leaf_nodes=None, total=   0.3s\n",
      "[CV] criterion=gini, max_depth=10, max_leaf_nodes=None ...............\n",
      "[CV]  criterion=gini, max_depth=10, max_leaf_nodes=None, total=   0.3s\n",
      "[CV] criterion=gini, max_depth=10, max_leaf_nodes=5 ..................\n",
      "[CV] ... criterion=gini, max_depth=10, max_leaf_nodes=5, total=   0.1s\n",
      "[CV] criterion=gini, max_depth=10, max_leaf_nodes=5 ..................\n",
      "[CV] ... criterion=gini, max_depth=10, max_leaf_nodes=5, total=   0.1s\n",
      "[CV] criterion=gini, max_depth=10, max_leaf_nodes=5 ..................\n",
      "[CV] ... criterion=gini, max_depth=10, max_leaf_nodes=5, total=   0.1s\n",
      "[CV] criterion=gini, max_depth=10, max_leaf_nodes=5 ..................\n",
      "[CV] ... criterion=gini, max_depth=10, max_leaf_nodes=5, total=   0.2s\n",
      "[CV] criterion=gini, max_depth=10, max_leaf_nodes=5 ..................\n",
      "[CV] ... criterion=gini, max_depth=10, max_leaf_nodes=5, total=   0.2s\n",
      "[CV] criterion=gini, max_depth=10, max_leaf_nodes=10 .................\n",
      "[CV] .. criterion=gini, max_depth=10, max_leaf_nodes=10, total=   0.2s\n",
      "[CV] criterion=gini, max_depth=10, max_leaf_nodes=10 .................\n",
      "[CV] .. criterion=gini, max_depth=10, max_leaf_nodes=10, total=   0.2s\n",
      "[CV] criterion=gini, max_depth=10, max_leaf_nodes=10 .................\n",
      "[CV] .. criterion=gini, max_depth=10, max_leaf_nodes=10, total=   0.2s\n",
      "[CV] criterion=gini, max_depth=10, max_leaf_nodes=10 .................\n",
      "[CV] .. criterion=gini, max_depth=10, max_leaf_nodes=10, total=   0.2s\n",
      "[CV] criterion=gini, max_depth=10, max_leaf_nodes=10 .................\n",
      "[CV] .. criterion=gini, max_depth=10, max_leaf_nodes=10, total=   0.2s\n",
      "[CV] criterion=gini, max_depth=10, max_leaf_nodes=20 .................\n",
      "[CV] .. criterion=gini, max_depth=10, max_leaf_nodes=20, total=   0.2s\n",
      "[CV] criterion=gini, max_depth=10, max_leaf_nodes=20 .................\n",
      "[CV] .. criterion=gini, max_depth=10, max_leaf_nodes=20, total=   0.2s\n",
      "[CV] criterion=gini, max_depth=10, max_leaf_nodes=20 .................\n",
      "[CV] .. criterion=gini, max_depth=10, max_leaf_nodes=20, total=   0.2s\n",
      "[CV] criterion=gini, max_depth=10, max_leaf_nodes=20 .................\n",
      "[CV] .. criterion=gini, max_depth=10, max_leaf_nodes=20, total=   0.2s\n",
      "[CV] criterion=gini, max_depth=10, max_leaf_nodes=20 .................\n",
      "[CV] .. criterion=gini, max_depth=10, max_leaf_nodes=20, total=   0.2s\n"
     ]
    },
    {
     "name": "stdout",
     "output_type": "stream",
     "text": [
      "[CV] criterion=gini, max_depth=20, max_leaf_nodes=None ...............\n",
      "[CV]  criterion=gini, max_depth=20, max_leaf_nodes=None, total=   0.3s\n",
      "[CV] criterion=gini, max_depth=20, max_leaf_nodes=None ...............\n",
      "[CV]  criterion=gini, max_depth=20, max_leaf_nodes=None, total=   0.3s\n",
      "[CV] criterion=gini, max_depth=20, max_leaf_nodes=None ...............\n",
      "[CV]  criterion=gini, max_depth=20, max_leaf_nodes=None, total=   0.3s\n",
      "[CV] criterion=gini, max_depth=20, max_leaf_nodes=None ...............\n",
      "[CV]  criterion=gini, max_depth=20, max_leaf_nodes=None, total=   0.3s\n",
      "[CV] criterion=gini, max_depth=20, max_leaf_nodes=None ...............\n",
      "[CV]  criterion=gini, max_depth=20, max_leaf_nodes=None, total=   0.3s\n",
      "[CV] criterion=gini, max_depth=20, max_leaf_nodes=5 ..................\n",
      "[CV] ... criterion=gini, max_depth=20, max_leaf_nodes=5, total=   0.1s\n",
      "[CV] criterion=gini, max_depth=20, max_leaf_nodes=5 ..................\n",
      "[CV] ... criterion=gini, max_depth=20, max_leaf_nodes=5, total=   0.2s\n",
      "[CV] criterion=gini, max_depth=20, max_leaf_nodes=5 ..................\n",
      "[CV] ... criterion=gini, max_depth=20, max_leaf_nodes=5, total=   0.1s\n",
      "[CV] criterion=gini, max_depth=20, max_leaf_nodes=5 ..................\n",
      "[CV] ... criterion=gini, max_depth=20, max_leaf_nodes=5, total=   0.1s\n",
      "[CV] criterion=gini, max_depth=20, max_leaf_nodes=5 ..................\n",
      "[CV] ... criterion=gini, max_depth=20, max_leaf_nodes=5, total=   0.1s\n",
      "[CV] criterion=gini, max_depth=20, max_leaf_nodes=10 .................\n",
      "[CV] .. criterion=gini, max_depth=20, max_leaf_nodes=10, total=   0.2s\n",
      "[CV] criterion=gini, max_depth=20, max_leaf_nodes=10 .................\n",
      "[CV] .. criterion=gini, max_depth=20, max_leaf_nodes=10, total=   0.2s\n",
      "[CV] criterion=gini, max_depth=20, max_leaf_nodes=10 .................\n",
      "[CV] .. criterion=gini, max_depth=20, max_leaf_nodes=10, total=   0.2s\n",
      "[CV] criterion=gini, max_depth=20, max_leaf_nodes=10 .................\n",
      "[CV] .. criterion=gini, max_depth=20, max_leaf_nodes=10, total=   0.1s\n",
      "[CV] criterion=gini, max_depth=20, max_leaf_nodes=10 .................\n",
      "[CV] .. criterion=gini, max_depth=20, max_leaf_nodes=10, total=   0.1s\n",
      "[CV] criterion=gini, max_depth=20, max_leaf_nodes=20 .................\n",
      "[CV] .. criterion=gini, max_depth=20, max_leaf_nodes=20, total=   0.2s\n",
      "[CV] criterion=gini, max_depth=20, max_leaf_nodes=20 .................\n",
      "[CV] .. criterion=gini, max_depth=20, max_leaf_nodes=20, total=   0.2s\n",
      "[CV] criterion=gini, max_depth=20, max_leaf_nodes=20 .................\n",
      "[CV] .. criterion=gini, max_depth=20, max_leaf_nodes=20, total=   0.2s\n",
      "[CV] criterion=gini, max_depth=20, max_leaf_nodes=20 .................\n",
      "[CV] .. criterion=gini, max_depth=20, max_leaf_nodes=20, total=   0.2s\n",
      "[CV] criterion=gini, max_depth=20, max_leaf_nodes=20 .................\n",
      "[CV] .. criterion=gini, max_depth=20, max_leaf_nodes=20, total=   0.2s\n",
      "[CV] criterion=entropy, max_depth=2, max_leaf_nodes=None .............\n",
      "[CV]  criterion=entropy, max_depth=2, max_leaf_nodes=None, total=   0.1s\n",
      "[CV] criterion=entropy, max_depth=2, max_leaf_nodes=None .............\n",
      "[CV]  criterion=entropy, max_depth=2, max_leaf_nodes=None, total=   0.1s\n",
      "[CV] criterion=entropy, max_depth=2, max_leaf_nodes=None .............\n",
      "[CV]  criterion=entropy, max_depth=2, max_leaf_nodes=None, total=   0.1s\n",
      "[CV] criterion=entropy, max_depth=2, max_leaf_nodes=None .............\n",
      "[CV]  criterion=entropy, max_depth=2, max_leaf_nodes=None, total=   0.1s\n",
      "[CV] criterion=entropy, max_depth=2, max_leaf_nodes=None .............\n",
      "[CV]  criterion=entropy, max_depth=2, max_leaf_nodes=None, total=   0.1s\n",
      "[CV] criterion=entropy, max_depth=2, max_leaf_nodes=5 ................\n",
      "[CV] . criterion=entropy, max_depth=2, max_leaf_nodes=5, total=   0.1s\n",
      "[CV] criterion=entropy, max_depth=2, max_leaf_nodes=5 ................\n",
      "[CV] . criterion=entropy, max_depth=2, max_leaf_nodes=5, total=   0.1s\n",
      "[CV] criterion=entropy, max_depth=2, max_leaf_nodes=5 ................\n",
      "[CV] . criterion=entropy, max_depth=2, max_leaf_nodes=5, total=   0.1s\n",
      "[CV] criterion=entropy, max_depth=2, max_leaf_nodes=5 ................\n",
      "[CV] . criterion=entropy, max_depth=2, max_leaf_nodes=5, total=   0.1s\n",
      "[CV] criterion=entropy, max_depth=2, max_leaf_nodes=5 ................\n",
      "[CV] . criterion=entropy, max_depth=2, max_leaf_nodes=5, total=   0.1s\n",
      "[CV] criterion=entropy, max_depth=2, max_leaf_nodes=10 ...............\n",
      "[CV]  criterion=entropy, max_depth=2, max_leaf_nodes=10, total=   0.1s\n",
      "[CV] criterion=entropy, max_depth=2, max_leaf_nodes=10 ...............\n",
      "[CV]  criterion=entropy, max_depth=2, max_leaf_nodes=10, total=   0.1s\n",
      "[CV] criterion=entropy, max_depth=2, max_leaf_nodes=10 ...............\n",
      "[CV]  criterion=entropy, max_depth=2, max_leaf_nodes=10, total=   0.1s\n",
      "[CV] criterion=entropy, max_depth=2, max_leaf_nodes=10 ...............\n",
      "[CV]  criterion=entropy, max_depth=2, max_leaf_nodes=10, total=   0.1s\n",
      "[CV] criterion=entropy, max_depth=2, max_leaf_nodes=10 ...............\n",
      "[CV]  criterion=entropy, max_depth=2, max_leaf_nodes=10, total=   0.1s\n",
      "[CV] criterion=entropy, max_depth=2, max_leaf_nodes=20 ...............\n",
      "[CV]  criterion=entropy, max_depth=2, max_leaf_nodes=20, total=   0.1s\n",
      "[CV] criterion=entropy, max_depth=2, max_leaf_nodes=20 ...............\n",
      "[CV]  criterion=entropy, max_depth=2, max_leaf_nodes=20, total=   0.1s\n",
      "[CV] criterion=entropy, max_depth=2, max_leaf_nodes=20 ...............\n",
      "[CV]  criterion=entropy, max_depth=2, max_leaf_nodes=20, total=   0.1s\n",
      "[CV] criterion=entropy, max_depth=2, max_leaf_nodes=20 ...............\n",
      "[CV]  criterion=entropy, max_depth=2, max_leaf_nodes=20, total=   0.1s\n",
      "[CV] criterion=entropy, max_depth=2, max_leaf_nodes=20 ...............\n",
      "[CV]  criterion=entropy, max_depth=2, max_leaf_nodes=20, total=   0.1s\n",
      "[CV] criterion=entropy, max_depth=5, max_leaf_nodes=None .............\n",
      "[CV]  criterion=entropy, max_depth=5, max_leaf_nodes=None, total=   0.2s\n",
      "[CV] criterion=entropy, max_depth=5, max_leaf_nodes=None .............\n",
      "[CV]  criterion=entropy, max_depth=5, max_leaf_nodes=None, total=   0.2s\n",
      "[CV] criterion=entropy, max_depth=5, max_leaf_nodes=None .............\n",
      "[CV]  criterion=entropy, max_depth=5, max_leaf_nodes=None, total=   0.2s\n",
      "[CV] criterion=entropy, max_depth=5, max_leaf_nodes=None .............\n",
      "[CV]  criterion=entropy, max_depth=5, max_leaf_nodes=None, total=   0.2s\n",
      "[CV] criterion=entropy, max_depth=5, max_leaf_nodes=None .............\n",
      "[CV]  criterion=entropy, max_depth=5, max_leaf_nodes=None, total=   0.2s\n",
      "[CV] criterion=entropy, max_depth=5, max_leaf_nodes=5 ................\n",
      "[CV] . criterion=entropy, max_depth=5, max_leaf_nodes=5, total=   0.2s\n",
      "[CV] criterion=entropy, max_depth=5, max_leaf_nodes=5 ................\n",
      "[CV] . criterion=entropy, max_depth=5, max_leaf_nodes=5, total=   0.2s\n",
      "[CV] criterion=entropy, max_depth=5, max_leaf_nodes=5 ................\n",
      "[CV] . criterion=entropy, max_depth=5, max_leaf_nodes=5, total=   0.1s\n",
      "[CV] criterion=entropy, max_depth=5, max_leaf_nodes=5 ................\n",
      "[CV] . criterion=entropy, max_depth=5, max_leaf_nodes=5, total=   0.2s\n",
      "[CV] criterion=entropy, max_depth=5, max_leaf_nodes=5 ................\n",
      "[CV] . criterion=entropy, max_depth=5, max_leaf_nodes=5, total=   0.2s\n",
      "[CV] criterion=entropy, max_depth=5, max_leaf_nodes=10 ...............\n",
      "[CV]  criterion=entropy, max_depth=5, max_leaf_nodes=10, total=   0.2s\n",
      "[CV] criterion=entropy, max_depth=5, max_leaf_nodes=10 ...............\n",
      "[CV]  criterion=entropy, max_depth=5, max_leaf_nodes=10, total=   0.1s\n",
      "[CV] criterion=entropy, max_depth=5, max_leaf_nodes=10 ...............\n",
      "[CV]  criterion=entropy, max_depth=5, max_leaf_nodes=10, total=   0.2s\n",
      "[CV] criterion=entropy, max_depth=5, max_leaf_nodes=10 ...............\n",
      "[CV]  criterion=entropy, max_depth=5, max_leaf_nodes=10, total=   0.2s\n",
      "[CV] criterion=entropy, max_depth=5, max_leaf_nodes=10 ...............\n",
      "[CV]  criterion=entropy, max_depth=5, max_leaf_nodes=10, total=   0.2s\n",
      "[CV] criterion=entropy, max_depth=5, max_leaf_nodes=20 ...............\n",
      "[CV]  criterion=entropy, max_depth=5, max_leaf_nodes=20, total=   0.2s\n",
      "[CV] criterion=entropy, max_depth=5, max_leaf_nodes=20 ...............\n",
      "[CV]  criterion=entropy, max_depth=5, max_leaf_nodes=20, total=   0.2s\n",
      "[CV] criterion=entropy, max_depth=5, max_leaf_nodes=20 ...............\n",
      "[CV]  criterion=entropy, max_depth=5, max_leaf_nodes=20, total=   0.2s\n",
      "[CV] criterion=entropy, max_depth=5, max_leaf_nodes=20 ...............\n",
      "[CV]  criterion=entropy, max_depth=5, max_leaf_nodes=20, total=   0.2s\n",
      "[CV] criterion=entropy, max_depth=5, max_leaf_nodes=20 ...............\n",
      "[CV]  criterion=entropy, max_depth=5, max_leaf_nodes=20, total=   0.2s\n",
      "[CV] criterion=entropy, max_depth=10, max_leaf_nodes=None ............\n"
     ]
    },
    {
     "name": "stdout",
     "output_type": "stream",
     "text": [
      "[CV]  criterion=entropy, max_depth=10, max_leaf_nodes=None, total=   0.2s\n",
      "[CV] criterion=entropy, max_depth=10, max_leaf_nodes=None ............\n",
      "[CV]  criterion=entropy, max_depth=10, max_leaf_nodes=None, total=   0.3s\n",
      "[CV] criterion=entropy, max_depth=10, max_leaf_nodes=None ............\n",
      "[CV]  criterion=entropy, max_depth=10, max_leaf_nodes=None, total=   0.3s\n",
      "[CV] criterion=entropy, max_depth=10, max_leaf_nodes=None ............\n",
      "[CV]  criterion=entropy, max_depth=10, max_leaf_nodes=None, total=   0.2s\n",
      "[CV] criterion=entropy, max_depth=10, max_leaf_nodes=None ............\n",
      "[CV]  criterion=entropy, max_depth=10, max_leaf_nodes=None, total=   0.3s\n",
      "[CV] criterion=entropy, max_depth=10, max_leaf_nodes=5 ...............\n",
      "[CV]  criterion=entropy, max_depth=10, max_leaf_nodes=5, total=   0.1s\n",
      "[CV] criterion=entropy, max_depth=10, max_leaf_nodes=5 ...............\n",
      "[CV]  criterion=entropy, max_depth=10, max_leaf_nodes=5, total=   0.2s\n",
      "[CV] criterion=entropy, max_depth=10, max_leaf_nodes=5 ...............\n",
      "[CV]  criterion=entropy, max_depth=10, max_leaf_nodes=5, total=   0.1s\n",
      "[CV] criterion=entropy, max_depth=10, max_leaf_nodes=5 ...............\n",
      "[CV]  criterion=entropy, max_depth=10, max_leaf_nodes=5, total=   0.2s\n",
      "[CV] criterion=entropy, max_depth=10, max_leaf_nodes=5 ...............\n",
      "[CV]  criterion=entropy, max_depth=10, max_leaf_nodes=5, total=   0.1s\n",
      "[CV] criterion=entropy, max_depth=10, max_leaf_nodes=10 ..............\n",
      "[CV]  criterion=entropy, max_depth=10, max_leaf_nodes=10, total=   0.2s\n",
      "[CV] criterion=entropy, max_depth=10, max_leaf_nodes=10 ..............\n",
      "[CV]  criterion=entropy, max_depth=10, max_leaf_nodes=10, total=   0.2s\n",
      "[CV] criterion=entropy, max_depth=10, max_leaf_nodes=10 ..............\n",
      "[CV]  criterion=entropy, max_depth=10, max_leaf_nodes=10, total=   0.2s\n",
      "[CV] criterion=entropy, max_depth=10, max_leaf_nodes=10 ..............\n",
      "[CV]  criterion=entropy, max_depth=10, max_leaf_nodes=10, total=   0.2s\n",
      "[CV] criterion=entropy, max_depth=10, max_leaf_nodes=10 ..............\n",
      "[CV]  criterion=entropy, max_depth=10, max_leaf_nodes=10, total=   0.2s\n",
      "[CV] criterion=entropy, max_depth=10, max_leaf_nodes=20 ..............\n",
      "[CV]  criterion=entropy, max_depth=10, max_leaf_nodes=20, total=   0.2s\n",
      "[CV] criterion=entropy, max_depth=10, max_leaf_nodes=20 ..............\n",
      "[CV]  criterion=entropy, max_depth=10, max_leaf_nodes=20, total=   0.2s\n",
      "[CV] criterion=entropy, max_depth=10, max_leaf_nodes=20 ..............\n",
      "[CV]  criterion=entropy, max_depth=10, max_leaf_nodes=20, total=   0.2s\n",
      "[CV] criterion=entropy, max_depth=10, max_leaf_nodes=20 ..............\n",
      "[CV]  criterion=entropy, max_depth=10, max_leaf_nodes=20, total=   0.2s\n",
      "[CV] criterion=entropy, max_depth=10, max_leaf_nodes=20 ..............\n",
      "[CV]  criterion=entropy, max_depth=10, max_leaf_nodes=20, total=   0.2s\n",
      "[CV] criterion=entropy, max_depth=20, max_leaf_nodes=None ............\n",
      "[CV]  criterion=entropy, max_depth=20, max_leaf_nodes=None, total=   0.3s\n",
      "[CV] criterion=entropy, max_depth=20, max_leaf_nodes=None ............\n",
      "[CV]  criterion=entropy, max_depth=20, max_leaf_nodes=None, total=   0.3s\n",
      "[CV] criterion=entropy, max_depth=20, max_leaf_nodes=None ............\n",
      "[CV]  criterion=entropy, max_depth=20, max_leaf_nodes=None, total=   0.3s\n",
      "[CV] criterion=entropy, max_depth=20, max_leaf_nodes=None ............\n",
      "[CV]  criterion=entropy, max_depth=20, max_leaf_nodes=None, total=   0.3s\n",
      "[CV] criterion=entropy, max_depth=20, max_leaf_nodes=None ............\n",
      "[CV]  criterion=entropy, max_depth=20, max_leaf_nodes=None, total=   0.3s\n",
      "[CV] criterion=entropy, max_depth=20, max_leaf_nodes=5 ...............\n",
      "[CV]  criterion=entropy, max_depth=20, max_leaf_nodes=5, total=   0.2s\n",
      "[CV] criterion=entropy, max_depth=20, max_leaf_nodes=5 ...............\n",
      "[CV]  criterion=entropy, max_depth=20, max_leaf_nodes=5, total=   0.2s\n",
      "[CV] criterion=entropy, max_depth=20, max_leaf_nodes=5 ...............\n",
      "[CV]  criterion=entropy, max_depth=20, max_leaf_nodes=5, total=   0.2s\n",
      "[CV] criterion=entropy, max_depth=20, max_leaf_nodes=5 ...............\n",
      "[CV]  criterion=entropy, max_depth=20, max_leaf_nodes=5, total=   0.2s\n",
      "[CV] criterion=entropy, max_depth=20, max_leaf_nodes=5 ...............\n",
      "[CV]  criterion=entropy, max_depth=20, max_leaf_nodes=5, total=   0.1s\n",
      "[CV] criterion=entropy, max_depth=20, max_leaf_nodes=10 ..............\n",
      "[CV]  criterion=entropy, max_depth=20, max_leaf_nodes=10, total=   0.2s\n",
      "[CV] criterion=entropy, max_depth=20, max_leaf_nodes=10 ..............\n",
      "[CV]  criterion=entropy, max_depth=20, max_leaf_nodes=10, total=   0.2s\n",
      "[CV] criterion=entropy, max_depth=20, max_leaf_nodes=10 ..............\n",
      "[CV]  criterion=entropy, max_depth=20, max_leaf_nodes=10, total=   0.2s\n",
      "[CV] criterion=entropy, max_depth=20, max_leaf_nodes=10 ..............\n",
      "[CV]  criterion=entropy, max_depth=20, max_leaf_nodes=10, total=   0.2s\n",
      "[CV] criterion=entropy, max_depth=20, max_leaf_nodes=10 ..............\n",
      "[CV]  criterion=entropy, max_depth=20, max_leaf_nodes=10, total=   0.2s\n",
      "[CV] criterion=entropy, max_depth=20, max_leaf_nodes=20 ..............\n",
      "[CV]  criterion=entropy, max_depth=20, max_leaf_nodes=20, total=   0.2s\n",
      "[CV] criterion=entropy, max_depth=20, max_leaf_nodes=20 ..............\n",
      "[CV]  criterion=entropy, max_depth=20, max_leaf_nodes=20, total=   0.2s\n",
      "[CV] criterion=entropy, max_depth=20, max_leaf_nodes=20 ..............\n",
      "[CV]  criterion=entropy, max_depth=20, max_leaf_nodes=20, total=   0.2s\n",
      "[CV] criterion=entropy, max_depth=20, max_leaf_nodes=20 ..............\n",
      "[CV]  criterion=entropy, max_depth=20, max_leaf_nodes=20, total=   0.2s\n",
      "[CV] criterion=entropy, max_depth=20, max_leaf_nodes=20 ..............\n",
      "[CV]  criterion=entropy, max_depth=20, max_leaf_nodes=20, total=   0.2s\n"
     ]
    },
    {
     "name": "stderr",
     "output_type": "stream",
     "text": [
      "[Parallel(n_jobs=1)]: Done 160 out of 160 | elapsed:   28.0s finished\n"
     ]
    },
    {
     "data": {
      "text/plain": [
       "GridSearchCV(cv=None, error_score=nan,\n",
       "             estimator=DecisionTreeClassifier(ccp_alpha=0.0, class_weight=None,\n",
       "                                              criterion='gini', max_depth=None,\n",
       "                                              max_features=None,\n",
       "                                              max_leaf_nodes=None,\n",
       "                                              min_impurity_decrease=0.0,\n",
       "                                              min_impurity_split=None,\n",
       "                                              min_samples_leaf=1,\n",
       "                                              min_samples_split=2,\n",
       "                                              min_weight_fraction_leaf=0.0,\n",
       "                                              presort='deprecated',\n",
       "                                              random_state=None,\n",
       "                                              splitter='best'),\n",
       "             iid='deprecated', n_jobs=None,\n",
       "             param_grid={'criterion': ['gini', 'entropy'],\n",
       "                         'max_depth': [2, 5, 10, 20],\n",
       "                         'max_leaf_nodes': [None, 5, 10, 20]},\n",
       "             pre_dispatch='2*n_jobs', refit=True, return_train_score=False,\n",
       "             scoring=None, verbose=2)"
      ]
     },
     "execution_count": 377,
     "metadata": {},
     "output_type": "execute_result"
    }
   ],
   "source": [
    "grid.fit(x1_train, y1_train)"
   ]
  },
  {
   "cell_type": "code",
   "execution_count": 378,
   "metadata": {},
   "outputs": [
    {
     "name": "stdout",
     "output_type": "stream",
     "text": [
      "Best Parameter:  {'criterion': 'entropy', 'max_depth': 20, 'max_leaf_nodes': None}\n",
      "Model:  DecisionTreeClassifier(ccp_alpha=0.0, class_weight=None, criterion='entropy',\n",
      "                       max_depth=20, max_features=None, max_leaf_nodes=None,\n",
      "                       min_impurity_decrease=0.0, min_impurity_split=None,\n",
      "                       min_samples_leaf=1, min_samples_split=2,\n",
      "                       min_weight_fraction_leaf=0.0, presort='deprecated',\n",
      "                       random_state=None, splitter='best')\n"
     ]
    }
   ],
   "source": [
    "print('Best Parameter: ', grid.best_params_) \n",
    "\n",
    "print('Model: ', grid.best_estimator_)"
   ]
  },
  {
   "cell_type": "code",
   "execution_count": 379,
   "metadata": {},
   "outputs": [],
   "source": [
    "# dt1=DecisionTreeClassifier(class_weight=None, criterion='entropy', max_depth=None,\n",
    "#             max_features=None, max_leaf_nodes=None,\n",
    "#             min_impurity_decrease=0.0, min_impurity_split=None,\n",
    "#             min_samples_leaf=1, min_samples_split=2,\n",
    "#             min_weight_fraction_leaf=0.0, presort=False, random_state=None,\n",
    "#             splitter='best')\n",
    "# dt1 = dt1.fit(x1_train,y1_train)"
   ]
  },
  {
   "cell_type": "code",
   "execution_count": 380,
   "metadata": {},
   "outputs": [
    {
     "name": "stdout",
     "output_type": "stream",
     "text": [
      "Accuracy: 0.9904002556059022\n",
      "Confusion Matrix: \n",
      " [[34049   327]\n",
      " [  334 34146]]\n",
      "Classification Report: \n",
      "               precision    recall  f1-score   support\n",
      "\n",
      "           0       0.99      0.99      0.99     34376\n",
      "           1       0.99      0.99      0.99     34480\n",
      "\n",
      "    accuracy                           0.99     68856\n",
      "   macro avg       0.99      0.99      0.99     68856\n",
      "weighted avg       0.99      0.99      0.99     68856\n",
      "\n"
     ]
    }
   ],
   "source": [
    "grid_predictions = grid.predict(x1_test)\n",
    "print('Accuracy:',accuracy_score(y1_test,grid_predictions))\n",
    "print('Confusion Matrix: \\n', confusion_matrix(y1_test,grid_predictions))\n",
    "print('Classification Report: \\n', classification_report(y1_test,grid_predictions))"
   ]
  },
  {
   "cell_type": "code",
   "execution_count": 381,
   "metadata": {},
   "outputs": [
    {
     "data": {
      "image/png": "[encoded data removed]",
      "text/plain": [
       "<Figure size 432x288 with 1 Axes>"
      ]
     },
     "metadata": {},
     "output_type": "display_data"
    }
   ],
   "source": [
    "test_accuracy = []\n",
    "train_accuracy = []\n",
    "depth = []\n",
    "for i in range(1,grid.best_params_['max_depth']+30):\n",
    "    dtc = DecisionTreeClassifier(max_depth=i)\n",
    "# Train Decision Tree Classifer\n",
    "    dtc = dtc.fit(x1_train,y1_train)\n",
    "\n",
    "    predictionstest = dtc.predict(x1_test)\n",
    "    predictionstrain = dtc.predict(x1_train)\n",
    "\n",
    "    test_accuracy.append(accuracy_score(y1_test,predictionstest)*100)\n",
    "    train_accuracy.append(accuracy_score(y1_train,predictionstrain)*100)\n",
    "    depth.append(i)\n",
    "    \n",
    "plt.xlabel('Depth')\n",
    "plt.ylabel('Accuracy')\n",
    "plt.plot(depth,train_accuracy, label='train')\n",
    "plt.plot(depth,test_accuracy, label='test')\n",
    "plt.legend()\n",
    "plt.show()"
   ]
  },
  {
   "cell_type": "code",
   "execution_count": 382,
   "metadata": {},
   "outputs": [
    {
     "name": "stdout",
     "output_type": "stream",
     "text": [
      "Scores:  [0.98761398 0.98926337 0.98864096 0.98758286 0.98786257]\n",
      "Accuracy: 0.99 (+/- 0.00)\n"
     ]
    }
   ],
   "source": [
    "model = DecisionTreeClassifier(max_depth=20)\n",
    "scores = cross_val_score(model, x1_train, y1_train, scoring='accuracy', cv=5)\n",
    "print('Scores: ',scores)\n",
    "print(\"Accuracy: %0.2f (+/- %0.2f)\" % (scores.mean(), scores.std() * 2))"
   ]
  },
  {
   "cell_type": "code",
   "execution_count": 91,
   "metadata": {},
   "outputs": [
    {
     "data": {
      "text/html": [
       "<div>\n",
       "<style scoped>\n",
       "    .dataframe tbody tr th:only-of-type {\n",
       "        vertical-align: middle;\n",
       "    }\n",
       "\n",
       "    .dataframe tbody tr th {\n",
       "        vertical-align: top;\n",
       "    }\n",
       "\n",
       "    .dataframe thead th {\n",
       "        text-align: right;\n",
       "    }\n",
       "</style>\n",
       "<table border=\"1\" class=\"dataframe\">\n",
       "  <thead>\n",
       "    <tr style=\"text-align: right;\">\n",
       "      <th></th>\n",
       "      <th>MWG</th>\n",
       "      <th>NWG</th>\n",
       "      <th>KWG</th>\n",
       "      <th>MDIMC</th>\n",
       "      <th>NDIMC</th>\n",
       "      <th>MDIMA</th>\n",
       "      <th>NDIMB</th>\n",
       "      <th>KWI</th>\n",
       "      <th>VWM</th>\n",
       "      <th>VWN</th>\n",
       "      <th>STRM</th>\n",
       "      <th>STRN</th>\n",
       "      <th>SA</th>\n",
       "      <th>SB</th>\n",
       "    </tr>\n",
       "  </thead>\n",
       "  <tbody>\n",
       "    <tr>\n",
       "      <td>0</td>\n",
       "      <td>16</td>\n",
       "      <td>16</td>\n",
       "      <td>16</td>\n",
       "      <td>8</td>\n",
       "      <td>8</td>\n",
       "      <td>8</td>\n",
       "      <td>8</td>\n",
       "      <td>2</td>\n",
       "      <td>1</td>\n",
       "      <td>1</td>\n",
       "      <td>0</td>\n",
       "      <td>0</td>\n",
       "      <td>0</td>\n",
       "      <td>0</td>\n",
       "    </tr>\n",
       "    <tr>\n",
       "      <td>1</td>\n",
       "      <td>16</td>\n",
       "      <td>16</td>\n",
       "      <td>16</td>\n",
       "      <td>8</td>\n",
       "      <td>8</td>\n",
       "      <td>8</td>\n",
       "      <td>8</td>\n",
       "      <td>2</td>\n",
       "      <td>1</td>\n",
       "      <td>1</td>\n",
       "      <td>0</td>\n",
       "      <td>0</td>\n",
       "      <td>0</td>\n",
       "      <td>1</td>\n",
       "    </tr>\n",
       "    <tr>\n",
       "      <td>2</td>\n",
       "      <td>16</td>\n",
       "      <td>16</td>\n",
       "      <td>16</td>\n",
       "      <td>8</td>\n",
       "      <td>8</td>\n",
       "      <td>8</td>\n",
       "      <td>8</td>\n",
       "      <td>2</td>\n",
       "      <td>1</td>\n",
       "      <td>1</td>\n",
       "      <td>0</td>\n",
       "      <td>0</td>\n",
       "      <td>1</td>\n",
       "      <td>0</td>\n",
       "    </tr>\n",
       "    <tr>\n",
       "      <td>3</td>\n",
       "      <td>16</td>\n",
       "      <td>16</td>\n",
       "      <td>16</td>\n",
       "      <td>8</td>\n",
       "      <td>8</td>\n",
       "      <td>8</td>\n",
       "      <td>8</td>\n",
       "      <td>2</td>\n",
       "      <td>1</td>\n",
       "      <td>1</td>\n",
       "      <td>0</td>\n",
       "      <td>0</td>\n",
       "      <td>1</td>\n",
       "      <td>1</td>\n",
       "    </tr>\n",
       "    <tr>\n",
       "      <td>4</td>\n",
       "      <td>16</td>\n",
       "      <td>16</td>\n",
       "      <td>16</td>\n",
       "      <td>8</td>\n",
       "      <td>8</td>\n",
       "      <td>8</td>\n",
       "      <td>8</td>\n",
       "      <td>2</td>\n",
       "      <td>1</td>\n",
       "      <td>1</td>\n",
       "      <td>0</td>\n",
       "      <td>1</td>\n",
       "      <td>0</td>\n",
       "      <td>0</td>\n",
       "    </tr>\n",
       "    <tr>\n",
       "      <td>...</td>\n",
       "      <td>...</td>\n",
       "      <td>...</td>\n",
       "      <td>...</td>\n",
       "      <td>...</td>\n",
       "      <td>...</td>\n",
       "      <td>...</td>\n",
       "      <td>...</td>\n",
       "      <td>...</td>\n",
       "      <td>...</td>\n",
       "      <td>...</td>\n",
       "      <td>...</td>\n",
       "      <td>...</td>\n",
       "      <td>...</td>\n",
       "      <td>...</td>\n",
       "    </tr>\n",
       "    <tr>\n",
       "      <td>241593</td>\n",
       "      <td>128</td>\n",
       "      <td>128</td>\n",
       "      <td>32</td>\n",
       "      <td>32</td>\n",
       "      <td>32</td>\n",
       "      <td>32</td>\n",
       "      <td>32</td>\n",
       "      <td>8</td>\n",
       "      <td>4</td>\n",
       "      <td>4</td>\n",
       "      <td>1</td>\n",
       "      <td>0</td>\n",
       "      <td>0</td>\n",
       "      <td>1</td>\n",
       "    </tr>\n",
       "    <tr>\n",
       "      <td>241594</td>\n",
       "      <td>128</td>\n",
       "      <td>128</td>\n",
       "      <td>32</td>\n",
       "      <td>32</td>\n",
       "      <td>32</td>\n",
       "      <td>32</td>\n",
       "      <td>32</td>\n",
       "      <td>8</td>\n",
       "      <td>4</td>\n",
       "      <td>4</td>\n",
       "      <td>1</td>\n",
       "      <td>0</td>\n",
       "      <td>1</td>\n",
       "      <td>0</td>\n",
       "    </tr>\n",
       "    <tr>\n",
       "      <td>241596</td>\n",
       "      <td>128</td>\n",
       "      <td>128</td>\n",
       "      <td>32</td>\n",
       "      <td>32</td>\n",
       "      <td>32</td>\n",
       "      <td>32</td>\n",
       "      <td>32</td>\n",
       "      <td>8</td>\n",
       "      <td>4</td>\n",
       "      <td>4</td>\n",
       "      <td>1</td>\n",
       "      <td>1</td>\n",
       "      <td>0</td>\n",
       "      <td>0</td>\n",
       "    </tr>\n",
       "    <tr>\n",
       "      <td>241597</td>\n",
       "      <td>128</td>\n",
       "      <td>128</td>\n",
       "      <td>32</td>\n",
       "      <td>32</td>\n",
       "      <td>32</td>\n",
       "      <td>32</td>\n",
       "      <td>32</td>\n",
       "      <td>8</td>\n",
       "      <td>4</td>\n",
       "      <td>4</td>\n",
       "      <td>1</td>\n",
       "      <td>1</td>\n",
       "      <td>0</td>\n",
       "      <td>1</td>\n",
       "    </tr>\n",
       "    <tr>\n",
       "      <td>241598</td>\n",
       "      <td>128</td>\n",
       "      <td>128</td>\n",
       "      <td>32</td>\n",
       "      <td>32</td>\n",
       "      <td>32</td>\n",
       "      <td>32</td>\n",
       "      <td>32</td>\n",
       "      <td>8</td>\n",
       "      <td>4</td>\n",
       "      <td>4</td>\n",
       "      <td>1</td>\n",
       "      <td>1</td>\n",
       "      <td>1</td>\n",
       "      <td>0</td>\n",
       "    </tr>\n",
       "  </tbody>\n",
       "</table>\n",
       "<p>229520 rows × 14 columns</p>\n",
       "</div>"
      ],
      "text/plain": [
       "        MWG  NWG  KWG  MDIMC  NDIMC  MDIMA  NDIMB  KWI  VWM  VWN  STRM  STRN  \\\n",
       "0        16   16   16      8      8      8      8    2    1    1     0     0   \n",
       "1        16   16   16      8      8      8      8    2    1    1     0     0   \n",
       "2        16   16   16      8      8      8      8    2    1    1     0     0   \n",
       "3        16   16   16      8      8      8      8    2    1    1     0     0   \n",
       "4        16   16   16      8      8      8      8    2    1    1     0     1   \n",
       "...     ...  ...  ...    ...    ...    ...    ...  ...  ...  ...   ...   ...   \n",
       "241593  128  128   32     32     32     32     32    8    4    4     1     0   \n",
       "241594  128  128   32     32     32     32     32    8    4    4     1     0   \n",
       "241596  128  128   32     32     32     32     32    8    4    4     1     1   \n",
       "241597  128  128   32     32     32     32     32    8    4    4     1     1   \n",
       "241598  128  128   32     32     32     32     32    8    4    4     1     1   \n",
       "\n",
       "        SA  SB  \n",
       "0        0   0  \n",
       "1        0   1  \n",
       "2        1   0  \n",
       "3        1   1  \n",
       "4        0   0  \n",
       "...     ..  ..  \n",
       "241593   0   1  \n",
       "241594   1   0  \n",
       "241596   0   0  \n",
       "241597   0   1  \n",
       "241598   1   0  \n",
       "\n",
       "[229520 rows x 14 columns]"
      ]
     },
     "execution_count": 91,
     "metadata": {},
     "output_type": "execute_result"
    }
   ],
   "source": [
    "x"
   ]
  },
  {
   "cell_type": "markdown",
   "metadata": {},
   "source": [
    "# BOOSTING"
   ]
  },
  {
   "cell_type": "code",
   "execution_count": 88,
   "metadata": {},
   "outputs": [
    {
     "name": "stdout",
     "output_type": "stream",
     "text": [
      "CPU times: user 6.45 s, sys: 453 ms, total: 6.9 s\n",
      "Wall time: 6.91 s\n"
     ]
    }
   ],
   "source": [
    "%%time\n",
    "adb = AdaBoostClassifier(n_estimators=100,learning_rate=1)\n",
    "adb = adb.fit(x1_train, y1_train)"
   ]
  },
  {
   "cell_type": "code",
   "execution_count": 90,
   "metadata": {},
   "outputs": [
    {
     "name": "stdout",
     "output_type": "stream",
     "text": [
      "Accuracy: 0.7932351574299988\n",
      "Confusion Matrix: \n",
      " [[26527  7849]\n",
      " [ 6388 28092]]\n",
      "Classification Report: \n",
      "               precision    recall  f1-score   support\n",
      "\n",
      "           0       0.81      0.77      0.79     34376\n",
      "           1       0.78      0.81      0.80     34480\n",
      "\n",
      "    accuracy                           0.79     68856\n",
      "   macro avg       0.79      0.79      0.79     68856\n",
      "weighted avg       0.79      0.79      0.79     68856\n",
      "\n"
     ]
    }
   ],
   "source": [
    "#Predict the response for test dataset\n",
    "predictions = adb.predict(x1_test)\n",
    "# print classification report \n",
    "print('Accuracy:',accuracy_score(y1_test,predictions))\n",
    "print('Confusion Matrix: \\n',confusion_matrix(y1_test, predictions))\n",
    "print('Classification Report: \\n',classification_report(y1_test, predictions)) "
   ]
  },
  {
   "cell_type": "code",
   "execution_count": 386,
   "metadata": {},
   "outputs": [],
   "source": [
    "# param_grid = {\"n_estimators\": [50, 100, 500, 1000, 1500],\n",
    "#               \"learning_rate\": [0.1, 1, 2]\n",
    "#               }\n",
    "# grid = GridSearchCV(AdaBoostClassifier(), param_grid, refit = True, verbose = 2) \n",
    "\n",
    "# grid.fit(x1_train, y1_train)\n",
    "\n",
    "# print('Best Parameter: ', grid.best_params_) \n",
    "\n",
    "# print('Model: ', grid.best_estimator_)"
   ]
  },
  {
   "cell_type": "code",
   "execution_count": 387,
   "metadata": {},
   "outputs": [],
   "source": [
    "# grid_predictions = grid.predict(x1_test)\n",
    "# print('Accuracy:',accuracy_score(y1_test,grid_predictions))\n",
    "# print('Confusion Matrix: \\n', confusion_matrix(y1_test,grid_predictions))\n",
    "# print('Classification Report: \\n', classification_report(y1_test,grid_predictions))"
   ]
  },
  {
   "cell_type": "code",
   "execution_count": 388,
   "metadata": {},
   "outputs": [
    {
     "data": {
      "image/png": "[encoded data removed]",
      "text/plain": [
       "<Figure size 432x288 with 1 Axes>"
      ]
     },
     "metadata": {},
     "output_type": "display_data"
    }
   ],
   "source": [
    "test_accuracy = []\n",
    "train_accuracy = []\n",
    "depth = []\n",
    "for i in range(100,1001+300,100):\n",
    "    dtc = AdaBoostClassifier(n_estimators=i, learning_rate=1)\n",
    "# Train Decision Tree Classifer\n",
    "    dtc = dtc.fit(x1_train,y1_train)\n",
    "\n",
    "    predictionstest = dtc.predict(x1_test)\n",
    "    predictionstrain = dtc.predict(x1_train)\n",
    "\n",
    "    test_accuracy.append(accuracy_score(y1_test,predictionstest)*100)\n",
    "    train_accuracy.append(accuracy_score(y1_train,predictionstrain)*100)\n",
    "    depth.append(i)\n",
    "    \n",
    "plt.xlabel('Estimators')\n",
    "plt.ylabel('Accuracy')\n",
    "plt.plot(depth,train_accuracy, label='train')\n",
    "plt.plot(depth,test_accuracy, label='test')\n",
    "plt.legend()\n",
    "plt.show()"
   ]
  },
  {
   "cell_type": "code",
   "execution_count": 67,
   "metadata": {},
   "outputs": [
    {
     "name": "stdout",
     "output_type": "stream",
     "text": [
      "Scores:  [0.86678201 0.85194805 0.84069264 0.85714286 0.85714286]\n",
      "Accuracy: 0.85 (+/- 0.02)\n"
     ]
    }
   ],
   "source": [
    "model = AdaBoostClassifier(n_estimators=300, learning_rate=1)\n",
    "scores = cross_val_score(model, x1_train, y1_train, scoring='accuracy', cv=5)\n",
    "print('Scores: ',scores)\n",
    "print(\"Accuracy: %0.2f (+/- %0.2f)\" % (scores.mean(), scores.std() * 2))"
   ]
  },
  {
   "cell_type": "markdown",
   "metadata": {},
   "source": [
    "# INCOME DATA"
   ]
  },
  {
   "cell_type": "code",
   "execution_count": 101,
   "metadata": {},
   "outputs": [],
   "source": [
    "incomedata = pd.read_csv('income_evaluation.csv')"
   ]
  },
  {
   "cell_type": "code",
   "execution_count": 102,
   "metadata": {},
   "outputs": [
    {
     "name": "stdout",
     "output_type": "stream",
     "text": [
      "<class 'pandas.core.frame.DataFrame'>\n",
      "RangeIndex: 32561 entries, 0 to 32560\n",
      "Data columns (total 15 columns):\n",
      "age               32561 non-null int64\n",
      "workclass         32561 non-null object\n",
      "fnlwgt            32561 non-null int64\n",
      "education         32561 non-null object\n",
      "education-num     32561 non-null int64\n",
      "marital-status    32561 non-null object\n",
      "occupation        32561 non-null object\n",
      "relationship      32561 non-null object\n",
      "race              32561 non-null object\n",
      "sex               32561 non-null object\n",
      "capital-gain      32561 non-null int64\n",
      "capital-loss      32561 non-null int64\n",
      "hours-per-week    32561 non-null int64\n",
      "native_country    32561 non-null object\n",
      "income            32561 non-null object\n",
      "dtypes: int64(6), object(9)\n",
      "memory usage: 3.7+ MB\n"
     ]
    }
   ],
   "source": [
    "incomedata.info()"
   ]
  },
  {
   "cell_type": "code",
   "execution_count": 103,
   "metadata": {},
   "outputs": [
    {
     "data": {
      "text/html": [
       "<div>\n",
       "<style scoped>\n",
       "    .dataframe tbody tr th:only-of-type {\n",
       "        vertical-align: middle;\n",
       "    }\n",
       "\n",
       "    .dataframe tbody tr th {\n",
       "        vertical-align: top;\n",
       "    }\n",
       "\n",
       "    .dataframe thead th {\n",
       "        text-align: right;\n",
       "    }\n",
       "</style>\n",
       "<table border=\"1\" class=\"dataframe\">\n",
       "  <thead>\n",
       "    <tr style=\"text-align: right;\">\n",
       "      <th></th>\n",
       "      <th>Total</th>\n",
       "      <th>Percent</th>\n",
       "    </tr>\n",
       "  </thead>\n",
       "  <tbody>\n",
       "    <tr>\n",
       "      <td>income</td>\n",
       "      <td>0</td>\n",
       "      <td>0.0</td>\n",
       "    </tr>\n",
       "    <tr>\n",
       "      <td>native_country</td>\n",
       "      <td>0</td>\n",
       "      <td>0.0</td>\n",
       "    </tr>\n",
       "    <tr>\n",
       "      <td>hours-per-week</td>\n",
       "      <td>0</td>\n",
       "      <td>0.0</td>\n",
       "    </tr>\n",
       "    <tr>\n",
       "      <td>capital-loss</td>\n",
       "      <td>0</td>\n",
       "      <td>0.0</td>\n",
       "    </tr>\n",
       "    <tr>\n",
       "      <td>capital-gain</td>\n",
       "      <td>0</td>\n",
       "      <td>0.0</td>\n",
       "    </tr>\n",
       "    <tr>\n",
       "      <td>sex</td>\n",
       "      <td>0</td>\n",
       "      <td>0.0</td>\n",
       "    </tr>\n",
       "    <tr>\n",
       "      <td>race</td>\n",
       "      <td>0</td>\n",
       "      <td>0.0</td>\n",
       "    </tr>\n",
       "    <tr>\n",
       "      <td>relationship</td>\n",
       "      <td>0</td>\n",
       "      <td>0.0</td>\n",
       "    </tr>\n",
       "    <tr>\n",
       "      <td>occupation</td>\n",
       "      <td>0</td>\n",
       "      <td>0.0</td>\n",
       "    </tr>\n",
       "    <tr>\n",
       "      <td>marital-status</td>\n",
       "      <td>0</td>\n",
       "      <td>0.0</td>\n",
       "    </tr>\n",
       "  </tbody>\n",
       "</table>\n",
       "</div>"
      ],
      "text/plain": [
       "                Total  Percent\n",
       "income              0      0.0\n",
       "native_country      0      0.0\n",
       "hours-per-week      0      0.0\n",
       "capital-loss        0      0.0\n",
       "capital-gain        0      0.0\n",
       "sex                 0      0.0\n",
       "race                0      0.0\n",
       "relationship        0      0.0\n",
       "occupation          0      0.0\n",
       "marital-status      0      0.0"
      ]
     },
     "execution_count": 103,
     "metadata": {},
     "output_type": "execute_result"
    }
   ],
   "source": [
    "#missing data\n",
    "total = incomedata.isnull().sum().sort_values(ascending=False)\n",
    "percent = (incomedata.isnull().sum()/incomedata.isnull().count()).sort_values(ascending=False)\n",
    "missing_data = pd.concat([total, percent], axis=1, keys=['Total', 'Percent'])\n",
    "missing_data.head(10)"
   ]
  },
  {
   "cell_type": "code",
   "execution_count": 104,
   "metadata": {
    "scrolled": false
   },
   "outputs": [
    {
     "data": {
      "image/png": "[encoded data removed]",
      "text/plain": [
       "<Figure size 648x648 with 6 Axes>"
      ]
     },
     "metadata": {},
     "output_type": "display_data"
    }
   ],
   "source": [
    "incomedata.hist(bins = 6 , figsize=(9,9), color = 'maroon');"
   ]
  },
  {
   "cell_type": "code",
   "execution_count": 105,
   "metadata": {},
   "outputs": [
    {
     "data": {
      "image/png": "[encoded data removed]",
      "text/plain": [
       "<Figure size 432x288 with 1 Axes>"
      ]
     },
     "metadata": {},
     "output_type": "display_data"
    }
   ],
   "source": [
    "bplot = sb.barplot(x = incomedata['education'], y = incomedata['hours-per-week'], data = incomedata)\n",
    "plt.setp(bplot.get_xticklabels(), rotation=90);"
   ]
  },
  {
   "cell_type": "code",
   "execution_count": 106,
   "metadata": {},
   "outputs": [
    {
     "data": {
      "image/png": "[encoded data removed]",
      "text/plain": [
       "<Figure size 864x864 with 2 Axes>"
      ]
     },
     "metadata": {},
     "output_type": "display_data"
    }
   ],
   "source": [
    "#Plotting correlation matrix\n",
    "incomevar = ['age','fnlwgt','education-num','capital-gain','capital-loss','hours-per-week']\n",
    "incomecorr= incomedata[incomevar]\n",
    "corr=incomecorr.corr()\n",
    "plt.figure(figsize = (12,12))\n",
    "sb.set(font_scale=1)\n",
    "sb.heatmap(corr, cbar = True, annot=True, square = True, fmt = '.2f', xticklabels=incomevar, yticklabels=incomevar, cmap=\"Blues\",)\n",
    "plt.show();"
   ]
  },
  {
   "cell_type": "markdown",
   "metadata": {},
   "source": [
    "incomedata"
   ]
  },
  {
   "cell_type": "code",
   "execution_count": 107,
   "metadata": {
    "scrolled": true
   },
   "outputs": [
    {
     "data": {
      "text/html": [
       "<div>\n",
       "<style scoped>\n",
       "    .dataframe tbody tr th:only-of-type {\n",
       "        vertical-align: middle;\n",
       "    }\n",
       "\n",
       "    .dataframe tbody tr th {\n",
       "        vertical-align: top;\n",
       "    }\n",
       "\n",
       "    .dataframe thead th {\n",
       "        text-align: right;\n",
       "    }\n",
       "</style>\n",
       "<table border=\"1\" class=\"dataframe\">\n",
       "  <thead>\n",
       "    <tr style=\"text-align: right;\">\n",
       "      <th></th>\n",
       "      <th>age</th>\n",
       "      <th>workclass</th>\n",
       "      <th>fnlwgt</th>\n",
       "      <th>education</th>\n",
       "      <th>education-num</th>\n",
       "      <th>marital-status</th>\n",
       "      <th>occupation</th>\n",
       "      <th>relationship</th>\n",
       "      <th>race</th>\n",
       "      <th>sex</th>\n",
       "      <th>capital-gain</th>\n",
       "      <th>capital-loss</th>\n",
       "      <th>hours-per-week</th>\n",
       "      <th>income</th>\n",
       "    </tr>\n",
       "  </thead>\n",
       "  <tbody>\n",
       "    <tr>\n",
       "      <td>15927</td>\n",
       "      <td>54</td>\n",
       "      <td>Private</td>\n",
       "      <td>213092</td>\n",
       "      <td>HS-grad</td>\n",
       "      <td>9</td>\n",
       "      <td>Divorced</td>\n",
       "      <td>Other-service</td>\n",
       "      <td>Not-in-family</td>\n",
       "      <td>White</td>\n",
       "      <td>Female</td>\n",
       "      <td>0</td>\n",
       "      <td>0</td>\n",
       "      <td>40</td>\n",
       "      <td>&lt;=50K</td>\n",
       "    </tr>\n",
       "    <tr>\n",
       "      <td>17549</td>\n",
       "      <td>46</td>\n",
       "      <td>Private</td>\n",
       "      <td>174995</td>\n",
       "      <td>HS-grad</td>\n",
       "      <td>9</td>\n",
       "      <td>Divorced</td>\n",
       "      <td>Adm-clerical</td>\n",
       "      <td>Unmarried</td>\n",
       "      <td>White</td>\n",
       "      <td>Female</td>\n",
       "      <td>0</td>\n",
       "      <td>0</td>\n",
       "      <td>45</td>\n",
       "      <td>&lt;=50K</td>\n",
       "    </tr>\n",
       "    <tr>\n",
       "      <td>28527</td>\n",
       "      <td>27</td>\n",
       "      <td>Private</td>\n",
       "      <td>132805</td>\n",
       "      <td>10th</td>\n",
       "      <td>6</td>\n",
       "      <td>Never-married</td>\n",
       "      <td>Sales</td>\n",
       "      <td>Other-relative</td>\n",
       "      <td>White</td>\n",
       "      <td>Male</td>\n",
       "      <td>0</td>\n",
       "      <td>1980</td>\n",
       "      <td>40</td>\n",
       "      <td>&lt;=50K</td>\n",
       "    </tr>\n",
       "    <tr>\n",
       "      <td>30253</td>\n",
       "      <td>43</td>\n",
       "      <td>Private</td>\n",
       "      <td>214781</td>\n",
       "      <td>Masters</td>\n",
       "      <td>14</td>\n",
       "      <td>Married-civ-spouse</td>\n",
       "      <td>Exec-managerial</td>\n",
       "      <td>Husband</td>\n",
       "      <td>White</td>\n",
       "      <td>Male</td>\n",
       "      <td>0</td>\n",
       "      <td>0</td>\n",
       "      <td>45</td>\n",
       "      <td>&lt;=50K</td>\n",
       "    </tr>\n",
       "    <tr>\n",
       "      <td>9102</td>\n",
       "      <td>68</td>\n",
       "      <td>Private</td>\n",
       "      <td>201732</td>\n",
       "      <td>Some-college</td>\n",
       "      <td>10</td>\n",
       "      <td>Divorced</td>\n",
       "      <td>Adm-clerical</td>\n",
       "      <td>Unmarried</td>\n",
       "      <td>White</td>\n",
       "      <td>Female</td>\n",
       "      <td>0</td>\n",
       "      <td>0</td>\n",
       "      <td>40</td>\n",
       "      <td>&lt;=50K</td>\n",
       "    </tr>\n",
       "    <tr>\n",
       "      <td>...</td>\n",
       "      <td>...</td>\n",
       "      <td>...</td>\n",
       "      <td>...</td>\n",
       "      <td>...</td>\n",
       "      <td>...</td>\n",
       "      <td>...</td>\n",
       "      <td>...</td>\n",
       "      <td>...</td>\n",
       "      <td>...</td>\n",
       "      <td>...</td>\n",
       "      <td>...</td>\n",
       "      <td>...</td>\n",
       "      <td>...</td>\n",
       "      <td>...</td>\n",
       "    </tr>\n",
       "    <tr>\n",
       "      <td>12450</td>\n",
       "      <td>41</td>\n",
       "      <td>Self-emp-not-inc</td>\n",
       "      <td>57924</td>\n",
       "      <td>Some-college</td>\n",
       "      <td>10</td>\n",
       "      <td>Married-civ-spouse</td>\n",
       "      <td>Farming-fishing</td>\n",
       "      <td>Husband</td>\n",
       "      <td>White</td>\n",
       "      <td>Male</td>\n",
       "      <td>7688</td>\n",
       "      <td>0</td>\n",
       "      <td>50</td>\n",
       "      <td>&gt;50K</td>\n",
       "    </tr>\n",
       "    <tr>\n",
       "      <td>6796</td>\n",
       "      <td>47</td>\n",
       "      <td>State-gov</td>\n",
       "      <td>103743</td>\n",
       "      <td>7th-8th</td>\n",
       "      <td>4</td>\n",
       "      <td>Married-civ-spouse</td>\n",
       "      <td>Transport-moving</td>\n",
       "      <td>Husband</td>\n",
       "      <td>White</td>\n",
       "      <td>Male</td>\n",
       "      <td>0</td>\n",
       "      <td>0</td>\n",
       "      <td>40</td>\n",
       "      <td>&lt;=50K</td>\n",
       "    </tr>\n",
       "    <tr>\n",
       "      <td>28413</td>\n",
       "      <td>26</td>\n",
       "      <td>Private</td>\n",
       "      <td>205036</td>\n",
       "      <td>HS-grad</td>\n",
       "      <td>9</td>\n",
       "      <td>Never-married</td>\n",
       "      <td>Handlers-cleaners</td>\n",
       "      <td>Not-in-family</td>\n",
       "      <td>White</td>\n",
       "      <td>Male</td>\n",
       "      <td>0</td>\n",
       "      <td>0</td>\n",
       "      <td>42</td>\n",
       "      <td>&lt;=50K</td>\n",
       "    </tr>\n",
       "    <tr>\n",
       "      <td>24759</td>\n",
       "      <td>59</td>\n",
       "      <td>Self-emp-not-inc</td>\n",
       "      <td>170411</td>\n",
       "      <td>7th-8th</td>\n",
       "      <td>4</td>\n",
       "      <td>Married-civ-spouse</td>\n",
       "      <td>Transport-moving</td>\n",
       "      <td>Husband</td>\n",
       "      <td>White</td>\n",
       "      <td>Male</td>\n",
       "      <td>0</td>\n",
       "      <td>0</td>\n",
       "      <td>40</td>\n",
       "      <td>&lt;=50K</td>\n",
       "    </tr>\n",
       "    <tr>\n",
       "      <td>31777</td>\n",
       "      <td>19</td>\n",
       "      <td>Private</td>\n",
       "      <td>292590</td>\n",
       "      <td>HS-grad</td>\n",
       "      <td>9</td>\n",
       "      <td>Married-civ-spouse</td>\n",
       "      <td>Sales</td>\n",
       "      <td>Other-relative</td>\n",
       "      <td>White</td>\n",
       "      <td>Female</td>\n",
       "      <td>0</td>\n",
       "      <td>0</td>\n",
       "      <td>25</td>\n",
       "      <td>&lt;=50K</td>\n",
       "    </tr>\n",
       "  </tbody>\n",
       "</table>\n",
       "<p>19252 rows × 14 columns</p>\n",
       "</div>"
      ],
      "text/plain": [
       "       age          workclass  fnlwgt      education  education-num  \\\n",
       "15927   54            Private  213092        HS-grad              9   \n",
       "17549   46            Private  174995        HS-grad              9   \n",
       "28527   27            Private  132805           10th              6   \n",
       "30253   43            Private  214781        Masters             14   \n",
       "9102    68            Private  201732   Some-college             10   \n",
       "...    ...                ...     ...            ...            ...   \n",
       "12450   41   Self-emp-not-inc   57924   Some-college             10   \n",
       "6796    47          State-gov  103743        7th-8th              4   \n",
       "28413   26            Private  205036        HS-grad              9   \n",
       "24759   59   Self-emp-not-inc  170411        7th-8th              4   \n",
       "31777   19            Private  292590        HS-grad              9   \n",
       "\n",
       "            marital-status          occupation     relationship    race  \\\n",
       "15927             Divorced       Other-service    Not-in-family   White   \n",
       "17549             Divorced        Adm-clerical        Unmarried   White   \n",
       "28527        Never-married               Sales   Other-relative   White   \n",
       "30253   Married-civ-spouse     Exec-managerial          Husband   White   \n",
       "9102              Divorced        Adm-clerical        Unmarried   White   \n",
       "...                    ...                 ...              ...     ...   \n",
       "12450   Married-civ-spouse     Farming-fishing          Husband   White   \n",
       "6796    Married-civ-spouse    Transport-moving          Husband   White   \n",
       "28413        Never-married   Handlers-cleaners    Not-in-family   White   \n",
       "24759   Married-civ-spouse    Transport-moving          Husband   White   \n",
       "31777   Married-civ-spouse               Sales   Other-relative   White   \n",
       "\n",
       "           sex  capital-gain  capital-loss  hours-per-week  income  \n",
       "15927   Female             0             0              40   <=50K  \n",
       "17549   Female             0             0              45   <=50K  \n",
       "28527     Male             0          1980              40   <=50K  \n",
       "30253     Male             0             0              45   <=50K  \n",
       "9102    Female             0             0              40   <=50K  \n",
       "...        ...           ...           ...             ...     ...  \n",
       "12450     Male          7688             0              50    >50K  \n",
       "6796      Male             0             0              40   <=50K  \n",
       "28413     Male             0             0              42   <=50K  \n",
       "24759     Male             0             0              40   <=50K  \n",
       "31777   Female             0             0              25   <=50K  \n",
       "\n",
       "[19252 rows x 14 columns]"
      ]
     },
     "execution_count": 107,
     "metadata": {},
     "output_type": "execute_result"
    }
   ],
   "source": [
    "incomedata = incomedata[incomedata.native_country.str.strip() == 'United-States']\n",
    "incomedata = incomedata[incomedata.occupation.str.strip() != '?']\n",
    "incomenew = incomedata.iloc[:, incomedata.columns != 'native_country'].sample(int(0.7*len(incomedata)))\n",
    "incomenew\n",
    "#incomedata.native_country.str.strip() != '?' &\n",
    "                           #incomedata.workclass.str.strip() != '?'"
   ]
  },
  {
   "cell_type": "code",
   "execution_count": 108,
   "metadata": {
    "scrolled": true
   },
   "outputs": [
    {
     "name": "stdout",
     "output_type": "stream",
     "text": [
      "[' Federal-gov' ' Local-gov' ' Private' ' Self-emp-inc'\n",
      " ' Self-emp-not-inc' ' State-gov' ' Without-pay']\n",
      "[' 10th' ' 11th' ' 12th' ' 1st-4th' ' 5th-6th' ' 7th-8th' ' 9th'\n",
      " ' Assoc-acdm' ' Assoc-voc' ' Bachelors' ' Doctorate' ' HS-grad'\n",
      " ' Masters' ' Preschool' ' Prof-school' ' Some-college']\n",
      "[' Divorced' ' Married-AF-spouse' ' Married-civ-spouse'\n",
      " ' Married-spouse-absent' ' Never-married' ' Separated' ' Widowed']\n",
      "[' Adm-clerical' ' Armed-Forces' ' Craft-repair' ' Exec-managerial'\n",
      " ' Farming-fishing' ' Handlers-cleaners' ' Machine-op-inspct'\n",
      " ' Other-service' ' Priv-house-serv' ' Prof-specialty' ' Protective-serv'\n",
      " ' Sales' ' Tech-support' ' Transport-moving']\n",
      "[' Husband' ' Not-in-family' ' Other-relative' ' Own-child' ' Unmarried'\n",
      " ' Wife']\n",
      "[' Amer-Indian-Eskimo' ' Asian-Pac-Islander' ' Black' ' Other' ' White']\n",
      "[' Female' ' Male']\n"
     ]
    },
    {
     "data": {
      "text/html": [
       "<div>\n",
       "<style scoped>\n",
       "    .dataframe tbody tr th:only-of-type {\n",
       "        vertical-align: middle;\n",
       "    }\n",
       "\n",
       "    .dataframe tbody tr th {\n",
       "        vertical-align: top;\n",
       "    }\n",
       "\n",
       "    .dataframe thead th {\n",
       "        text-align: right;\n",
       "    }\n",
       "</style>\n",
       "<table border=\"1\" class=\"dataframe\">\n",
       "  <thead>\n",
       "    <tr style=\"text-align: right;\">\n",
       "      <th></th>\n",
       "      <th>age</th>\n",
       "      <th>fnlwgt</th>\n",
       "      <th>education-num</th>\n",
       "      <th>capital-gain</th>\n",
       "      <th>capital-loss</th>\n",
       "      <th>hours-per-week</th>\n",
       "      <th>income</th>\n",
       "      <th>workclass_ Federal-gov</th>\n",
       "      <th>workclass_ Local-gov</th>\n",
       "      <th>workclass_ Private</th>\n",
       "      <th>...</th>\n",
       "      <th>relationship_ Own-child</th>\n",
       "      <th>relationship_ Unmarried</th>\n",
       "      <th>relationship_ Wife</th>\n",
       "      <th>race_ Amer-Indian-Eskimo</th>\n",
       "      <th>race_ Asian-Pac-Islander</th>\n",
       "      <th>race_ Black</th>\n",
       "      <th>race_ Other</th>\n",
       "      <th>race_ White</th>\n",
       "      <th>sex_ Female</th>\n",
       "      <th>sex_ Male</th>\n",
       "    </tr>\n",
       "  </thead>\n",
       "  <tbody>\n",
       "    <tr>\n",
       "      <td>15927</td>\n",
       "      <td>54</td>\n",
       "      <td>213092</td>\n",
       "      <td>9</td>\n",
       "      <td>0</td>\n",
       "      <td>0</td>\n",
       "      <td>40</td>\n",
       "      <td>&lt;=50K</td>\n",
       "      <td>0</td>\n",
       "      <td>0</td>\n",
       "      <td>1</td>\n",
       "      <td>...</td>\n",
       "      <td>0</td>\n",
       "      <td>0</td>\n",
       "      <td>0</td>\n",
       "      <td>0</td>\n",
       "      <td>0</td>\n",
       "      <td>0</td>\n",
       "      <td>0</td>\n",
       "      <td>1</td>\n",
       "      <td>1</td>\n",
       "      <td>0</td>\n",
       "    </tr>\n",
       "    <tr>\n",
       "      <td>17549</td>\n",
       "      <td>46</td>\n",
       "      <td>174995</td>\n",
       "      <td>9</td>\n",
       "      <td>0</td>\n",
       "      <td>0</td>\n",
       "      <td>45</td>\n",
       "      <td>&lt;=50K</td>\n",
       "      <td>0</td>\n",
       "      <td>0</td>\n",
       "      <td>1</td>\n",
       "      <td>...</td>\n",
       "      <td>0</td>\n",
       "      <td>1</td>\n",
       "      <td>0</td>\n",
       "      <td>0</td>\n",
       "      <td>0</td>\n",
       "      <td>0</td>\n",
       "      <td>0</td>\n",
       "      <td>1</td>\n",
       "      <td>1</td>\n",
       "      <td>0</td>\n",
       "    </tr>\n",
       "    <tr>\n",
       "      <td>28527</td>\n",
       "      <td>27</td>\n",
       "      <td>132805</td>\n",
       "      <td>6</td>\n",
       "      <td>0</td>\n",
       "      <td>1980</td>\n",
       "      <td>40</td>\n",
       "      <td>&lt;=50K</td>\n",
       "      <td>0</td>\n",
       "      <td>0</td>\n",
       "      <td>1</td>\n",
       "      <td>...</td>\n",
       "      <td>0</td>\n",
       "      <td>0</td>\n",
       "      <td>0</td>\n",
       "      <td>0</td>\n",
       "      <td>0</td>\n",
       "      <td>0</td>\n",
       "      <td>0</td>\n",
       "      <td>1</td>\n",
       "      <td>0</td>\n",
       "      <td>1</td>\n",
       "    </tr>\n",
       "    <tr>\n",
       "      <td>30253</td>\n",
       "      <td>43</td>\n",
       "      <td>214781</td>\n",
       "      <td>14</td>\n",
       "      <td>0</td>\n",
       "      <td>0</td>\n",
       "      <td>45</td>\n",
       "      <td>&lt;=50K</td>\n",
       "      <td>0</td>\n",
       "      <td>0</td>\n",
       "      <td>1</td>\n",
       "      <td>...</td>\n",
       "      <td>0</td>\n",
       "      <td>0</td>\n",
       "      <td>0</td>\n",
       "      <td>0</td>\n",
       "      <td>0</td>\n",
       "      <td>0</td>\n",
       "      <td>0</td>\n",
       "      <td>1</td>\n",
       "      <td>0</td>\n",
       "      <td>1</td>\n",
       "    </tr>\n",
       "    <tr>\n",
       "      <td>9102</td>\n",
       "      <td>68</td>\n",
       "      <td>201732</td>\n",
       "      <td>10</td>\n",
       "      <td>0</td>\n",
       "      <td>0</td>\n",
       "      <td>40</td>\n",
       "      <td>&lt;=50K</td>\n",
       "      <td>0</td>\n",
       "      <td>0</td>\n",
       "      <td>1</td>\n",
       "      <td>...</td>\n",
       "      <td>0</td>\n",
       "      <td>1</td>\n",
       "      <td>0</td>\n",
       "      <td>0</td>\n",
       "      <td>0</td>\n",
       "      <td>0</td>\n",
       "      <td>0</td>\n",
       "      <td>1</td>\n",
       "      <td>1</td>\n",
       "      <td>0</td>\n",
       "    </tr>\n",
       "    <tr>\n",
       "      <td>...</td>\n",
       "      <td>...</td>\n",
       "      <td>...</td>\n",
       "      <td>...</td>\n",
       "      <td>...</td>\n",
       "      <td>...</td>\n",
       "      <td>...</td>\n",
       "      <td>...</td>\n",
       "      <td>...</td>\n",
       "      <td>...</td>\n",
       "      <td>...</td>\n",
       "      <td>...</td>\n",
       "      <td>...</td>\n",
       "      <td>...</td>\n",
       "      <td>...</td>\n",
       "      <td>...</td>\n",
       "      <td>...</td>\n",
       "      <td>...</td>\n",
       "      <td>...</td>\n",
       "      <td>...</td>\n",
       "      <td>...</td>\n",
       "      <td>...</td>\n",
       "    </tr>\n",
       "    <tr>\n",
       "      <td>12450</td>\n",
       "      <td>41</td>\n",
       "      <td>57924</td>\n",
       "      <td>10</td>\n",
       "      <td>7688</td>\n",
       "      <td>0</td>\n",
       "      <td>50</td>\n",
       "      <td>&gt;50K</td>\n",
       "      <td>0</td>\n",
       "      <td>0</td>\n",
       "      <td>0</td>\n",
       "      <td>...</td>\n",
       "      <td>0</td>\n",
       "      <td>0</td>\n",
       "      <td>0</td>\n",
       "      <td>0</td>\n",
       "      <td>0</td>\n",
       "      <td>0</td>\n",
       "      <td>0</td>\n",
       "      <td>1</td>\n",
       "      <td>0</td>\n",
       "      <td>1</td>\n",
       "    </tr>\n",
       "    <tr>\n",
       "      <td>6796</td>\n",
       "      <td>47</td>\n",
       "      <td>103743</td>\n",
       "      <td>4</td>\n",
       "      <td>0</td>\n",
       "      <td>0</td>\n",
       "      <td>40</td>\n",
       "      <td>&lt;=50K</td>\n",
       "      <td>0</td>\n",
       "      <td>0</td>\n",
       "      <td>0</td>\n",
       "      <td>...</td>\n",
       "      <td>0</td>\n",
       "      <td>0</td>\n",
       "      <td>0</td>\n",
       "      <td>0</td>\n",
       "      <td>0</td>\n",
       "      <td>0</td>\n",
       "      <td>0</td>\n",
       "      <td>1</td>\n",
       "      <td>0</td>\n",
       "      <td>1</td>\n",
       "    </tr>\n",
       "    <tr>\n",
       "      <td>28413</td>\n",
       "      <td>26</td>\n",
       "      <td>205036</td>\n",
       "      <td>9</td>\n",
       "      <td>0</td>\n",
       "      <td>0</td>\n",
       "      <td>42</td>\n",
       "      <td>&lt;=50K</td>\n",
       "      <td>0</td>\n",
       "      <td>0</td>\n",
       "      <td>1</td>\n",
       "      <td>...</td>\n",
       "      <td>0</td>\n",
       "      <td>0</td>\n",
       "      <td>0</td>\n",
       "      <td>0</td>\n",
       "      <td>0</td>\n",
       "      <td>0</td>\n",
       "      <td>0</td>\n",
       "      <td>1</td>\n",
       "      <td>0</td>\n",
       "      <td>1</td>\n",
       "    </tr>\n",
       "    <tr>\n",
       "      <td>24759</td>\n",
       "      <td>59</td>\n",
       "      <td>170411</td>\n",
       "      <td>4</td>\n",
       "      <td>0</td>\n",
       "      <td>0</td>\n",
       "      <td>40</td>\n",
       "      <td>&lt;=50K</td>\n",
       "      <td>0</td>\n",
       "      <td>0</td>\n",
       "      <td>0</td>\n",
       "      <td>...</td>\n",
       "      <td>0</td>\n",
       "      <td>0</td>\n",
       "      <td>0</td>\n",
       "      <td>0</td>\n",
       "      <td>0</td>\n",
       "      <td>0</td>\n",
       "      <td>0</td>\n",
       "      <td>1</td>\n",
       "      <td>0</td>\n",
       "      <td>1</td>\n",
       "    </tr>\n",
       "    <tr>\n",
       "      <td>31777</td>\n",
       "      <td>19</td>\n",
       "      <td>292590</td>\n",
       "      <td>9</td>\n",
       "      <td>0</td>\n",
       "      <td>0</td>\n",
       "      <td>25</td>\n",
       "      <td>&lt;=50K</td>\n",
       "      <td>0</td>\n",
       "      <td>0</td>\n",
       "      <td>1</td>\n",
       "      <td>...</td>\n",
       "      <td>0</td>\n",
       "      <td>0</td>\n",
       "      <td>0</td>\n",
       "      <td>0</td>\n",
       "      <td>0</td>\n",
       "      <td>0</td>\n",
       "      <td>0</td>\n",
       "      <td>1</td>\n",
       "      <td>1</td>\n",
       "      <td>0</td>\n",
       "    </tr>\n",
       "  </tbody>\n",
       "</table>\n",
       "<p>19252 rows × 64 columns</p>\n",
       "</div>"
      ],
      "text/plain": [
       "       age  fnlwgt  education-num  capital-gain  capital-loss  hours-per-week  \\\n",
       "15927   54  213092              9             0             0              40   \n",
       "17549   46  174995              9             0             0              45   \n",
       "28527   27  132805              6             0          1980              40   \n",
       "30253   43  214781             14             0             0              45   \n",
       "9102    68  201732             10             0             0              40   \n",
       "...    ...     ...            ...           ...           ...             ...   \n",
       "12450   41   57924             10          7688             0              50   \n",
       "6796    47  103743              4             0             0              40   \n",
       "28413   26  205036              9             0             0              42   \n",
       "24759   59  170411              4             0             0              40   \n",
       "31777   19  292590              9             0             0              25   \n",
       "\n",
       "       income  workclass_ Federal-gov  workclass_ Local-gov  \\\n",
       "15927   <=50K                       0                     0   \n",
       "17549   <=50K                       0                     0   \n",
       "28527   <=50K                       0                     0   \n",
       "30253   <=50K                       0                     0   \n",
       "9102    <=50K                       0                     0   \n",
       "...       ...                     ...                   ...   \n",
       "12450    >50K                       0                     0   \n",
       "6796    <=50K                       0                     0   \n",
       "28413   <=50K                       0                     0   \n",
       "24759   <=50K                       0                     0   \n",
       "31777   <=50K                       0                     0   \n",
       "\n",
       "       workclass_ Private  ...  relationship_ Own-child  \\\n",
       "15927                   1  ...                        0   \n",
       "17549                   1  ...                        0   \n",
       "28527                   1  ...                        0   \n",
       "30253                   1  ...                        0   \n",
       "9102                    1  ...                        0   \n",
       "...                   ...  ...                      ...   \n",
       "12450                   0  ...                        0   \n",
       "6796                    0  ...                        0   \n",
       "28413                   1  ...                        0   \n",
       "24759                   0  ...                        0   \n",
       "31777                   1  ...                        0   \n",
       "\n",
       "       relationship_ Unmarried  relationship_ Wife  race_ Amer-Indian-Eskimo  \\\n",
       "15927                        0                   0                         0   \n",
       "17549                        1                   0                         0   \n",
       "28527                        0                   0                         0   \n",
       "30253                        0                   0                         0   \n",
       "9102                         1                   0                         0   \n",
       "...                        ...                 ...                       ...   \n",
       "12450                        0                   0                         0   \n",
       "6796                         0                   0                         0   \n",
       "28413                        0                   0                         0   \n",
       "24759                        0                   0                         0   \n",
       "31777                        0                   0                         0   \n",
       "\n",
       "       race_ Asian-Pac-Islander  race_ Black  race_ Other  race_ White  \\\n",
       "15927                         0            0            0            1   \n",
       "17549                         0            0            0            1   \n",
       "28527                         0            0            0            1   \n",
       "30253                         0            0            0            1   \n",
       "9102                          0            0            0            1   \n",
       "...                         ...          ...          ...          ...   \n",
       "12450                         0            0            0            1   \n",
       "6796                          0            0            0            1   \n",
       "28413                         0            0            0            1   \n",
       "24759                         0            0            0            1   \n",
       "31777                         0            0            0            1   \n",
       "\n",
       "       sex_ Female  sex_ Male  \n",
       "15927            1          0  \n",
       "17549            1          0  \n",
       "28527            0          1  \n",
       "30253            0          1  \n",
       "9102             1          0  \n",
       "...            ...        ...  \n",
       "12450            0          1  \n",
       "6796             0          1  \n",
       "28413            0          1  \n",
       "24759            0          1  \n",
       "31777            1          0  \n",
       "\n",
       "[19252 rows x 64 columns]"
      ]
     },
     "execution_count": 108,
     "metadata": {},
     "output_type": "execute_result"
    }
   ],
   "source": [
    "#See unique values and convert them to int using pd.getDummies()\n",
    "catcol = ['workclass','education','marital-status','occupation','relationship','race',\n",
    "                       'sex']\n",
    "for col in catcol:  \n",
    "    print(np.unique(incomenew[col]))\n",
    "# transform the categorical columns\n",
    "income = pd.get_dummies(incomenew, columns=catcol)\n",
    "income"
   ]
  },
  {
   "cell_type": "code",
   "execution_count": 109,
   "metadata": {},
   "outputs": [],
   "source": [
    "x = income.iloc[:, income.columns != 'income']\n",
    "# temp = sgemm2['avg_runtime'].quantile(0.5)\n",
    "y = income['income'].apply(lambda x: 0 if x.strip() == '<=50K' else 1)"
   ]
  },
  {
   "cell_type": "code",
   "execution_count": 110,
   "metadata": {},
   "outputs": [
    {
     "data": {
      "text/plain": [
       "4903"
      ]
     },
     "execution_count": 110,
     "metadata": {},
     "output_type": "execute_result"
    }
   ],
   "source": [
    "y.sum()"
   ]
  },
  {
   "cell_type": "code",
   "execution_count": 111,
   "metadata": {},
   "outputs": [
    {
     "data": {
      "text/html": [
       "<div>\n",
       "<style scoped>\n",
       "    .dataframe tbody tr th:only-of-type {\n",
       "        vertical-align: middle;\n",
       "    }\n",
       "\n",
       "    .dataframe tbody tr th {\n",
       "        vertical-align: top;\n",
       "    }\n",
       "\n",
       "    .dataframe thead th {\n",
       "        text-align: right;\n",
       "    }\n",
       "</style>\n",
       "<table border=\"1\" class=\"dataframe\">\n",
       "  <thead>\n",
       "    <tr style=\"text-align: right;\">\n",
       "      <th></th>\n",
       "      <th>age</th>\n",
       "      <th>fnlwgt</th>\n",
       "      <th>education-num</th>\n",
       "      <th>capital-gain</th>\n",
       "      <th>capital-loss</th>\n",
       "      <th>hours-per-week</th>\n",
       "      <th>workclass_ Federal-gov</th>\n",
       "      <th>workclass_ Local-gov</th>\n",
       "      <th>workclass_ Private</th>\n",
       "      <th>workclass_ Self-emp-inc</th>\n",
       "      <th>...</th>\n",
       "      <th>relationship_ Own-child</th>\n",
       "      <th>relationship_ Unmarried</th>\n",
       "      <th>relationship_ Wife</th>\n",
       "      <th>race_ Amer-Indian-Eskimo</th>\n",
       "      <th>race_ Asian-Pac-Islander</th>\n",
       "      <th>race_ Black</th>\n",
       "      <th>race_ Other</th>\n",
       "      <th>race_ White</th>\n",
       "      <th>sex_ Female</th>\n",
       "      <th>sex_ Male</th>\n",
       "    </tr>\n",
       "  </thead>\n",
       "  <tbody>\n",
       "    <tr>\n",
       "      <td>15927</td>\n",
       "      <td>54</td>\n",
       "      <td>213092</td>\n",
       "      <td>9</td>\n",
       "      <td>0</td>\n",
       "      <td>0</td>\n",
       "      <td>40</td>\n",
       "      <td>0</td>\n",
       "      <td>0</td>\n",
       "      <td>1</td>\n",
       "      <td>0</td>\n",
       "      <td>...</td>\n",
       "      <td>0</td>\n",
       "      <td>0</td>\n",
       "      <td>0</td>\n",
       "      <td>0</td>\n",
       "      <td>0</td>\n",
       "      <td>0</td>\n",
       "      <td>0</td>\n",
       "      <td>1</td>\n",
       "      <td>1</td>\n",
       "      <td>0</td>\n",
       "    </tr>\n",
       "    <tr>\n",
       "      <td>17549</td>\n",
       "      <td>46</td>\n",
       "      <td>174995</td>\n",
       "      <td>9</td>\n",
       "      <td>0</td>\n",
       "      <td>0</td>\n",
       "      <td>45</td>\n",
       "      <td>0</td>\n",
       "      <td>0</td>\n",
       "      <td>1</td>\n",
       "      <td>0</td>\n",
       "      <td>...</td>\n",
       "      <td>0</td>\n",
       "      <td>1</td>\n",
       "      <td>0</td>\n",
       "      <td>0</td>\n",
       "      <td>0</td>\n",
       "      <td>0</td>\n",
       "      <td>0</td>\n",
       "      <td>1</td>\n",
       "      <td>1</td>\n",
       "      <td>0</td>\n",
       "    </tr>\n",
       "    <tr>\n",
       "      <td>28527</td>\n",
       "      <td>27</td>\n",
       "      <td>132805</td>\n",
       "      <td>6</td>\n",
       "      <td>0</td>\n",
       "      <td>1980</td>\n",
       "      <td>40</td>\n",
       "      <td>0</td>\n",
       "      <td>0</td>\n",
       "      <td>1</td>\n",
       "      <td>0</td>\n",
       "      <td>...</td>\n",
       "      <td>0</td>\n",
       "      <td>0</td>\n",
       "      <td>0</td>\n",
       "      <td>0</td>\n",
       "      <td>0</td>\n",
       "      <td>0</td>\n",
       "      <td>0</td>\n",
       "      <td>1</td>\n",
       "      <td>0</td>\n",
       "      <td>1</td>\n",
       "    </tr>\n",
       "    <tr>\n",
       "      <td>30253</td>\n",
       "      <td>43</td>\n",
       "      <td>214781</td>\n",
       "      <td>14</td>\n",
       "      <td>0</td>\n",
       "      <td>0</td>\n",
       "      <td>45</td>\n",
       "      <td>0</td>\n",
       "      <td>0</td>\n",
       "      <td>1</td>\n",
       "      <td>0</td>\n",
       "      <td>...</td>\n",
       "      <td>0</td>\n",
       "      <td>0</td>\n",
       "      <td>0</td>\n",
       "      <td>0</td>\n",
       "      <td>0</td>\n",
       "      <td>0</td>\n",
       "      <td>0</td>\n",
       "      <td>1</td>\n",
       "      <td>0</td>\n",
       "      <td>1</td>\n",
       "    </tr>\n",
       "    <tr>\n",
       "      <td>9102</td>\n",
       "      <td>68</td>\n",
       "      <td>201732</td>\n",
       "      <td>10</td>\n",
       "      <td>0</td>\n",
       "      <td>0</td>\n",
       "      <td>40</td>\n",
       "      <td>0</td>\n",
       "      <td>0</td>\n",
       "      <td>1</td>\n",
       "      <td>0</td>\n",
       "      <td>...</td>\n",
       "      <td>0</td>\n",
       "      <td>1</td>\n",
       "      <td>0</td>\n",
       "      <td>0</td>\n",
       "      <td>0</td>\n",
       "      <td>0</td>\n",
       "      <td>0</td>\n",
       "      <td>1</td>\n",
       "      <td>1</td>\n",
       "      <td>0</td>\n",
       "    </tr>\n",
       "    <tr>\n",
       "      <td>...</td>\n",
       "      <td>...</td>\n",
       "      <td>...</td>\n",
       "      <td>...</td>\n",
       "      <td>...</td>\n",
       "      <td>...</td>\n",
       "      <td>...</td>\n",
       "      <td>...</td>\n",
       "      <td>...</td>\n",
       "      <td>...</td>\n",
       "      <td>...</td>\n",
       "      <td>...</td>\n",
       "      <td>...</td>\n",
       "      <td>...</td>\n",
       "      <td>...</td>\n",
       "      <td>...</td>\n",
       "      <td>...</td>\n",
       "      <td>...</td>\n",
       "      <td>...</td>\n",
       "      <td>...</td>\n",
       "      <td>...</td>\n",
       "      <td>...</td>\n",
       "    </tr>\n",
       "    <tr>\n",
       "      <td>12450</td>\n",
       "      <td>41</td>\n",
       "      <td>57924</td>\n",
       "      <td>10</td>\n",
       "      <td>7688</td>\n",
       "      <td>0</td>\n",
       "      <td>50</td>\n",
       "      <td>0</td>\n",
       "      <td>0</td>\n",
       "      <td>0</td>\n",
       "      <td>0</td>\n",
       "      <td>...</td>\n",
       "      <td>0</td>\n",
       "      <td>0</td>\n",
       "      <td>0</td>\n",
       "      <td>0</td>\n",
       "      <td>0</td>\n",
       "      <td>0</td>\n",
       "      <td>0</td>\n",
       "      <td>1</td>\n",
       "      <td>0</td>\n",
       "      <td>1</td>\n",
       "    </tr>\n",
       "    <tr>\n",
       "      <td>6796</td>\n",
       "      <td>47</td>\n",
       "      <td>103743</td>\n",
       "      <td>4</td>\n",
       "      <td>0</td>\n",
       "      <td>0</td>\n",
       "      <td>40</td>\n",
       "      <td>0</td>\n",
       "      <td>0</td>\n",
       "      <td>0</td>\n",
       "      <td>0</td>\n",
       "      <td>...</td>\n",
       "      <td>0</td>\n",
       "      <td>0</td>\n",
       "      <td>0</td>\n",
       "      <td>0</td>\n",
       "      <td>0</td>\n",
       "      <td>0</td>\n",
       "      <td>0</td>\n",
       "      <td>1</td>\n",
       "      <td>0</td>\n",
       "      <td>1</td>\n",
       "    </tr>\n",
       "    <tr>\n",
       "      <td>28413</td>\n",
       "      <td>26</td>\n",
       "      <td>205036</td>\n",
       "      <td>9</td>\n",
       "      <td>0</td>\n",
       "      <td>0</td>\n",
       "      <td>42</td>\n",
       "      <td>0</td>\n",
       "      <td>0</td>\n",
       "      <td>1</td>\n",
       "      <td>0</td>\n",
       "      <td>...</td>\n",
       "      <td>0</td>\n",
       "      <td>0</td>\n",
       "      <td>0</td>\n",
       "      <td>0</td>\n",
       "      <td>0</td>\n",
       "      <td>0</td>\n",
       "      <td>0</td>\n",
       "      <td>1</td>\n",
       "      <td>0</td>\n",
       "      <td>1</td>\n",
       "    </tr>\n",
       "    <tr>\n",
       "      <td>24759</td>\n",
       "      <td>59</td>\n",
       "      <td>170411</td>\n",
       "      <td>4</td>\n",
       "      <td>0</td>\n",
       "      <td>0</td>\n",
       "      <td>40</td>\n",
       "      <td>0</td>\n",
       "      <td>0</td>\n",
       "      <td>0</td>\n",
       "      <td>0</td>\n",
       "      <td>...</td>\n",
       "      <td>0</td>\n",
       "      <td>0</td>\n",
       "      <td>0</td>\n",
       "      <td>0</td>\n",
       "      <td>0</td>\n",
       "      <td>0</td>\n",
       "      <td>0</td>\n",
       "      <td>1</td>\n",
       "      <td>0</td>\n",
       "      <td>1</td>\n",
       "    </tr>\n",
       "    <tr>\n",
       "      <td>31777</td>\n",
       "      <td>19</td>\n",
       "      <td>292590</td>\n",
       "      <td>9</td>\n",
       "      <td>0</td>\n",
       "      <td>0</td>\n",
       "      <td>25</td>\n",
       "      <td>0</td>\n",
       "      <td>0</td>\n",
       "      <td>1</td>\n",
       "      <td>0</td>\n",
       "      <td>...</td>\n",
       "      <td>0</td>\n",
       "      <td>0</td>\n",
       "      <td>0</td>\n",
       "      <td>0</td>\n",
       "      <td>0</td>\n",
       "      <td>0</td>\n",
       "      <td>0</td>\n",
       "      <td>1</td>\n",
       "      <td>1</td>\n",
       "      <td>0</td>\n",
       "    </tr>\n",
       "  </tbody>\n",
       "</table>\n",
       "<p>19252 rows × 63 columns</p>\n",
       "</div>"
      ],
      "text/plain": [
       "       age  fnlwgt  education-num  capital-gain  capital-loss  hours-per-week  \\\n",
       "15927   54  213092              9             0             0              40   \n",
       "17549   46  174995              9             0             0              45   \n",
       "28527   27  132805              6             0          1980              40   \n",
       "30253   43  214781             14             0             0              45   \n",
       "9102    68  201732             10             0             0              40   \n",
       "...    ...     ...            ...           ...           ...             ...   \n",
       "12450   41   57924             10          7688             0              50   \n",
       "6796    47  103743              4             0             0              40   \n",
       "28413   26  205036              9             0             0              42   \n",
       "24759   59  170411              4             0             0              40   \n",
       "31777   19  292590              9             0             0              25   \n",
       "\n",
       "       workclass_ Federal-gov  workclass_ Local-gov  workclass_ Private  \\\n",
       "15927                       0                     0                   1   \n",
       "17549                       0                     0                   1   \n",
       "28527                       0                     0                   1   \n",
       "30253                       0                     0                   1   \n",
       "9102                        0                     0                   1   \n",
       "...                       ...                   ...                 ...   \n",
       "12450                       0                     0                   0   \n",
       "6796                        0                     0                   0   \n",
       "28413                       0                     0                   1   \n",
       "24759                       0                     0                   0   \n",
       "31777                       0                     0                   1   \n",
       "\n",
       "       workclass_ Self-emp-inc  ...  relationship_ Own-child  \\\n",
       "15927                        0  ...                        0   \n",
       "17549                        0  ...                        0   \n",
       "28527                        0  ...                        0   \n",
       "30253                        0  ...                        0   \n",
       "9102                         0  ...                        0   \n",
       "...                        ...  ...                      ...   \n",
       "12450                        0  ...                        0   \n",
       "6796                         0  ...                        0   \n",
       "28413                        0  ...                        0   \n",
       "24759                        0  ...                        0   \n",
       "31777                        0  ...                        0   \n",
       "\n",
       "       relationship_ Unmarried  relationship_ Wife  race_ Amer-Indian-Eskimo  \\\n",
       "15927                        0                   0                         0   \n",
       "17549                        1                   0                         0   \n",
       "28527                        0                   0                         0   \n",
       "30253                        0                   0                         0   \n",
       "9102                         1                   0                         0   \n",
       "...                        ...                 ...                       ...   \n",
       "12450                        0                   0                         0   \n",
       "6796                         0                   0                         0   \n",
       "28413                        0                   0                         0   \n",
       "24759                        0                   0                         0   \n",
       "31777                        0                   0                         0   \n",
       "\n",
       "       race_ Asian-Pac-Islander  race_ Black  race_ Other  race_ White  \\\n",
       "15927                         0            0            0            1   \n",
       "17549                         0            0            0            1   \n",
       "28527                         0            0            0            1   \n",
       "30253                         0            0            0            1   \n",
       "9102                          0            0            0            1   \n",
       "...                         ...          ...          ...          ...   \n",
       "12450                         0            0            0            1   \n",
       "6796                          0            0            0            1   \n",
       "28413                         0            0            0            1   \n",
       "24759                         0            0            0            1   \n",
       "31777                         0            0            0            1   \n",
       "\n",
       "       sex_ Female  sex_ Male  \n",
       "15927            1          0  \n",
       "17549            1          0  \n",
       "28527            0          1  \n",
       "30253            0          1  \n",
       "9102             1          0  \n",
       "...            ...        ...  \n",
       "12450            0          1  \n",
       "6796             0          1  \n",
       "28413            0          1  \n",
       "24759            0          1  \n",
       "31777            1          0  \n",
       "\n",
       "[19252 rows x 63 columns]"
      ]
     },
     "execution_count": 111,
     "metadata": {},
     "output_type": "execute_result"
    }
   ],
   "source": [
    "x"
   ]
  },
  {
   "cell_type": "code",
   "execution_count": 112,
   "metadata": {},
   "outputs": [],
   "source": [
    "x1_train, x1_test, y1_train, y1_test = train_test_split(x, y, test_size = 0.3, random_state = 0)"
   ]
  },
  {
   "cell_type": "code",
   "execution_count": 113,
   "metadata": {},
   "outputs": [],
   "source": [
    "scaler = StandardScaler()\n",
    "x1_train=scaler.fit_transform(x1_train)\n",
    "x1_test=scaler.transform(x1_test)"
   ]
  },
  {
   "cell_type": "code",
   "execution_count": 114,
   "metadata": {},
   "outputs": [
    {
     "data": {
      "text/plain": [
       "1518"
      ]
     },
     "execution_count": 114,
     "metadata": {},
     "output_type": "execute_result"
    }
   ],
   "source": [
    "y1_test.sum()"
   ]
  },
  {
   "cell_type": "code",
   "execution_count": 115,
   "metadata": {},
   "outputs": [
    {
     "data": {
      "text/plain": [
       "1162     1\n",
       "32294    0\n",
       "527      0\n",
       "26612    0\n",
       "12484    0\n",
       "        ..\n",
       "21620    0\n",
       "31542    1\n",
       "10593    0\n",
       "261      0\n",
       "18273    0\n",
       "Name: income, Length: 5776, dtype: int64"
      ]
     },
     "execution_count": 115,
     "metadata": {},
     "output_type": "execute_result"
    }
   ],
   "source": [
    "y1_test"
   ]
  },
  {
   "cell_type": "markdown",
   "metadata": {},
   "source": [
    "Linear Kernel"
   ]
  },
  {
   "cell_type": "code",
   "execution_count": 116,
   "metadata": {},
   "outputs": [],
   "source": [
    "model = SVC(kernel='linear')"
   ]
  },
  {
   "cell_type": "code",
   "execution_count": 30,
   "metadata": {},
   "outputs": [
    {
     "name": "stdout",
     "output_type": "stream",
     "text": [
      "CPU times: user 12.3 s, sys: 154 ms, total: 12.4 s\n",
      "Wall time: 12.4 s\n"
     ]
    },
    {
     "data": {
      "text/plain": [
       "SVC(C=1.0, break_ties=False, cache_size=200, class_weight=None, coef0=0.0,\n",
       "    decision_function_shape='ovr', degree=3, gamma='scale', kernel='linear',\n",
       "    max_iter=-1, probability=False, random_state=None, shrinking=True,\n",
       "    tol=0.001, verbose=False)"
      ]
     },
     "execution_count": 30,
     "metadata": {},
     "output_type": "execute_result"
    }
   ],
   "source": [
    "%%time\n",
    "model.fit(x1_train,y1_train)"
   ]
  },
  {
   "cell_type": "code",
   "execution_count": 31,
   "metadata": {},
   "outputs": [
    {
     "name": "stdout",
     "output_type": "stream",
     "text": [
      "Accuracy: 0.847472299168975\n",
      "Confusion Matrix: \n",
      " [[4030  307]\n",
      " [ 574  865]]\n",
      "Classification Report: \n",
      "               precision    recall  f1-score   support\n",
      "\n",
      "           0       0.88      0.93      0.90      4337\n",
      "           1       0.74      0.60      0.66      1439\n",
      "\n",
      "    accuracy                           0.85      5776\n",
      "   macro avg       0.81      0.77      0.78      5776\n",
      "weighted avg       0.84      0.85      0.84      5776\n",
      "\n"
     ]
    }
   ],
   "source": [
    "predictions = model.predict(x1_test)\n",
    "print('Accuracy:',accuracy_score(y1_test,predictions))\n",
    "print('Confusion Matrix: \\n',confusion_matrix(y1_test,predictions))\n",
    "print('Classification Report: \\n',classification_report(y1_test,predictions))"
   ]
  },
  {
   "cell_type": "code",
   "execution_count": 32,
   "metadata": {},
   "outputs": [],
   "source": [
    "param_grid = {'C': [1,10,100], 'gamma': [0.1,0.01,0.001], 'kernel': ['linear']} "
   ]
  },
  {
   "cell_type": "code",
   "execution_count": 33,
   "metadata": {
    "scrolled": true
   },
   "outputs": [
    {
     "name": "stdout",
     "output_type": "stream",
     "text": [
      "Fitting 5 folds for each of 9 candidates, totalling 45 fits\n",
      "[CV] C=1, gamma=0.1, kernel=linear ...................................\n"
     ]
    },
    {
     "name": "stderr",
     "output_type": "stream",
     "text": [
      "[Parallel(n_jobs=1)]: Using backend SequentialBackend with 1 concurrent workers.\n"
     ]
    },
    {
     "name": "stdout",
     "output_type": "stream",
     "text": [
      "[CV] ....... C=1, gamma=0.1, kernel=linear, score=0.849, total=   9.0s\n",
      "[CV] C=1, gamma=0.1, kernel=linear ...................................\n"
     ]
    },
    {
     "name": "stderr",
     "output_type": "stream",
     "text": [
      "[Parallel(n_jobs=1)]: Done   1 out of   1 | elapsed:    9.0s remaining:    0.0s\n"
     ]
    },
    {
     "name": "stdout",
     "output_type": "stream",
     "text": [
      "[CV] ....... C=1, gamma=0.1, kernel=linear, score=0.836, total=   8.5s\n",
      "[CV] C=1, gamma=0.1, kernel=linear ...................................\n"
     ]
    },
    {
     "name": "stderr",
     "output_type": "stream",
     "text": [
      "[Parallel(n_jobs=1)]: Done   2 out of   2 | elapsed:   17.4s remaining:    0.0s\n"
     ]
    },
    {
     "name": "stdout",
     "output_type": "stream",
     "text": [
      "[CV] ....... C=1, gamma=0.1, kernel=linear, score=0.843, total=   8.1s\n",
      "[CV] C=1, gamma=0.1, kernel=linear ...................................\n",
      "[CV] ....... C=1, gamma=0.1, kernel=linear, score=0.835, total=   8.5s\n",
      "[CV] C=1, gamma=0.1, kernel=linear ...................................\n",
      "[CV] ....... C=1, gamma=0.1, kernel=linear, score=0.848, total=   8.8s\n",
      "[CV] C=1, gamma=0.01, kernel=linear ..................................\n",
      "[CV] ...... C=1, gamma=0.01, kernel=linear, score=0.849, total=   9.0s\n",
      "[CV] C=1, gamma=0.01, kernel=linear ..................................\n",
      "[CV] ...... C=1, gamma=0.01, kernel=linear, score=0.836, total=   8.4s\n",
      "[CV] C=1, gamma=0.01, kernel=linear ..................................\n",
      "[CV] ...... C=1, gamma=0.01, kernel=linear, score=0.843, total=   8.0s\n",
      "[CV] C=1, gamma=0.01, kernel=linear ..................................\n",
      "[CV] ...... C=1, gamma=0.01, kernel=linear, score=0.835, total=   8.4s\n",
      "[CV] C=1, gamma=0.01, kernel=linear ..................................\n",
      "[CV] ...... C=1, gamma=0.01, kernel=linear, score=0.848, total=   8.5s\n",
      "[CV] C=1, gamma=0.001, kernel=linear .................................\n",
      "[CV] ..... C=1, gamma=0.001, kernel=linear, score=0.849, total=   8.7s\n",
      "[CV] C=1, gamma=0.001, kernel=linear .................................\n",
      "[CV] ..... C=1, gamma=0.001, kernel=linear, score=0.836, total=   8.2s\n",
      "[CV] C=1, gamma=0.001, kernel=linear .................................\n",
      "[CV] ..... C=1, gamma=0.001, kernel=linear, score=0.843, total=   7.9s\n",
      "[CV] C=1, gamma=0.001, kernel=linear .................................\n",
      "[CV] ..... C=1, gamma=0.001, kernel=linear, score=0.835, total=   8.4s\n",
      "[CV] C=1, gamma=0.001, kernel=linear .................................\n",
      "[CV] ..... C=1, gamma=0.001, kernel=linear, score=0.848, total=   8.5s\n",
      "[CV] C=10, gamma=0.1, kernel=linear ..................................\n",
      "[CV] ...... C=10, gamma=0.1, kernel=linear, score=0.849, total=  27.7s\n",
      "[CV] C=10, gamma=0.1, kernel=linear ..................................\n",
      "[CV] ...... C=10, gamma=0.1, kernel=linear, score=0.836, total=  26.8s\n",
      "[CV] C=10, gamma=0.1, kernel=linear ..................................\n",
      "[CV] ...... C=10, gamma=0.1, kernel=linear, score=0.843, total=  28.3s\n",
      "[CV] C=10, gamma=0.1, kernel=linear ..................................\n",
      "[CV] ...... C=10, gamma=0.1, kernel=linear, score=0.835, total=  29.3s\n",
      "[CV] C=10, gamma=0.1, kernel=linear ..................................\n",
      "[CV] ...... C=10, gamma=0.1, kernel=linear, score=0.848, total=  30.5s\n",
      "[CV] C=10, gamma=0.01, kernel=linear .................................\n",
      "[CV] ..... C=10, gamma=0.01, kernel=linear, score=0.849, total=  29.1s\n",
      "[CV] C=10, gamma=0.01, kernel=linear .................................\n",
      "[CV] ..... C=10, gamma=0.01, kernel=linear, score=0.836, total=  28.2s\n",
      "[CV] C=10, gamma=0.01, kernel=linear .................................\n",
      "[CV] ..... C=10, gamma=0.01, kernel=linear, score=0.843, total=  28.3s\n",
      "[CV] C=10, gamma=0.01, kernel=linear .................................\n",
      "[CV] ..... C=10, gamma=0.01, kernel=linear, score=0.835, total=  29.2s\n",
      "[CV] C=10, gamma=0.01, kernel=linear .................................\n",
      "[CV] ..... C=10, gamma=0.01, kernel=linear, score=0.848, total=  30.3s\n",
      "[CV] C=10, gamma=0.001, kernel=linear ................................\n",
      "[CV] .... C=10, gamma=0.001, kernel=linear, score=0.849, total=  28.6s\n",
      "[CV] C=10, gamma=0.001, kernel=linear ................................\n",
      "[CV] .... C=10, gamma=0.001, kernel=linear, score=0.836, total=  28.2s\n",
      "[CV] C=10, gamma=0.001, kernel=linear ................................\n",
      "[CV] .... C=10, gamma=0.001, kernel=linear, score=0.843, total=  28.5s\n",
      "[CV] C=10, gamma=0.001, kernel=linear ................................\n",
      "[CV] .... C=10, gamma=0.001, kernel=linear, score=0.835, total=  29.9s\n",
      "[CV] C=10, gamma=0.001, kernel=linear ................................\n",
      "[CV] .... C=10, gamma=0.001, kernel=linear, score=0.848, total=  30.4s\n",
      "[CV] C=100, gamma=0.1, kernel=linear .................................\n",
      "[CV] ..... C=100, gamma=0.1, kernel=linear, score=0.849, total= 3.5min\n",
      "[CV] C=100, gamma=0.1, kernel=linear .................................\n",
      "[CV] ..... C=100, gamma=0.1, kernel=linear, score=0.836, total= 3.6min\n",
      "[CV] C=100, gamma=0.1, kernel=linear .................................\n",
      "[CV] ..... C=100, gamma=0.1, kernel=linear, score=0.843, total= 3.5min\n",
      "[CV] C=100, gamma=0.1, kernel=linear .................................\n",
      "[CV] ..... C=100, gamma=0.1, kernel=linear, score=0.835, total= 3.7min\n",
      "[CV] C=100, gamma=0.1, kernel=linear .................................\n",
      "[CV] ..... C=100, gamma=0.1, kernel=linear, score=0.848, total= 3.5min\n",
      "[CV] C=100, gamma=0.01, kernel=linear ................................\n",
      "[CV] .... C=100, gamma=0.01, kernel=linear, score=0.849, total= 3.7min\n",
      "[CV] C=100, gamma=0.01, kernel=linear ................................\n",
      "[CV] .... C=100, gamma=0.01, kernel=linear, score=0.836, total= 3.6min\n",
      "[CV] C=100, gamma=0.01, kernel=linear ................................\n",
      "[CV] .... C=100, gamma=0.01, kernel=linear, score=0.843, total= 3.3min\n",
      "[CV] C=100, gamma=0.01, kernel=linear ................................\n",
      "[CV] .... C=100, gamma=0.01, kernel=linear, score=0.835, total= 3.6min\n",
      "[CV] C=100, gamma=0.01, kernel=linear ................................\n",
      "[CV] .... C=100, gamma=0.01, kernel=linear, score=0.848, total= 3.5min\n",
      "[CV] C=100, gamma=0.001, kernel=linear ...............................\n",
      "[CV] ... C=100, gamma=0.001, kernel=linear, score=0.849, total= 3.4min\n",
      "[CV] C=100, gamma=0.001, kernel=linear ...............................\n",
      "[CV] ... C=100, gamma=0.001, kernel=linear, score=0.836, total= 3.5min\n",
      "[CV] C=100, gamma=0.001, kernel=linear ...............................\n",
      "[CV] ... C=100, gamma=0.001, kernel=linear, score=0.843, total= 3.3min\n",
      "[CV] C=100, gamma=0.001, kernel=linear ...............................\n",
      "[CV] ... C=100, gamma=0.001, kernel=linear, score=0.835, total= 3.6min\n",
      "[CV] C=100, gamma=0.001, kernel=linear ...............................\n",
      "[CV] ... C=100, gamma=0.001, kernel=linear, score=0.848, total= 3.5min\n"
     ]
    },
    {
     "name": "stderr",
     "output_type": "stream",
     "text": [
      "[Parallel(n_jobs=1)]: Done  45 out of  45 | elapsed: 62.2min finished\n"
     ]
    },
    {
     "data": {
      "text/plain": [
       "GridSearchCV(cv=None, error_score=nan,\n",
       "             estimator=SVC(C=1.0, break_ties=False, cache_size=200,\n",
       "                           class_weight=None, coef0=0.0,\n",
       "                           decision_function_shape='ovr', degree=3,\n",
       "                           gamma='scale', kernel='rbf', max_iter=-1,\n",
       "                           probability=False, random_state=None, shrinking=True,\n",
       "                           tol=0.001, verbose=False),\n",
       "             iid='deprecated', n_jobs=None,\n",
       "             param_grid={'C': [1, 10, 100], 'gamma': [0.1, 0.01, 0.001],\n",
       "                         'kernel': ['linear']},\n",
       "             pre_dispatch='2*n_jobs', refit=True, return_train_score=False,\n",
       "             scoring=None, verbose=3)"
      ]
     },
     "execution_count": 33,
     "metadata": {},
     "output_type": "execute_result"
    }
   ],
   "source": [
    "grid = GridSearchCV(SVC(),param_grid,refit=True,verbose=3)\n",
    "grid.fit(x1_train,y1_train)"
   ]
  },
  {
   "cell_type": "code",
   "execution_count": 34,
   "metadata": {},
   "outputs": [
    {
     "name": "stdout",
     "output_type": "stream",
     "text": [
      "{'C': 1, 'gamma': 0.1, 'kernel': 'linear'}\n",
      "Accuracy: 0.847472299168975\n",
      "Confusion Matrix: \n",
      " [[4030  307]\n",
      " [ 574  865]]\n",
      "Classification Report: \n",
      "               precision    recall  f1-score   support\n",
      "\n",
      "           0       0.88      0.93      0.90      4337\n",
      "           1       0.74      0.60      0.66      1439\n",
      "\n",
      "    accuracy                           0.85      5776\n",
      "   macro avg       0.81      0.77      0.78      5776\n",
      "weighted avg       0.84      0.85      0.84      5776\n",
      "\n"
     ]
    }
   ],
   "source": [
    "print(grid.best_params_)\n",
    "grid_predictions = grid.predict(x1_test)\n",
    "print('Accuracy:',accuracy_score(y1_test,predictions))\n",
    "print('Confusion Matrix: \\n', confusion_matrix(y1_test,grid_predictions))\n",
    "print('Classification Report: \\n', classification_report(y1_test,grid_predictions))"
   ]
  },
  {
   "cell_type": "code",
   "execution_count": 35,
   "metadata": {},
   "outputs": [
    {
     "name": "stdout",
     "output_type": "stream",
     "text": [
      "Scores:  [0.84866469 0.83636364 0.84267161 0.83487941 0.84786642]\n",
      "Accuracy: 0.84 (+/- 0.01)\n"
     ]
    }
   ],
   "source": [
    "model = SVC(C = 10, gamma = 0.1, kernel = 'linear')\n",
    "scores = cross_val_score(model, x1_train, y1_train, scoring='accuracy', cv=5)\n",
    "print('Scores: ',scores)\n",
    "print(\"Accuracy: %0.2f (+/- %0.2f)\" % (scores.mean(), scores.std() * 2))"
   ]
  },
  {
   "cell_type": "markdown",
   "metadata": {},
   "source": [
    "Gaussian Kernel"
   ]
  },
  {
   "cell_type": "code",
   "execution_count": 36,
   "metadata": {},
   "outputs": [],
   "source": [
    "model = SVC(kernel='rbf')"
   ]
  },
  {
   "cell_type": "code",
   "execution_count": 37,
   "metadata": {},
   "outputs": [
    {
     "name": "stdout",
     "output_type": "stream",
     "text": [
      "CPU times: user 8 s, sys: 159 ms, total: 8.16 s\n",
      "Wall time: 8.17 s\n"
     ]
    },
    {
     "data": {
      "text/plain": [
       "SVC(C=1.0, break_ties=False, cache_size=200, class_weight=None, coef0=0.0,\n",
       "    decision_function_shape='ovr', degree=3, gamma='scale', kernel='rbf',\n",
       "    max_iter=-1, probability=False, random_state=None, shrinking=True,\n",
       "    tol=0.001, verbose=False)"
      ]
     },
     "execution_count": 37,
     "metadata": {},
     "output_type": "execute_result"
    }
   ],
   "source": [
    "%%time\n",
    "model.fit(x1_train,y1_train)"
   ]
  },
  {
   "cell_type": "code",
   "execution_count": 38,
   "metadata": {
    "scrolled": true
   },
   "outputs": [
    {
     "name": "stdout",
     "output_type": "stream",
     "text": [
      "Accuracy: 0.8459141274238227\n",
      "Confusion Matrix: \n",
      " [[4020  317]\n",
      " [ 573  866]]\n",
      "Classification Report: \n",
      "               precision    recall  f1-score   support\n",
      "\n",
      "           0       0.88      0.93      0.90      4337\n",
      "           1       0.73      0.60      0.66      1439\n",
      "\n",
      "    accuracy                           0.85      5776\n",
      "   macro avg       0.80      0.76      0.78      5776\n",
      "weighted avg       0.84      0.85      0.84      5776\n",
      "\n"
     ]
    }
   ],
   "source": [
    "predictions = model.predict(x1_test)\n",
    "print('Accuracy:',accuracy_score(y1_test,predictions))\n",
    "print('Confusion Matrix: \\n',confusion_matrix(y1_test,predictions))\n",
    "print('Classification Report: \\n',classification_report(y1_test,predictions))"
   ]
  },
  {
   "cell_type": "code",
   "execution_count": 39,
   "metadata": {},
   "outputs": [],
   "source": [
    "# from sklearn.model_selection import cross_val_score\n",
    "# #clf = svm.SVC(kernel='linear', C=1)\n",
    "# scores = cross_val_score(model, x1_train, y1_train, scoring='accuracy', cv=5)\n",
    "# print('Scores: ',scores)\n",
    "# print(\"Accuracy: %0.2f (+/- %0.2f)\" % (scores.mean(), scores.std() * 2))"
   ]
  },
  {
   "cell_type": "code",
   "execution_count": 40,
   "metadata": {},
   "outputs": [],
   "source": [
    "# # Plotting the mean accuracies found from cross validtion and test set accuracy\n",
    "# plt.plot(np.arange(0,5,1),scores,marker = 'o' , markersize = 6 , color = 'red',label='Folds')\n",
    "# plt.title(\" Accuracies of different Folds \")\n",
    "# plt.xlabel(\"Folds\")\n",
    "# plt.grid()\n",
    "# plt.ylabel(\"Accuracy\")\n",
    "# plt.legend()\n",
    "# plt.show()"
   ]
  },
  {
   "cell_type": "code",
   "execution_count": 117,
   "metadata": {},
   "outputs": [],
   "source": [
    "param_grid = {'C': [1,10,100], 'gamma': [0.1,0.01,0.001], 'kernel': ['rbf']} "
   ]
  },
  {
   "cell_type": "code",
   "execution_count": 118,
   "metadata": {
    "scrolled": true
   },
   "outputs": [
    {
     "name": "stdout",
     "output_type": "stream",
     "text": [
      "Fitting 5 folds for each of 9 candidates, totalling 45 fits\n",
      "[CV] C=1, gamma=0.1, kernel=rbf ......................................\n"
     ]
    },
    {
     "name": "stderr",
     "output_type": "stream",
     "text": [
      "[Parallel(n_jobs=1)]: Using backend SequentialBackend with 1 concurrent workers.\n"
     ]
    },
    {
     "name": "stdout",
     "output_type": "stream",
     "text": [
      "[CV] .......... C=1, gamma=0.1, kernel=rbf, score=0.826, total=  10.4s\n",
      "[CV] C=1, gamma=0.1, kernel=rbf ......................................\n"
     ]
    },
    {
     "name": "stderr",
     "output_type": "stream",
     "text": [
      "[Parallel(n_jobs=1)]: Done   1 out of   1 | elapsed:   10.4s remaining:    0.0s\n"
     ]
    },
    {
     "name": "stdout",
     "output_type": "stream",
     "text": [
      "[CV] .......... C=1, gamma=0.1, kernel=rbf, score=0.809, total=  10.2s\n",
      "[CV] C=1, gamma=0.1, kernel=rbf ......................................\n"
     ]
    },
    {
     "name": "stderr",
     "output_type": "stream",
     "text": [
      "[Parallel(n_jobs=1)]: Done   2 out of   2 | elapsed:   20.7s remaining:    0.0s\n"
     ]
    },
    {
     "name": "stdout",
     "output_type": "stream",
     "text": [
      "[CV] .......... C=1, gamma=0.1, kernel=rbf, score=0.816, total=   9.7s\n",
      "[CV] C=1, gamma=0.1, kernel=rbf ......................................\n",
      "[CV] .......... C=1, gamma=0.1, kernel=rbf, score=0.812, total=   9.6s\n",
      "[CV] C=1, gamma=0.1, kernel=rbf ......................................\n",
      "[CV] .......... C=1, gamma=0.1, kernel=rbf, score=0.810, total=   9.4s\n",
      "[CV] C=1, gamma=0.01, kernel=rbf .....................................\n",
      "[CV] ......... C=1, gamma=0.01, kernel=rbf, score=0.855, total=   5.6s\n",
      "[CV] C=1, gamma=0.01, kernel=rbf .....................................\n",
      "[CV] ......... C=1, gamma=0.01, kernel=rbf, score=0.838, total=   5.6s\n",
      "[CV] C=1, gamma=0.01, kernel=rbf .....................................\n",
      "[CV] ......... C=1, gamma=0.01, kernel=rbf, score=0.846, total=   5.5s\n",
      "[CV] C=1, gamma=0.01, kernel=rbf .....................................\n",
      "[CV] ......... C=1, gamma=0.01, kernel=rbf, score=0.842, total=   5.5s\n",
      "[CV] C=1, gamma=0.01, kernel=rbf .....................................\n",
      "[CV] ......... C=1, gamma=0.01, kernel=rbf, score=0.840, total=   5.4s\n",
      "[CV] C=1, gamma=0.001, kernel=rbf ....................................\n",
      "[CV] ........ C=1, gamma=0.001, kernel=rbf, score=0.843, total=   5.2s\n",
      "[CV] C=1, gamma=0.001, kernel=rbf ....................................\n",
      "[CV] ........ C=1, gamma=0.001, kernel=rbf, score=0.837, total=   5.5s\n",
      "[CV] C=1, gamma=0.001, kernel=rbf ....................................\n",
      "[CV] ........ C=1, gamma=0.001, kernel=rbf, score=0.839, total=   5.3s\n",
      "[CV] C=1, gamma=0.001, kernel=rbf ....................................\n",
      "[CV] ........ C=1, gamma=0.001, kernel=rbf, score=0.836, total=   5.2s\n",
      "[CV] C=1, gamma=0.001, kernel=rbf ....................................\n",
      "[CV] ........ C=1, gamma=0.001, kernel=rbf, score=0.832, total=   5.5s\n",
      "[CV] C=10, gamma=0.1, kernel=rbf .....................................\n",
      "[CV] ......... C=10, gamma=0.1, kernel=rbf, score=0.813, total=  17.7s\n",
      "[CV] C=10, gamma=0.1, kernel=rbf .....................................\n",
      "[CV] ......... C=10, gamma=0.1, kernel=rbf, score=0.808, total=  17.7s\n",
      "[CV] C=10, gamma=0.1, kernel=rbf .....................................\n",
      "[CV] ......... C=10, gamma=0.1, kernel=rbf, score=0.805, total=  17.5s\n",
      "[CV] C=10, gamma=0.1, kernel=rbf .....................................\n",
      "[CV] ......... C=10, gamma=0.1, kernel=rbf, score=0.809, total=  19.1s\n",
      "[CV] C=10, gamma=0.1, kernel=rbf .....................................\n",
      "[CV] ......... C=10, gamma=0.1, kernel=rbf, score=0.803, total=  18.4s\n",
      "[CV] C=10, gamma=0.01, kernel=rbf ....................................\n",
      "[CV] ........ C=10, gamma=0.01, kernel=rbf, score=0.848, total=   6.7s\n",
      "[CV] C=10, gamma=0.01, kernel=rbf ....................................\n",
      "[CV] ........ C=10, gamma=0.01, kernel=rbf, score=0.835, total=   6.5s\n",
      "[CV] C=10, gamma=0.01, kernel=rbf ....................................\n",
      "[CV] ........ C=10, gamma=0.01, kernel=rbf, score=0.839, total=   6.3s\n",
      "[CV] C=10, gamma=0.01, kernel=rbf ....................................\n",
      "[CV] ........ C=10, gamma=0.01, kernel=rbf, score=0.837, total=   6.7s\n",
      "[CV] C=10, gamma=0.01, kernel=rbf ....................................\n",
      "[CV] ........ C=10, gamma=0.01, kernel=rbf, score=0.835, total=   6.1s\n",
      "[CV] C=10, gamma=0.001, kernel=rbf ...................................\n",
      "[CV] ....... C=10, gamma=0.001, kernel=rbf, score=0.852, total=   5.3s\n",
      "[CV] C=10, gamma=0.001, kernel=rbf ...................................\n",
      "[CV] ....... C=10, gamma=0.001, kernel=rbf, score=0.839, total=   5.4s\n",
      "[CV] C=10, gamma=0.001, kernel=rbf ...................................\n",
      "[CV] ....... C=10, gamma=0.001, kernel=rbf, score=0.846, total=   5.5s\n",
      "[CV] C=10, gamma=0.001, kernel=rbf ...................................\n",
      "[CV] ....... C=10, gamma=0.001, kernel=rbf, score=0.845, total=   5.6s\n",
      "[CV] C=10, gamma=0.001, kernel=rbf ...................................\n",
      "[CV] ....... C=10, gamma=0.001, kernel=rbf, score=0.841, total=   5.4s\n",
      "[CV] C=100, gamma=0.1, kernel=rbf ....................................\n",
      "[CV] ........ C=100, gamma=0.1, kernel=rbf, score=0.799, total=  20.8s\n",
      "[CV] C=100, gamma=0.1, kernel=rbf ....................................\n",
      "[CV] ........ C=100, gamma=0.1, kernel=rbf, score=0.793, total=  21.3s\n",
      "[CV] C=100, gamma=0.1, kernel=rbf ....................................\n",
      "[CV] ........ C=100, gamma=0.1, kernel=rbf, score=0.793, total=  21.2s\n",
      "[CV] C=100, gamma=0.1, kernel=rbf ....................................\n",
      "[CV] ........ C=100, gamma=0.1, kernel=rbf, score=0.798, total=  22.1s\n",
      "[CV] C=100, gamma=0.1, kernel=rbf ....................................\n",
      "[CV] ........ C=100, gamma=0.1, kernel=rbf, score=0.797, total=  20.0s\n",
      "[CV] C=100, gamma=0.01, kernel=rbf ...................................\n",
      "[CV] ....... C=100, gamma=0.01, kernel=rbf, score=0.837, total=   8.2s\n",
      "[CV] C=100, gamma=0.01, kernel=rbf ...................................\n",
      "[CV] ....... C=100, gamma=0.01, kernel=rbf, score=0.827, total=   8.3s\n",
      "[CV] C=100, gamma=0.01, kernel=rbf ...................................\n",
      "[CV] ....... C=100, gamma=0.01, kernel=rbf, score=0.832, total=   8.3s\n",
      "[CV] C=100, gamma=0.01, kernel=rbf ...................................\n",
      "[CV] ....... C=100, gamma=0.01, kernel=rbf, score=0.832, total=   8.2s\n",
      "[CV] C=100, gamma=0.01, kernel=rbf ...................................\n",
      "[CV] ....... C=100, gamma=0.01, kernel=rbf, score=0.824, total=   8.7s\n",
      "[CV] C=100, gamma=0.001, kernel=rbf ..................................\n",
      "[CV] ...... C=100, gamma=0.001, kernel=rbf, score=0.857, total=   7.0s\n",
      "[CV] C=100, gamma=0.001, kernel=rbf ..................................\n",
      "[CV] ...... C=100, gamma=0.001, kernel=rbf, score=0.843, total=   6.9s\n",
      "[CV] C=100, gamma=0.001, kernel=rbf ..................................\n",
      "[CV] ...... C=100, gamma=0.001, kernel=rbf, score=0.845, total=   6.7s\n",
      "[CV] C=100, gamma=0.001, kernel=rbf ..................................\n",
      "[CV] ...... C=100, gamma=0.001, kernel=rbf, score=0.846, total=   6.6s\n",
      "[CV] C=100, gamma=0.001, kernel=rbf ..................................\n",
      "[CV] ...... C=100, gamma=0.001, kernel=rbf, score=0.841, total=   6.7s\n"
     ]
    },
    {
     "name": "stderr",
     "output_type": "stream",
     "text": [
      "[Parallel(n_jobs=1)]: Done  45 out of  45 | elapsed:  7.2min finished\n"
     ]
    },
    {
     "data": {
      "text/plain": [
       "GridSearchCV(cv=None, error_score=nan,\n",
       "             estimator=SVC(C=1.0, break_ties=False, cache_size=200,\n",
       "                           class_weight=None, coef0=0.0,\n",
       "                           decision_function_shape='ovr', degree=3,\n",
       "                           gamma='scale', kernel='rbf', max_iter=-1,\n",
       "                           probability=False, random_state=None, shrinking=True,\n",
       "                           tol=0.001, verbose=False),\n",
       "             iid='deprecated', n_jobs=None,\n",
       "             param_grid={'C': [1, 10, 100], 'gamma': [0.1, 0.01, 0.001],\n",
       "                         'kernel': ['rbf']},\n",
       "             pre_dispatch='2*n_jobs', refit=True, return_train_score=False,\n",
       "             scoring=None, verbose=3)"
      ]
     },
     "execution_count": 118,
     "metadata": {},
     "output_type": "execute_result"
    }
   ],
   "source": [
    "grid = GridSearchCV(SVC(),param_grid,refit=True,verbose=3)\n",
    "grid.fit(x1_train,y1_train)"
   ]
  },
  {
   "cell_type": "code",
   "execution_count": 119,
   "metadata": {},
   "outputs": [
    {
     "name": "stdout",
     "output_type": "stream",
     "text": [
      "{'C': 100, 'gamma': 0.001, 'kernel': 'rbf'}\n",
      "Accuracy: 0.83898891966759\n",
      "Confusion Matrix: \n",
      " [[3959  299]\n",
      " [ 631  887]]\n",
      "Classification Report: \n",
      "               precision    recall  f1-score   support\n",
      "\n",
      "           0       0.86      0.93      0.89      4258\n",
      "           1       0.75      0.58      0.66      1518\n",
      "\n",
      "    accuracy                           0.84      5776\n",
      "   macro avg       0.81      0.76      0.78      5776\n",
      "weighted avg       0.83      0.84      0.83      5776\n",
      "\n",
      "CPU times: user 1.76 s, sys: 13.6 ms, total: 1.77 s\n",
      "Wall time: 1.77 s\n"
     ]
    }
   ],
   "source": [
    "%%time\n",
    "print(grid.best_params_)\n",
    "grid_predictions = grid.predict(x1_test)\n",
    "print('Accuracy:',accuracy_score(y1_test,grid_predictions))\n",
    "print('Confusion Matrix: \\n', confusion_matrix(y1_test,grid_predictions))\n",
    "print('Classification Report: \\n', classification_report(y1_test,grid_predictions))"
   ]
  },
  {
   "cell_type": "code",
   "execution_count": 126,
   "metadata": {},
   "outputs": [
    {
     "data": {
      "image/png": "[encoded data removed]",
      "text/plain": [
       "<Figure size 432x288 with 1 Axes>"
      ]
     },
     "metadata": {},
     "output_type": "display_data"
    }
   ],
   "source": [
    "roc_auc(grid_predictions,y1_test)"
   ]
  },
  {
   "cell_type": "code",
   "execution_count": 44,
   "metadata": {},
   "outputs": [
    {
     "name": "stdout",
     "output_type": "stream",
     "text": [
      "Scores:  [0.85459941 0.84675325 0.84675325 0.83599258 0.84378479]\n",
      "Accuracy: 0.85 (+/- 0.01)\n"
     ]
    }
   ],
   "source": [
    "model = SVC(C = 100, gamma = 0.001, kernel = 'rbf')\n",
    "scores = cross_val_score(model, x1_train, y1_train, scoring='accuracy', cv=5)\n",
    "print('Scores: ',scores)\n",
    "print(\"Accuracy: %0.2f (+/- %0.2f)\" % (scores.mean(), scores.std() * 2))"
   ]
  },
  {
   "cell_type": "code",
   "execution_count": 45,
   "metadata": {},
   "outputs": [
    {
     "data": {
      "image/png": "[encoded data removed]",
      "text/plain": [
       "<Figure size 432x288 with 1 Axes>"
      ]
     },
     "metadata": {},
     "output_type": "display_data"
    }
   ],
   "source": [
    "# Plotting the mean accuracies found from cross validtion and test set accuracy\n",
    "plt.plot(np.arange(0,5,1),scores,marker = 'o' , markersize = 6 , color = 'red',label='Folds')\n",
    "plt.title(\" Accuracies of different Folds \")\n",
    "plt.xlabel(\"Folds\")\n",
    "plt.grid()\n",
    "plt.ylabel(\"Accuracy\")\n",
    "plt.legend()\n",
    "plt.show()"
   ]
  },
  {
   "cell_type": "markdown",
   "metadata": {},
   "source": [
    "Polynomial Kernel"
   ]
  },
  {
   "cell_type": "code",
   "execution_count": 46,
   "metadata": {},
   "outputs": [],
   "source": [
    "model = SVC(kernel='poly')"
   ]
  },
  {
   "cell_type": "code",
   "execution_count": 47,
   "metadata": {},
   "outputs": [
    {
     "name": "stdout",
     "output_type": "stream",
     "text": [
      "CPU times: user 7.44 s, sys: 153 ms, total: 7.59 s\n",
      "Wall time: 7.6 s\n"
     ]
    },
    {
     "data": {
      "text/plain": [
       "SVC(C=1.0, break_ties=False, cache_size=200, class_weight=None, coef0=0.0,\n",
       "    decision_function_shape='ovr', degree=3, gamma='scale', kernel='poly',\n",
       "    max_iter=-1, probability=False, random_state=None, shrinking=True,\n",
       "    tol=0.001, verbose=False)"
      ]
     },
     "execution_count": 47,
     "metadata": {},
     "output_type": "execute_result"
    }
   ],
   "source": [
    "%%time\n",
    "model.fit(x1_train,y1_train)"
   ]
  },
  {
   "cell_type": "code",
   "execution_count": 48,
   "metadata": {},
   "outputs": [
    {
     "name": "stdout",
     "output_type": "stream",
     "text": [
      "Accuracy: 0.8355263157894737\n",
      "Confusion Matrix: \n",
      " [[4050  287]\n",
      " [ 663  776]]\n",
      "Classification Report: \n",
      "               precision    recall  f1-score   support\n",
      "\n",
      "           0       0.86      0.93      0.90      4337\n",
      "           1       0.73      0.54      0.62      1439\n",
      "\n",
      "    accuracy                           0.84      5776\n",
      "   macro avg       0.79      0.74      0.76      5776\n",
      "weighted avg       0.83      0.84      0.83      5776\n",
      "\n"
     ]
    }
   ],
   "source": [
    "predictions = model.predict(x1_test)\n",
    "print('Accuracy:',accuracy_score(y1_test,predictions))\n",
    "print('Confusion Matrix: \\n',confusion_matrix(y1_test,predictions))\n",
    "print('Classification Report: \\n',classification_report(y1_test,predictions))"
   ]
  },
  {
   "cell_type": "code",
   "execution_count": 49,
   "metadata": {},
   "outputs": [],
   "source": [
    "param_grid = {'C': [1,10], 'degree' : [3,5], 'gamma': [0.1,0.01,0.001], 'kernel': ['poly']} "
   ]
  },
  {
   "cell_type": "code",
   "execution_count": 50,
   "metadata": {
    "scrolled": true
   },
   "outputs": [
    {
     "name": "stdout",
     "output_type": "stream",
     "text": [
      "Fitting 5 folds for each of 12 candidates, totalling 60 fits\n",
      "[CV] C=1, degree=3, gamma=0.1, kernel=poly ...........................\n"
     ]
    },
    {
     "name": "stderr",
     "output_type": "stream",
     "text": [
      "[Parallel(n_jobs=1)]: Using backend SequentialBackend with 1 concurrent workers.\n"
     ]
    },
    {
     "name": "stdout",
     "output_type": "stream",
     "text": [
      "[CV]  C=1, degree=3, gamma=0.1, kernel=poly, score=0.800, total=  14.0s\n",
      "[CV] C=1, degree=3, gamma=0.1, kernel=poly ...........................\n"
     ]
    },
    {
     "name": "stderr",
     "output_type": "stream",
     "text": [
      "[Parallel(n_jobs=1)]: Done   1 out of   1 | elapsed:   14.0s remaining:    0.0s\n"
     ]
    },
    {
     "name": "stdout",
     "output_type": "stream",
     "text": [
      "[CV]  C=1, degree=3, gamma=0.1, kernel=poly, score=0.799, total=  13.4s\n",
      "[CV] C=1, degree=3, gamma=0.1, kernel=poly ...........................\n"
     ]
    },
    {
     "name": "stderr",
     "output_type": "stream",
     "text": [
      "[Parallel(n_jobs=1)]: Done   2 out of   2 | elapsed:   27.4s remaining:    0.0s\n"
     ]
    },
    {
     "name": "stdout",
     "output_type": "stream",
     "text": [
      "[CV]  C=1, degree=3, gamma=0.1, kernel=poly, score=0.799, total=  11.6s\n",
      "[CV] C=1, degree=3, gamma=0.1, kernel=poly ...........................\n",
      "[CV]  C=1, degree=3, gamma=0.1, kernel=poly, score=0.794, total=  11.0s\n",
      "[CV] C=1, degree=3, gamma=0.1, kernel=poly ...........................\n",
      "[CV]  C=1, degree=3, gamma=0.1, kernel=poly, score=0.801, total=  13.0s\n",
      "[CV] C=1, degree=3, gamma=0.01, kernel=poly ..........................\n",
      "[CV]  C=1, degree=3, gamma=0.01, kernel=poly, score=0.820, total=   6.2s\n",
      "[CV] C=1, degree=3, gamma=0.01, kernel=poly ..........................\n",
      "[CV]  C=1, degree=3, gamma=0.01, kernel=poly, score=0.820, total=   5.9s\n",
      "[CV] C=1, degree=3, gamma=0.01, kernel=poly ..........................\n",
      "[CV]  C=1, degree=3, gamma=0.01, kernel=poly, score=0.817, total=   5.8s\n",
      "[CV] C=1, degree=3, gamma=0.01, kernel=poly ..........................\n",
      "[CV]  C=1, degree=3, gamma=0.01, kernel=poly, score=0.814, total=   6.0s\n",
      "[CV] C=1, degree=3, gamma=0.01, kernel=poly ..........................\n",
      "[CV]  C=1, degree=3, gamma=0.01, kernel=poly, score=0.821, total=   6.1s\n",
      "[CV] C=1, degree=3, gamma=0.001, kernel=poly .........................\n",
      "[CV]  C=1, degree=3, gamma=0.001, kernel=poly, score=0.742, total=   6.0s\n",
      "[CV] C=1, degree=3, gamma=0.001, kernel=poly .........................\n",
      "[CV]  C=1, degree=3, gamma=0.001, kernel=poly, score=0.742, total=   6.2s\n",
      "[CV] C=1, degree=3, gamma=0.001, kernel=poly .........................\n",
      "[CV]  C=1, degree=3, gamma=0.001, kernel=poly, score=0.743, total=   5.9s\n",
      "[CV] C=1, degree=3, gamma=0.001, kernel=poly .........................\n",
      "[CV]  C=1, degree=3, gamma=0.001, kernel=poly, score=0.743, total=   5.9s\n",
      "[CV] C=1, degree=3, gamma=0.001, kernel=poly .........................\n",
      "[CV]  C=1, degree=3, gamma=0.001, kernel=poly, score=0.742, total=   6.0s\n",
      "[CV] C=1, degree=5, gamma=0.1, kernel=poly ...........................\n",
      "[CV]  C=1, degree=5, gamma=0.1, kernel=poly, score=0.779, total=  28.9s\n",
      "[CV] C=1, degree=5, gamma=0.1, kernel=poly ...........................\n",
      "[CV]  C=1, degree=5, gamma=0.1, kernel=poly, score=0.774, total=  23.7s\n",
      "[CV] C=1, degree=5, gamma=0.1, kernel=poly ...........................\n",
      "[CV]  C=1, degree=5, gamma=0.1, kernel=poly, score=0.781, total=  25.2s\n",
      "[CV] C=1, degree=5, gamma=0.1, kernel=poly ...........................\n",
      "[CV]  C=1, degree=5, gamma=0.1, kernel=poly, score=0.778, total=  23.6s\n",
      "[CV] C=1, degree=5, gamma=0.1, kernel=poly ...........................\n",
      "[CV]  C=1, degree=5, gamma=0.1, kernel=poly, score=0.783, total=  31.7s\n",
      "[CV] C=1, degree=5, gamma=0.01, kernel=poly ..........................\n",
      "[CV]  C=1, degree=5, gamma=0.01, kernel=poly, score=0.771, total=   7.1s\n",
      "[CV] C=1, degree=5, gamma=0.01, kernel=poly ..........................\n",
      "[CV]  C=1, degree=5, gamma=0.01, kernel=poly, score=0.770, total=   7.4s\n",
      "[CV] C=1, degree=5, gamma=0.01, kernel=poly ..........................\n",
      "[CV]  C=1, degree=5, gamma=0.01, kernel=poly, score=0.767, total=   6.7s\n",
      "[CV] C=1, degree=5, gamma=0.01, kernel=poly ..........................\n",
      "[CV]  C=1, degree=5, gamma=0.01, kernel=poly, score=0.773, total=   6.9s\n",
      "[CV] C=1, degree=5, gamma=0.01, kernel=poly ..........................\n",
      "[CV]  C=1, degree=5, gamma=0.01, kernel=poly, score=0.771, total=   7.3s\n",
      "[CV] C=1, degree=5, gamma=0.001, kernel=poly .........................\n",
      "[CV]  C=1, degree=5, gamma=0.001, kernel=poly, score=0.742, total=   5.6s\n",
      "[CV] C=1, degree=5, gamma=0.001, kernel=poly .........................\n",
      "[CV]  C=1, degree=5, gamma=0.001, kernel=poly, score=0.742, total=   5.3s\n",
      "[CV] C=1, degree=5, gamma=0.001, kernel=poly .........................\n",
      "[CV]  C=1, degree=5, gamma=0.001, kernel=poly, score=0.743, total=   5.4s\n",
      "[CV] C=1, degree=5, gamma=0.001, kernel=poly .........................\n",
      "[CV]  C=1, degree=5, gamma=0.001, kernel=poly, score=0.743, total=   5.2s\n",
      "[CV] C=1, degree=5, gamma=0.001, kernel=poly .........................\n",
      "[CV]  C=1, degree=5, gamma=0.001, kernel=poly, score=0.742, total=   5.3s\n",
      "[CV] C=10, degree=3, gamma=0.1, kernel=poly ..........................\n",
      "[CV]  C=10, degree=3, gamma=0.1, kernel=poly, score=0.785, total= 1.5min\n",
      "[CV] C=10, degree=3, gamma=0.1, kernel=poly ..........................\n",
      "[CV]  C=10, degree=3, gamma=0.1, kernel=poly, score=0.779, total= 1.0min\n",
      "[CV] C=10, degree=3, gamma=0.1, kernel=poly ..........................\n",
      "[CV]  C=10, degree=3, gamma=0.1, kernel=poly, score=0.783, total= 1.1min\n",
      "[CV] C=10, degree=3, gamma=0.1, kernel=poly ..........................\n",
      "[CV]  C=10, degree=3, gamma=0.1, kernel=poly, score=0.787, total=  55.1s\n",
      "[CV] C=10, degree=3, gamma=0.1, kernel=poly ..........................\n",
      "[CV]  C=10, degree=3, gamma=0.1, kernel=poly, score=0.780, total=  55.2s\n",
      "[CV] C=10, degree=3, gamma=0.01, kernel=poly .........................\n",
      "[CV]  C=10, degree=3, gamma=0.01, kernel=poly, score=0.829, total=   6.0s\n",
      "[CV] C=10, degree=3, gamma=0.01, kernel=poly .........................\n",
      "[CV]  C=10, degree=3, gamma=0.01, kernel=poly, score=0.830, total=   5.5s\n",
      "[CV] C=10, degree=3, gamma=0.01, kernel=poly .........................\n",
      "[CV]  C=10, degree=3, gamma=0.01, kernel=poly, score=0.821, total=   5.6s\n",
      "[CV] C=10, degree=3, gamma=0.01, kernel=poly .........................\n",
      "[CV]  C=10, degree=3, gamma=0.01, kernel=poly, score=0.820, total=   5.8s\n",
      "[CV] C=10, degree=3, gamma=0.01, kernel=poly .........................\n",
      "[CV]  C=10, degree=3, gamma=0.01, kernel=poly, score=0.820, total=   5.6s\n",
      "[CV] C=10, degree=3, gamma=0.001, kernel=poly ........................\n",
      "[CV]  C=10, degree=3, gamma=0.001, kernel=poly, score=0.748, total=   5.7s\n",
      "[CV] C=10, degree=3, gamma=0.001, kernel=poly ........................\n",
      "[CV]  C=10, degree=3, gamma=0.001, kernel=poly, score=0.747, total=   6.1s\n",
      "[CV] C=10, degree=3, gamma=0.001, kernel=poly ........................\n",
      "[CV]  C=10, degree=3, gamma=0.001, kernel=poly, score=0.749, total=   5.8s\n",
      "[CV] C=10, degree=3, gamma=0.001, kernel=poly ........................\n",
      "[CV]  C=10, degree=3, gamma=0.001, kernel=poly, score=0.751, total=   5.8s\n",
      "[CV] C=10, degree=3, gamma=0.001, kernel=poly ........................\n",
      "[CV]  C=10, degree=3, gamma=0.001, kernel=poly, score=0.748, total=   5.7s\n",
      "[CV] C=10, degree=5, gamma=0.1, kernel=poly ..........................\n",
      "[CV]  C=10, degree=5, gamma=0.1, kernel=poly, score=0.772, total= 1.4min\n",
      "[CV] C=10, degree=5, gamma=0.1, kernel=poly ..........................\n",
      "[CV]  C=10, degree=5, gamma=0.1, kernel=poly, score=0.770, total= 1.8min\n",
      "[CV] C=10, degree=5, gamma=0.1, kernel=poly ..........................\n",
      "[CV]  C=10, degree=5, gamma=0.1, kernel=poly, score=0.765, total=  53.7s\n",
      "[CV] C=10, degree=5, gamma=0.1, kernel=poly ..........................\n",
      "[CV]  C=10, degree=5, gamma=0.1, kernel=poly, score=0.775, total= 1.4min\n",
      "[CV] C=10, degree=5, gamma=0.1, kernel=poly ..........................\n",
      "[CV]  C=10, degree=5, gamma=0.1, kernel=poly, score=0.774, total= 1.6min\n",
      "[CV] C=10, degree=5, gamma=0.01, kernel=poly .........................\n",
      "[CV]  C=10, degree=5, gamma=0.01, kernel=poly, score=0.800, total=   7.0s\n",
      "[CV] C=10, degree=5, gamma=0.01, kernel=poly .........................\n",
      "[CV]  C=10, degree=5, gamma=0.01, kernel=poly, score=0.797, total=   7.0s\n",
      "[CV] C=10, degree=5, gamma=0.01, kernel=poly .........................\n",
      "[CV]  C=10, degree=5, gamma=0.01, kernel=poly, score=0.799, total=   7.1s\n",
      "[CV] C=10, degree=5, gamma=0.01, kernel=poly .........................\n",
      "[CV]  C=10, degree=5, gamma=0.01, kernel=poly, score=0.796, total=   6.8s\n",
      "[CV] C=10, degree=5, gamma=0.01, kernel=poly .........................\n",
      "[CV]  C=10, degree=5, gamma=0.01, kernel=poly, score=0.795, total=   7.2s\n",
      "[CV] C=10, degree=5, gamma=0.001, kernel=poly ........................\n",
      "[CV]  C=10, degree=5, gamma=0.001, kernel=poly, score=0.742, total=   6.0s\n",
      "[CV] C=10, degree=5, gamma=0.001, kernel=poly ........................\n",
      "[CV]  C=10, degree=5, gamma=0.001, kernel=poly, score=0.742, total=   6.1s\n",
      "[CV] C=10, degree=5, gamma=0.001, kernel=poly ........................\n",
      "[CV]  C=10, degree=5, gamma=0.001, kernel=poly, score=0.743, total=   6.2s\n",
      "[CV] C=10, degree=5, gamma=0.001, kernel=poly ........................\n",
      "[CV]  C=10, degree=5, gamma=0.001, kernel=poly, score=0.743, total=   5.7s\n",
      "[CV] C=10, degree=5, gamma=0.001, kernel=poly ........................\n"
     ]
    },
    {
     "name": "stdout",
     "output_type": "stream",
     "text": [
      "[CV]  C=10, degree=5, gamma=0.001, kernel=poly, score=0.743, total=   5.8s\n"
     ]
    },
    {
     "name": "stderr",
     "output_type": "stream",
     "text": [
      "[Parallel(n_jobs=1)]: Done  60 out of  60 | elapsed: 20.0min finished\n"
     ]
    },
    {
     "data": {
      "text/plain": [
       "GridSearchCV(cv=None, error_score=nan,\n",
       "             estimator=SVC(C=1.0, break_ties=False, cache_size=200,\n",
       "                           class_weight=None, coef0=0.0,\n",
       "                           decision_function_shape='ovr', degree=3,\n",
       "                           gamma='scale', kernel='rbf', max_iter=-1,\n",
       "                           probability=False, random_state=None, shrinking=True,\n",
       "                           tol=0.001, verbose=False),\n",
       "             iid='deprecated', n_jobs=None,\n",
       "             param_grid={'C': [1, 10], 'degree': [3, 5],\n",
       "                         'gamma': [0.1, 0.01, 0.001], 'kernel': ['poly']},\n",
       "             pre_dispatch='2*n_jobs', refit=True, return_train_score=False,\n",
       "             scoring=None, verbose=3)"
      ]
     },
     "execution_count": 50,
     "metadata": {},
     "output_type": "execute_result"
    }
   ],
   "source": [
    "grid = GridSearchCV(SVC(),param_grid,refit=True,verbose=3)\n",
    "grid.fit(x1_train,y1_train)"
   ]
  },
  {
   "cell_type": "code",
   "execution_count": 51,
   "metadata": {},
   "outputs": [
    {
     "name": "stdout",
     "output_type": "stream",
     "text": [
      "{'C': 10, 'degree': 3, 'gamma': 0.01, 'kernel': 'poly'}\n",
      "Accuracy: 0.8325831024930748\n",
      "Confusion Matrix: \n",
      " [[3998  339]\n",
      " [ 628  811]]\n",
      "Classification Report: \n",
      "               precision    recall  f1-score   support\n",
      "\n",
      "           0       0.86      0.92      0.89      4337\n",
      "           1       0.71      0.56      0.63      1439\n",
      "\n",
      "    accuracy                           0.83      5776\n",
      "   macro avg       0.78      0.74      0.76      5776\n",
      "weighted avg       0.82      0.83      0.83      5776\n",
      "\n"
     ]
    }
   ],
   "source": [
    "print(grid.best_params_)\n",
    "grid_predictions = grid.predict(x1_test)\n",
    "print('Accuracy:',accuracy_score(y1_test,grid_predictions))\n",
    "print('Confusion Matrix: \\n', confusion_matrix(y1_test,grid_predictions))\n",
    "print('Classification Report: \\n', classification_report(y1_test,grid_predictions))"
   ]
  },
  {
   "cell_type": "code",
   "execution_count": 66,
   "metadata": {},
   "outputs": [
    {
     "name": "stdout",
     "output_type": "stream",
     "text": [
      "Scores:  [0.82937685 0.8296846  0.82077922 0.81966605 0.81966605]\n",
      "Accuracy: 0.82 (+/- 0.01)\n"
     ]
    }
   ],
   "source": [
    "model = SVC(C = 10, gamma = 0.01,degree =3, kernel = 'poly')\n",
    "scores = cross_val_score(model, x1_train, y1_train, scoring='accuracy', cv=5)\n",
    "print('Scores: ',scores)\n",
    "print(\"Accuracy: %0.2f (+/- %0.2f)\" % (scores.mean(), scores.std() * 2))"
   ]
  },
  {
   "cell_type": "markdown",
   "metadata": {},
   "source": [
    "# DECISION TREES"
   ]
  },
  {
   "cell_type": "code",
   "execution_count": 52,
   "metadata": {},
   "outputs": [
    {
     "name": "stdout",
     "output_type": "stream",
     "text": [
      "Accuracy - Training set: 1.00\n"
     ]
    }
   ],
   "source": [
    "# Create Decision Tree classifer object\n",
    "dtc = DecisionTreeClassifier()\n",
    "\n",
    "# Train Decision Tree Classifer\n",
    "dtc = dtc.fit(x1_train,y1_train)\n",
    "\n",
    "trainacc = dtc.score(x1_train,y1_train)\n",
    "print('Accuracy - Training set: {:.2f}'.format(trainacc))"
   ]
  },
  {
   "cell_type": "code",
   "execution_count": 53,
   "metadata": {},
   "outputs": [
    {
     "name": "stdout",
     "output_type": "stream",
     "text": [
      "Accuracy: 0.8043628808864266\n",
      "Confusion Matrix: \n",
      " [[3760  577]\n",
      " [ 553  886]]\n",
      "Classification Report: \n",
      "               precision    recall  f1-score   support\n",
      "\n",
      "           0       0.87      0.87      0.87      4337\n",
      "           1       0.61      0.62      0.61      1439\n",
      "\n",
      "    accuracy                           0.80      5776\n",
      "   macro avg       0.74      0.74      0.74      5776\n",
      "weighted avg       0.81      0.80      0.80      5776\n",
      "\n"
     ]
    }
   ],
   "source": [
    "#Predict the response for test dataset\n",
    "predictions = dtc.predict(x1_test)\n",
    "# print classification report \n",
    "print('Accuracy:',accuracy_score(y1_test,predictions))\n",
    "print('Confusion Matrix: \\n',confusion_matrix(y1_test, predictions))\n",
    "print('Classification Report: \\n',classification_report(y1_test, predictions)) "
   ]
  },
  {
   "cell_type": "code",
   "execution_count": 54,
   "metadata": {},
   "outputs": [
    {
     "name": "stdout",
     "output_type": "stream",
     "text": [
      "50\n"
     ]
    }
   ],
   "source": [
    "print(dtc.tree_.max_depth)"
   ]
  },
  {
   "cell_type": "code",
   "execution_count": 55,
   "metadata": {},
   "outputs": [
    {
     "name": "stdout",
     "output_type": "stream",
     "text": [
      "Fitting 5 folds for each of 32 candidates, totalling 160 fits\n",
      "[CV] criterion=gini, max_depth=2, max_leaf_nodes=None ................\n",
      "[CV] . criterion=gini, max_depth=2, max_leaf_nodes=None, total=   0.0s\n",
      "[CV] criterion=gini, max_depth=2, max_leaf_nodes=None ................\n",
      "[CV] . criterion=gini, max_depth=2, max_leaf_nodes=None, total=   0.0s\n",
      "[CV] criterion=gini, max_depth=2, max_leaf_nodes=None ................\n",
      "[CV] . criterion=gini, max_depth=2, max_leaf_nodes=None, total=   0.0s\n",
      "[CV] criterion=gini, max_depth=2, max_leaf_nodes=None ................\n",
      "[CV] . criterion=gini, max_depth=2, max_leaf_nodes=None, total=   0.0s\n",
      "[CV] criterion=gini, max_depth=2, max_leaf_nodes=None ................\n",
      "[CV] . criterion=gini, max_depth=2, max_leaf_nodes=None, total=   0.0s\n",
      "[CV] criterion=gini, max_depth=2, max_leaf_nodes=5 ...................\n",
      "[CV] .... criterion=gini, max_depth=2, max_leaf_nodes=5, total=   0.0s\n",
      "[CV] criterion=gini, max_depth=2, max_leaf_nodes=5 ...................\n",
      "[CV] .... criterion=gini, max_depth=2, max_leaf_nodes=5, total=   0.0s\n",
      "[CV] criterion=gini, max_depth=2, max_leaf_nodes=5 ...................\n"
     ]
    },
    {
     "name": "stderr",
     "output_type": "stream",
     "text": [
      "[Parallel(n_jobs=1)]: Using backend SequentialBackend with 1 concurrent workers.\n",
      "[Parallel(n_jobs=1)]: Done   1 out of   1 | elapsed:    0.0s remaining:    0.0s\n"
     ]
    },
    {
     "name": "stdout",
     "output_type": "stream",
     "text": [
      "[CV] .... criterion=gini, max_depth=2, max_leaf_nodes=5, total=   0.0s\n",
      "[CV] criterion=gini, max_depth=2, max_leaf_nodes=5 ...................\n",
      "[CV] .... criterion=gini, max_depth=2, max_leaf_nodes=5, total=   0.0s\n",
      "[CV] criterion=gini, max_depth=2, max_leaf_nodes=5 ...................\n",
      "[CV] .... criterion=gini, max_depth=2, max_leaf_nodes=5, total=   0.0s\n",
      "[CV] criterion=gini, max_depth=2, max_leaf_nodes=10 ..................\n",
      "[CV] ... criterion=gini, max_depth=2, max_leaf_nodes=10, total=   0.0s\n",
      "[CV] criterion=gini, max_depth=2, max_leaf_nodes=10 ..................\n",
      "[CV] ... criterion=gini, max_depth=2, max_leaf_nodes=10, total=   0.0s\n",
      "[CV] criterion=gini, max_depth=2, max_leaf_nodes=10 ..................\n",
      "[CV] ... criterion=gini, max_depth=2, max_leaf_nodes=10, total=   0.0s\n",
      "[CV] criterion=gini, max_depth=2, max_leaf_nodes=10 ..................\n",
      "[CV] ... criterion=gini, max_depth=2, max_leaf_nodes=10, total=   0.0s\n",
      "[CV] criterion=gini, max_depth=2, max_leaf_nodes=10 ..................\n",
      "[CV] ... criterion=gini, max_depth=2, max_leaf_nodes=10, total=   0.0s\n",
      "[CV] criterion=gini, max_depth=2, max_leaf_nodes=20 ..................\n",
      "[CV] ... criterion=gini, max_depth=2, max_leaf_nodes=20, total=   0.0s\n",
      "[CV] criterion=gini, max_depth=2, max_leaf_nodes=20 ..................\n",
      "[CV] ... criterion=gini, max_depth=2, max_leaf_nodes=20, total=   0.0s\n",
      "[CV] criterion=gini, max_depth=2, max_leaf_nodes=20 ..................\n",
      "[CV] ... criterion=gini, max_depth=2, max_leaf_nodes=20, total=   0.0s\n",
      "[CV] criterion=gini, max_depth=2, max_leaf_nodes=20 ..................\n",
      "[CV] ... criterion=gini, max_depth=2, max_leaf_nodes=20, total=   0.0s\n",
      "[CV] criterion=gini, max_depth=2, max_leaf_nodes=20 ..................\n",
      "[CV] ... criterion=gini, max_depth=2, max_leaf_nodes=20, total=   0.0s\n",
      "[CV] criterion=gini, max_depth=5, max_leaf_nodes=None ................\n",
      "[CV] . criterion=gini, max_depth=5, max_leaf_nodes=None, total=   0.0s\n",
      "[CV] criterion=gini, max_depth=5, max_leaf_nodes=None ................\n",
      "[CV] . criterion=gini, max_depth=5, max_leaf_nodes=None, total=   0.0s\n",
      "[CV] criterion=gini, max_depth=5, max_leaf_nodes=None ................\n",
      "[CV] . criterion=gini, max_depth=5, max_leaf_nodes=None, total=   0.0s\n",
      "[CV] criterion=gini, max_depth=5, max_leaf_nodes=None ................\n",
      "[CV] . criterion=gini, max_depth=5, max_leaf_nodes=None, total=   0.0s\n",
      "[CV] criterion=gini, max_depth=5, max_leaf_nodes=None ................\n",
      "[CV] . criterion=gini, max_depth=5, max_leaf_nodes=None, total=   0.0s\n",
      "[CV] criterion=gini, max_depth=5, max_leaf_nodes=5 ...................\n",
      "[CV] .... criterion=gini, max_depth=5, max_leaf_nodes=5, total=   0.0s\n",
      "[CV] criterion=gini, max_depth=5, max_leaf_nodes=5 ...................\n",
      "[CV] .... criterion=gini, max_depth=5, max_leaf_nodes=5, total=   0.0s\n",
      "[CV] criterion=gini, max_depth=5, max_leaf_nodes=5 ...................\n",
      "[CV] .... criterion=gini, max_depth=5, max_leaf_nodes=5, total=   0.0s\n",
      "[CV] criterion=gini, max_depth=5, max_leaf_nodes=5 ...................\n",
      "[CV] .... criterion=gini, max_depth=5, max_leaf_nodes=5, total=   0.0s\n",
      "[CV] criterion=gini, max_depth=5, max_leaf_nodes=5 ...................\n",
      "[CV] .... criterion=gini, max_depth=5, max_leaf_nodes=5, total=   0.0s\n",
      "[CV] criterion=gini, max_depth=5, max_leaf_nodes=10 ..................\n",
      "[CV] ... criterion=gini, max_depth=5, max_leaf_nodes=10, total=   0.0s\n",
      "[CV] criterion=gini, max_depth=5, max_leaf_nodes=10 ..................\n",
      "[CV] ... criterion=gini, max_depth=5, max_leaf_nodes=10, total=   0.0s\n",
      "[CV] criterion=gini, max_depth=5, max_leaf_nodes=10 ..................\n",
      "[CV] ... criterion=gini, max_depth=5, max_leaf_nodes=10, total=   0.0s\n",
      "[CV] criterion=gini, max_depth=5, max_leaf_nodes=10 ..................\n",
      "[CV] ... criterion=gini, max_depth=5, max_leaf_nodes=10, total=   0.0s\n",
      "[CV] criterion=gini, max_depth=5, max_leaf_nodes=10 ..................\n",
      "[CV] ... criterion=gini, max_depth=5, max_leaf_nodes=10, total=   0.0s\n",
      "[CV] criterion=gini, max_depth=5, max_leaf_nodes=20 ..................\n",
      "[CV] ... criterion=gini, max_depth=5, max_leaf_nodes=20, total=   0.0s\n",
      "[CV] criterion=gini, max_depth=5, max_leaf_nodes=20 ..................\n",
      "[CV] ... criterion=gini, max_depth=5, max_leaf_nodes=20, total=   0.0s\n",
      "[CV] criterion=gini, max_depth=5, max_leaf_nodes=20 ..................\n",
      "[CV] ... criterion=gini, max_depth=5, max_leaf_nodes=20, total=   0.0s\n",
      "[CV] criterion=gini, max_depth=5, max_leaf_nodes=20 ..................\n",
      "[CV] ... criterion=gini, max_depth=5, max_leaf_nodes=20, total=   0.0s\n",
      "[CV] criterion=gini, max_depth=5, max_leaf_nodes=20 ..................\n",
      "[CV] ... criterion=gini, max_depth=5, max_leaf_nodes=20, total=   0.0s\n",
      "[CV] criterion=gini, max_depth=10, max_leaf_nodes=None ...............\n",
      "[CV]  criterion=gini, max_depth=10, max_leaf_nodes=None, total=   0.0s\n",
      "[CV] criterion=gini, max_depth=10, max_leaf_nodes=None ...............\n",
      "[CV]  criterion=gini, max_depth=10, max_leaf_nodes=None, total=   0.1s\n",
      "[CV] criterion=gini, max_depth=10, max_leaf_nodes=None ...............\n",
      "[CV]  criterion=gini, max_depth=10, max_leaf_nodes=None, total=   0.0s\n",
      "[CV] criterion=gini, max_depth=10, max_leaf_nodes=None ...............\n",
      "[CV]  criterion=gini, max_depth=10, max_leaf_nodes=None, total=   0.1s\n",
      "[CV] criterion=gini, max_depth=10, max_leaf_nodes=None ...............\n",
      "[CV]  criterion=gini, max_depth=10, max_leaf_nodes=None, total=   0.1s\n",
      "[CV] criterion=gini, max_depth=10, max_leaf_nodes=5 ..................\n",
      "[CV] ... criterion=gini, max_depth=10, max_leaf_nodes=5, total=   0.0s\n",
      "[CV] criterion=gini, max_depth=10, max_leaf_nodes=5 ..................\n",
      "[CV] ... criterion=gini, max_depth=10, max_leaf_nodes=5, total=   0.0s\n",
      "[CV] criterion=gini, max_depth=10, max_leaf_nodes=5 ..................\n",
      "[CV] ... criterion=gini, max_depth=10, max_leaf_nodes=5, total=   0.0s\n",
      "[CV] criterion=gini, max_depth=10, max_leaf_nodes=5 ..................\n",
      "[CV] ... criterion=gini, max_depth=10, max_leaf_nodes=5, total=   0.0s\n",
      "[CV] criterion=gini, max_depth=10, max_leaf_nodes=5 ..................\n",
      "[CV] ... criterion=gini, max_depth=10, max_leaf_nodes=5, total=   0.0s\n",
      "[CV] criterion=gini, max_depth=10, max_leaf_nodes=10 .................\n",
      "[CV] .. criterion=gini, max_depth=10, max_leaf_nodes=10, total=   0.0s\n",
      "[CV] criterion=gini, max_depth=10, max_leaf_nodes=10 .................\n",
      "[CV] .. criterion=gini, max_depth=10, max_leaf_nodes=10, total=   0.0s\n",
      "[CV] criterion=gini, max_depth=10, max_leaf_nodes=10 .................\n",
      "[CV] .. criterion=gini, max_depth=10, max_leaf_nodes=10, total=   0.0s\n",
      "[CV] criterion=gini, max_depth=10, max_leaf_nodes=10 .................\n",
      "[CV] .. criterion=gini, max_depth=10, max_leaf_nodes=10, total=   0.0s\n",
      "[CV] criterion=gini, max_depth=10, max_leaf_nodes=10 .................\n",
      "[CV] .. criterion=gini, max_depth=10, max_leaf_nodes=10, total=   0.0s\n",
      "[CV] criterion=gini, max_depth=10, max_leaf_nodes=20 .................\n",
      "[CV] .. criterion=gini, max_depth=10, max_leaf_nodes=20, total=   0.0s\n",
      "[CV] criterion=gini, max_depth=10, max_leaf_nodes=20 .................\n",
      "[CV] .. criterion=gini, max_depth=10, max_leaf_nodes=20, total=   0.0s\n",
      "[CV] criterion=gini, max_depth=10, max_leaf_nodes=20 .................\n",
      "[CV] .. criterion=gini, max_depth=10, max_leaf_nodes=20, total=   0.0s\n",
      "[CV] criterion=gini, max_depth=10, max_leaf_nodes=20 .................\n",
      "[CV] .. criterion=gini, max_depth=10, max_leaf_nodes=20, total=   0.0s\n",
      "[CV] criterion=gini, max_depth=10, max_leaf_nodes=20 .................\n",
      "[CV] .. criterion=gini, max_depth=10, max_leaf_nodes=20, total=   0.0s\n",
      "[CV] criterion=gini, max_depth=20, max_leaf_nodes=None ...............\n",
      "[CV]  criterion=gini, max_depth=20, max_leaf_nodes=None, total=   0.1s\n",
      "[CV] criterion=gini, max_depth=20, max_leaf_nodes=None ...............\n",
      "[CV]  criterion=gini, max_depth=20, max_leaf_nodes=None, total=   0.1s\n",
      "[CV] criterion=gini, max_depth=20, max_leaf_nodes=None ...............\n",
      "[CV]  criterion=gini, max_depth=20, max_leaf_nodes=None, total=   0.1s\n",
      "[CV] criterion=gini, max_depth=20, max_leaf_nodes=None ...............\n",
      "[CV]  criterion=gini, max_depth=20, max_leaf_nodes=None, total=   0.1s\n",
      "[CV] criterion=gini, max_depth=20, max_leaf_nodes=None ...............\n",
      "[CV]  criterion=gini, max_depth=20, max_leaf_nodes=None, total=   0.1s\n",
      "[CV] criterion=gini, max_depth=20, max_leaf_nodes=5 ..................\n",
      "[CV] ... criterion=gini, max_depth=20, max_leaf_nodes=5, total=   0.0s\n",
      "[CV] criterion=gini, max_depth=20, max_leaf_nodes=5 ..................\n",
      "[CV] ... criterion=gini, max_depth=20, max_leaf_nodes=5, total=   0.0s\n",
      "[CV] criterion=gini, max_depth=20, max_leaf_nodes=5 ..................\n",
      "[CV] ... criterion=gini, max_depth=20, max_leaf_nodes=5, total=   0.0s\n",
      "[CV] criterion=gini, max_depth=20, max_leaf_nodes=5 ..................\n",
      "[CV] ... criterion=gini, max_depth=20, max_leaf_nodes=5, total=   0.0s\n",
      "[CV] criterion=gini, max_depth=20, max_leaf_nodes=5 ..................\n",
      "[CV] ... criterion=gini, max_depth=20, max_leaf_nodes=5, total=   0.0s\n",
      "[CV] criterion=gini, max_depth=20, max_leaf_nodes=10 .................\n",
      "[CV] .. criterion=gini, max_depth=20, max_leaf_nodes=10, total=   0.0s\n",
      "[CV] criterion=gini, max_depth=20, max_leaf_nodes=10 .................\n",
      "[CV] .. criterion=gini, max_depth=20, max_leaf_nodes=10, total=   0.0s\n",
      "[CV] criterion=gini, max_depth=20, max_leaf_nodes=10 .................\n",
      "[CV] .. criterion=gini, max_depth=20, max_leaf_nodes=10, total=   0.0s\n",
      "[CV] criterion=gini, max_depth=20, max_leaf_nodes=10 .................\n"
     ]
    },
    {
     "name": "stdout",
     "output_type": "stream",
     "text": [
      "[CV] .. criterion=gini, max_depth=20, max_leaf_nodes=10, total=   0.0s\n",
      "[CV] criterion=gini, max_depth=20, max_leaf_nodes=10 .................\n",
      "[CV] .. criterion=gini, max_depth=20, max_leaf_nodes=10, total=   0.0s\n",
      "[CV] criterion=gini, max_depth=20, max_leaf_nodes=20 .................\n",
      "[CV] .. criterion=gini, max_depth=20, max_leaf_nodes=20, total=   0.0s\n",
      "[CV] criterion=gini, max_depth=20, max_leaf_nodes=20 .................\n",
      "[CV] .. criterion=gini, max_depth=20, max_leaf_nodes=20, total=   0.0s\n",
      "[CV] criterion=gini, max_depth=20, max_leaf_nodes=20 .................\n",
      "[CV] .. criterion=gini, max_depth=20, max_leaf_nodes=20, total=   0.0s\n",
      "[CV] criterion=gini, max_depth=20, max_leaf_nodes=20 .................\n",
      "[CV] .. criterion=gini, max_depth=20, max_leaf_nodes=20, total=   0.0s\n",
      "[CV] criterion=gini, max_depth=20, max_leaf_nodes=20 .................\n",
      "[CV] .. criterion=gini, max_depth=20, max_leaf_nodes=20, total=   0.0s\n",
      "[CV] criterion=entropy, max_depth=2, max_leaf_nodes=None .............\n",
      "[CV]  criterion=entropy, max_depth=2, max_leaf_nodes=None, total=   0.0s\n",
      "[CV] criterion=entropy, max_depth=2, max_leaf_nodes=None .............\n",
      "[CV]  criterion=entropy, max_depth=2, max_leaf_nodes=None, total=   0.0s\n",
      "[CV] criterion=entropy, max_depth=2, max_leaf_nodes=None .............\n",
      "[CV]  criterion=entropy, max_depth=2, max_leaf_nodes=None, total=   0.0s\n",
      "[CV] criterion=entropy, max_depth=2, max_leaf_nodes=None .............\n",
      "[CV]  criterion=entropy, max_depth=2, max_leaf_nodes=None, total=   0.0s\n",
      "[CV] criterion=entropy, max_depth=2, max_leaf_nodes=None .............\n",
      "[CV]  criterion=entropy, max_depth=2, max_leaf_nodes=None, total=   0.0s\n",
      "[CV] criterion=entropy, max_depth=2, max_leaf_nodes=5 ................\n",
      "[CV] . criterion=entropy, max_depth=2, max_leaf_nodes=5, total=   0.0s\n",
      "[CV] criterion=entropy, max_depth=2, max_leaf_nodes=5 ................\n",
      "[CV] . criterion=entropy, max_depth=2, max_leaf_nodes=5, total=   0.0s\n",
      "[CV] criterion=entropy, max_depth=2, max_leaf_nodes=5 ................\n",
      "[CV] . criterion=entropy, max_depth=2, max_leaf_nodes=5, total=   0.0s\n",
      "[CV] criterion=entropy, max_depth=2, max_leaf_nodes=5 ................\n",
      "[CV] . criterion=entropy, max_depth=2, max_leaf_nodes=5, total=   0.0s\n",
      "[CV] criterion=entropy, max_depth=2, max_leaf_nodes=5 ................\n",
      "[CV] . criterion=entropy, max_depth=2, max_leaf_nodes=5, total=   0.0s\n",
      "[CV] criterion=entropy, max_depth=2, max_leaf_nodes=10 ...............\n",
      "[CV]  criterion=entropy, max_depth=2, max_leaf_nodes=10, total=   0.0s\n",
      "[CV] criterion=entropy, max_depth=2, max_leaf_nodes=10 ...............\n",
      "[CV]  criterion=entropy, max_depth=2, max_leaf_nodes=10, total=   0.0s\n",
      "[CV] criterion=entropy, max_depth=2, max_leaf_nodes=10 ...............\n",
      "[CV]  criterion=entropy, max_depth=2, max_leaf_nodes=10, total=   0.0s\n",
      "[CV] criterion=entropy, max_depth=2, max_leaf_nodes=10 ...............\n",
      "[CV]  criterion=entropy, max_depth=2, max_leaf_nodes=10, total=   0.0s\n",
      "[CV] criterion=entropy, max_depth=2, max_leaf_nodes=10 ...............\n",
      "[CV]  criterion=entropy, max_depth=2, max_leaf_nodes=10, total=   0.0s\n",
      "[CV] criterion=entropy, max_depth=2, max_leaf_nodes=20 ...............\n",
      "[CV]  criterion=entropy, max_depth=2, max_leaf_nodes=20, total=   0.0s\n",
      "[CV] criterion=entropy, max_depth=2, max_leaf_nodes=20 ...............\n",
      "[CV]  criterion=entropy, max_depth=2, max_leaf_nodes=20, total=   0.0s\n",
      "[CV] criterion=entropy, max_depth=2, max_leaf_nodes=20 ...............\n",
      "[CV]  criterion=entropy, max_depth=2, max_leaf_nodes=20, total=   0.0s\n",
      "[CV] criterion=entropy, max_depth=2, max_leaf_nodes=20 ...............\n",
      "[CV]  criterion=entropy, max_depth=2, max_leaf_nodes=20, total=   0.0s\n",
      "[CV] criterion=entropy, max_depth=2, max_leaf_nodes=20 ...............\n",
      "[CV]  criterion=entropy, max_depth=2, max_leaf_nodes=20, total=   0.0s\n",
      "[CV] criterion=entropy, max_depth=5, max_leaf_nodes=None .............\n",
      "[CV]  criterion=entropy, max_depth=5, max_leaf_nodes=None, total=   0.0s\n",
      "[CV] criterion=entropy, max_depth=5, max_leaf_nodes=None .............\n",
      "[CV]  criterion=entropy, max_depth=5, max_leaf_nodes=None, total=   0.0s\n",
      "[CV] criterion=entropy, max_depth=5, max_leaf_nodes=None .............\n",
      "[CV]  criterion=entropy, max_depth=5, max_leaf_nodes=None, total=   0.0s\n",
      "[CV] criterion=entropy, max_depth=5, max_leaf_nodes=None .............\n",
      "[CV]  criterion=entropy, max_depth=5, max_leaf_nodes=None, total=   0.0s\n",
      "[CV] criterion=entropy, max_depth=5, max_leaf_nodes=None .............\n",
      "[CV]  criterion=entropy, max_depth=5, max_leaf_nodes=None, total=   0.0s\n",
      "[CV] criterion=entropy, max_depth=5, max_leaf_nodes=5 ................\n",
      "[CV] . criterion=entropy, max_depth=5, max_leaf_nodes=5, total=   0.0s\n",
      "[CV] criterion=entropy, max_depth=5, max_leaf_nodes=5 ................\n",
      "[CV] . criterion=entropy, max_depth=5, max_leaf_nodes=5, total=   0.0s\n",
      "[CV] criterion=entropy, max_depth=5, max_leaf_nodes=5 ................\n",
      "[CV] . criterion=entropy, max_depth=5, max_leaf_nodes=5, total=   0.0s\n",
      "[CV] criterion=entropy, max_depth=5, max_leaf_nodes=5 ................\n",
      "[CV] . criterion=entropy, max_depth=5, max_leaf_nodes=5, total=   0.0s\n",
      "[CV] criterion=entropy, max_depth=5, max_leaf_nodes=5 ................\n",
      "[CV] . criterion=entropy, max_depth=5, max_leaf_nodes=5, total=   0.0s\n",
      "[CV] criterion=entropy, max_depth=5, max_leaf_nodes=10 ...............\n",
      "[CV]  criterion=entropy, max_depth=5, max_leaf_nodes=10, total=   0.0s\n",
      "[CV] criterion=entropy, max_depth=5, max_leaf_nodes=10 ...............\n",
      "[CV]  criterion=entropy, max_depth=5, max_leaf_nodes=10, total=   0.0s\n",
      "[CV] criterion=entropy, max_depth=5, max_leaf_nodes=10 ...............\n",
      "[CV]  criterion=entropy, max_depth=5, max_leaf_nodes=10, total=   0.0s\n",
      "[CV] criterion=entropy, max_depth=5, max_leaf_nodes=10 ...............\n",
      "[CV]  criterion=entropy, max_depth=5, max_leaf_nodes=10, total=   0.0s\n",
      "[CV] criterion=entropy, max_depth=5, max_leaf_nodes=10 ...............\n",
      "[CV]  criterion=entropy, max_depth=5, max_leaf_nodes=10, total=   0.0s\n",
      "[CV] criterion=entropy, max_depth=5, max_leaf_nodes=20 ...............\n",
      "[CV]  criterion=entropy, max_depth=5, max_leaf_nodes=20, total=   0.0s\n",
      "[CV] criterion=entropy, max_depth=5, max_leaf_nodes=20 ...............\n",
      "[CV]  criterion=entropy, max_depth=5, max_leaf_nodes=20, total=   0.0s\n",
      "[CV] criterion=entropy, max_depth=5, max_leaf_nodes=20 ...............\n",
      "[CV]  criterion=entropy, max_depth=5, max_leaf_nodes=20, total=   0.0s\n",
      "[CV] criterion=entropy, max_depth=5, max_leaf_nodes=20 ...............\n",
      "[CV]  criterion=entropy, max_depth=5, max_leaf_nodes=20, total=   0.0s\n",
      "[CV] criterion=entropy, max_depth=5, max_leaf_nodes=20 ...............\n",
      "[CV]  criterion=entropy, max_depth=5, max_leaf_nodes=20, total=   0.0s\n",
      "[CV] criterion=entropy, max_depth=10, max_leaf_nodes=None ............\n",
      "[CV]  criterion=entropy, max_depth=10, max_leaf_nodes=None, total=   0.0s\n",
      "[CV] criterion=entropy, max_depth=10, max_leaf_nodes=None ............\n",
      "[CV]  criterion=entropy, max_depth=10, max_leaf_nodes=None, total=   0.0s\n",
      "[CV] criterion=entropy, max_depth=10, max_leaf_nodes=None ............\n",
      "[CV]  criterion=entropy, max_depth=10, max_leaf_nodes=None, total=   0.0s\n",
      "[CV] criterion=entropy, max_depth=10, max_leaf_nodes=None ............\n",
      "[CV]  criterion=entropy, max_depth=10, max_leaf_nodes=None, total=   0.0s\n",
      "[CV] criterion=entropy, max_depth=10, max_leaf_nodes=None ............\n",
      "[CV]  criterion=entropy, max_depth=10, max_leaf_nodes=None, total=   0.0s\n",
      "[CV] criterion=entropy, max_depth=10, max_leaf_nodes=5 ...............\n",
      "[CV]  criterion=entropy, max_depth=10, max_leaf_nodes=5, total=   0.0s\n",
      "[CV] criterion=entropy, max_depth=10, max_leaf_nodes=5 ...............\n",
      "[CV]  criterion=entropy, max_depth=10, max_leaf_nodes=5, total=   0.0s\n",
      "[CV] criterion=entropy, max_depth=10, max_leaf_nodes=5 ...............\n",
      "[CV]  criterion=entropy, max_depth=10, max_leaf_nodes=5, total=   0.0s\n",
      "[CV] criterion=entropy, max_depth=10, max_leaf_nodes=5 ...............\n",
      "[CV]  criterion=entropy, max_depth=10, max_leaf_nodes=5, total=   0.0s\n",
      "[CV] criterion=entropy, max_depth=10, max_leaf_nodes=5 ...............\n",
      "[CV]  criterion=entropy, max_depth=10, max_leaf_nodes=5, total=   0.0s\n",
      "[CV] criterion=entropy, max_depth=10, max_leaf_nodes=10 ..............\n",
      "[CV]  criterion=entropy, max_depth=10, max_leaf_nodes=10, total=   0.0s\n",
      "[CV] criterion=entropy, max_depth=10, max_leaf_nodes=10 ..............\n",
      "[CV]  criterion=entropy, max_depth=10, max_leaf_nodes=10, total=   0.0s\n",
      "[CV] criterion=entropy, max_depth=10, max_leaf_nodes=10 ..............\n",
      "[CV]  criterion=entropy, max_depth=10, max_leaf_nodes=10, total=   0.0s\n",
      "[CV] criterion=entropy, max_depth=10, max_leaf_nodes=10 ..............\n",
      "[CV]  criterion=entropy, max_depth=10, max_leaf_nodes=10, total=   0.0s\n",
      "[CV] criterion=entropy, max_depth=10, max_leaf_nodes=10 ..............\n",
      "[CV]  criterion=entropy, max_depth=10, max_leaf_nodes=10, total=   0.0s\n",
      "[CV] criterion=entropy, max_depth=10, max_leaf_nodes=20 ..............\n",
      "[CV]  criterion=entropy, max_depth=10, max_leaf_nodes=20, total=   0.0s\n",
      "[CV] criterion=entropy, max_depth=10, max_leaf_nodes=20 ..............\n"
     ]
    },
    {
     "name": "stdout",
     "output_type": "stream",
     "text": [
      "[CV]  criterion=entropy, max_depth=10, max_leaf_nodes=20, total=   0.0s\n",
      "[CV] criterion=entropy, max_depth=10, max_leaf_nodes=20 ..............\n",
      "[CV]  criterion=entropy, max_depth=10, max_leaf_nodes=20, total=   0.0s\n",
      "[CV] criterion=entropy, max_depth=10, max_leaf_nodes=20 ..............\n",
      "[CV]  criterion=entropy, max_depth=10, max_leaf_nodes=20, total=   0.0s\n",
      "[CV] criterion=entropy, max_depth=10, max_leaf_nodes=20 ..............\n",
      "[CV]  criterion=entropy, max_depth=10, max_leaf_nodes=20, total=   0.0s\n",
      "[CV] criterion=entropy, max_depth=20, max_leaf_nodes=None ............\n",
      "[CV]  criterion=entropy, max_depth=20, max_leaf_nodes=None, total=   0.1s\n",
      "[CV] criterion=entropy, max_depth=20, max_leaf_nodes=None ............\n",
      "[CV]  criterion=entropy, max_depth=20, max_leaf_nodes=None, total=   0.1s\n",
      "[CV] criterion=entropy, max_depth=20, max_leaf_nodes=None ............\n",
      "[CV]  criterion=entropy, max_depth=20, max_leaf_nodes=None, total=   0.1s\n",
      "[CV] criterion=entropy, max_depth=20, max_leaf_nodes=None ............\n",
      "[CV]  criterion=entropy, max_depth=20, max_leaf_nodes=None, total=   0.1s\n",
      "[CV] criterion=entropy, max_depth=20, max_leaf_nodes=None ............\n",
      "[CV]  criterion=entropy, max_depth=20, max_leaf_nodes=None, total=   0.1s\n",
      "[CV] criterion=entropy, max_depth=20, max_leaf_nodes=5 ...............\n",
      "[CV]  criterion=entropy, max_depth=20, max_leaf_nodes=5, total=   0.0s\n",
      "[CV] criterion=entropy, max_depth=20, max_leaf_nodes=5 ...............\n",
      "[CV]  criterion=entropy, max_depth=20, max_leaf_nodes=5, total=   0.0s\n",
      "[CV] criterion=entropy, max_depth=20, max_leaf_nodes=5 ...............\n",
      "[CV]  criterion=entropy, max_depth=20, max_leaf_nodes=5, total=   0.0s\n",
      "[CV] criterion=entropy, max_depth=20, max_leaf_nodes=5 ...............\n",
      "[CV]  criterion=entropy, max_depth=20, max_leaf_nodes=5, total=   0.0s\n",
      "[CV] criterion=entropy, max_depth=20, max_leaf_nodes=5 ...............\n",
      "[CV]  criterion=entropy, max_depth=20, max_leaf_nodes=5, total=   0.0s\n",
      "[CV] criterion=entropy, max_depth=20, max_leaf_nodes=10 ..............\n",
      "[CV]  criterion=entropy, max_depth=20, max_leaf_nodes=10, total=   0.0s\n",
      "[CV] criterion=entropy, max_depth=20, max_leaf_nodes=10 ..............\n",
      "[CV]  criterion=entropy, max_depth=20, max_leaf_nodes=10, total=   0.0s\n",
      "[CV] criterion=entropy, max_depth=20, max_leaf_nodes=10 ..............\n",
      "[CV]  criterion=entropy, max_depth=20, max_leaf_nodes=10, total=   0.0s\n",
      "[CV] criterion=entropy, max_depth=20, max_leaf_nodes=10 ..............\n",
      "[CV]  criterion=entropy, max_depth=20, max_leaf_nodes=10, total=   0.0s\n",
      "[CV] criterion=entropy, max_depth=20, max_leaf_nodes=10 ..............\n",
      "[CV]  criterion=entropy, max_depth=20, max_leaf_nodes=10, total=   0.0s\n",
      "[CV] criterion=entropy, max_depth=20, max_leaf_nodes=20 ..............\n",
      "[CV]  criterion=entropy, max_depth=20, max_leaf_nodes=20, total=   0.0s\n",
      "[CV] criterion=entropy, max_depth=20, max_leaf_nodes=20 ..............\n",
      "[CV]  criterion=entropy, max_depth=20, max_leaf_nodes=20, total=   0.0s\n",
      "[CV] criterion=entropy, max_depth=20, max_leaf_nodes=20 ..............\n",
      "[CV]  criterion=entropy, max_depth=20, max_leaf_nodes=20, total=   0.0s\n",
      "[CV] criterion=entropy, max_depth=20, max_leaf_nodes=20 ..............\n",
      "[CV]  criterion=entropy, max_depth=20, max_leaf_nodes=20, total=   0.0s\n",
      "[CV] criterion=entropy, max_depth=20, max_leaf_nodes=20 ..............\n",
      "[CV]  criterion=entropy, max_depth=20, max_leaf_nodes=20, total=   0.0s\n",
      "Best Parameter:  {'criterion': 'gini', 'max_depth': 10, 'max_leaf_nodes': 20}\n",
      "Model:  DecisionTreeClassifier(ccp_alpha=0.0, class_weight=None, criterion='gini',\n",
      "                       max_depth=10, max_features=None, max_leaf_nodes=20,\n",
      "                       min_impurity_decrease=0.0, min_impurity_split=None,\n",
      "                       min_samples_leaf=1, min_samples_split=2,\n",
      "                       min_weight_fraction_leaf=0.0, presort='deprecated',\n",
      "                       random_state=None, splitter='best')\n"
     ]
    },
    {
     "name": "stderr",
     "output_type": "stream",
     "text": [
      "[Parallel(n_jobs=1)]: Done 160 out of 160 | elapsed:    5.2s finished\n"
     ]
    }
   ],
   "source": [
    "param_grid = {\"criterion\": [\"gini\", \"entropy\"],\n",
    "              \"max_depth\": [2, 5, 10, 20],\n",
    "              \"max_leaf_nodes\": [None,5, 10, 20]\n",
    "              }\n",
    "grid = GridSearchCV(DecisionTreeClassifier(), param_grid, refit = True, verbose = 2) \n",
    "\n",
    "grid.fit(x1_train, y1_train)\n",
    "\n",
    "print('Best Parameter: ', grid.best_params_) \n",
    "\n",
    "print('Model: ', grid.best_estimator_)"
   ]
  },
  {
   "cell_type": "code",
   "execution_count": 56,
   "metadata": {},
   "outputs": [
    {
     "name": "stdout",
     "output_type": "stream",
     "text": [
      "Accuracy: 0.846606648199446\n",
      "Confusion Matrix: \n",
      " [[4012  325]\n",
      " [ 561  878]]\n",
      "Classification Report: \n",
      "               precision    recall  f1-score   support\n",
      "\n",
      "           0       0.88      0.93      0.90      4337\n",
      "           1       0.73      0.61      0.66      1439\n",
      "\n",
      "    accuracy                           0.85      5776\n",
      "   macro avg       0.80      0.77      0.78      5776\n",
      "weighted avg       0.84      0.85      0.84      5776\n",
      "\n"
     ]
    }
   ],
   "source": [
    "grid_predictions = grid.predict(x1_test)\n",
    "print('Accuracy:',accuracy_score(y1_test,grid_predictions))\n",
    "print('Confusion Matrix: \\n', confusion_matrix(y1_test,grid_predictions))\n",
    "print('Classification Report: \\n', classification_report(y1_test,grid_predictions))"
   ]
  },
  {
   "cell_type": "code",
   "execution_count": null,
   "metadata": {},
   "outputs": [],
   "source": []
  },
  {
   "cell_type": "code",
   "execution_count": 57,
   "metadata": {
    "scrolled": true
   },
   "outputs": [
    {
     "data": {
      "image/png": "[encoded data removed]",
      "text/plain": [
       "<Figure size 432x288 with 1 Axes>"
      ]
     },
     "metadata": {},
     "output_type": "display_data"
    }
   ],
   "source": [
    "test_accuracy = []\n",
    "train_accuracy = []\n",
    "depth = []\n",
    "for i in range(1,grid.best_params_['max_depth']+1):\n",
    "    dtc = DecisionTreeClassifier(criterion = 'gini', max_depth=i, max_leaf_nodes=20)\n",
    "# Train Decision Tree Classifer\n",
    "    dtc = dtc.fit(x1_train,y1_train)\n",
    "\n",
    "    predictionstest = dtc.predict(x1_test)\n",
    "    predictionstrain = dtc.predict(x1_train)\n",
    "\n",
    "    test_accuracy.append(accuracy_score(y1_test,predictionstest)*100)\n",
    "    train_accuracy.append(accuracy_score(y1_train,predictionstrain)*100)\n",
    "    depth.append(i)\n",
    "    \n",
    "plt.xlabel('Depth')\n",
    "plt.ylabel('Accuracy')\n",
    "plt.plot(depth,train_accuracy, label='train')\n",
    "plt.plot(depth,test_accuracy, label='test')\n",
    "plt.legend()\n",
    "plt.show()"
   ]
  },
  {
   "cell_type": "code",
   "execution_count": 58,
   "metadata": {},
   "outputs": [
    {
     "name": "stdout",
     "output_type": "stream",
     "text": [
      "Scores:  [0.85200297 0.84044527 0.83302412 0.84489796 0.84526902]\n",
      "Accuracy: 0.84 (+/- 0.01)\n"
     ]
    }
   ],
   "source": [
    "model = DecisionTreeClassifier(criterion = 'gini', max_depth=10, max_leaf_nodes=20)\n",
    "scores = cross_val_score(model, x1_train, y1_train, scoring='accuracy', cv=5)\n",
    "print('Scores: ',scores)\n",
    "print(\"Accuracy: %0.2f (+/- %0.2f)\" % (scores.mean(), scores.std() * 2))"
   ]
  },
  {
   "cell_type": "markdown",
   "metadata": {},
   "source": [
    "# BOOSTING"
   ]
  },
  {
   "cell_type": "code",
   "execution_count": 7,
   "metadata": {},
   "outputs": [
    {
     "ename": "NameError",
     "evalue": "name 'x1_train' is not defined",
     "output_type": "error",
     "traceback": [
      "\u001b[0;31m---------------------------------------------------------------------------\u001b[0m",
      "\u001b[0;31mNameError\u001b[0m                                 Traceback (most recent call last)",
      "\u001b[0;32m<timed exec>\u001b[0m in \u001b[0;36m<module>\u001b[0;34m\u001b[0m\n",
      "\u001b[0;31mNameError\u001b[0m: name 'x1_train' is not defined"
     ]
    }
   ],
   "source": [
    "%%time\n",
    "adb = AdaBoostClassifier(n_estimators=1000,learning_rate=1)\n",
    "adb = adb.fit(x1_train, y1_train)\n",
    "AdaBoostClassifier()"
   ]
  },
  {
   "cell_type": "code",
   "execution_count": 123,
   "metadata": {},
   "outputs": [
    {
     "name": "stdout",
     "output_type": "stream",
     "text": [
      "Accuracy: 0.8601108033240997\n",
      "Confusion Matrix: \n",
      " [[3988  270]\n",
      " [ 538  980]]\n",
      "Classification Report: \n",
      "               precision    recall  f1-score   support\n",
      "\n",
      "           0       0.88      0.94      0.91      4258\n",
      "           1       0.78      0.65      0.71      1518\n",
      "\n",
      "    accuracy                           0.86      5776\n",
      "   macro avg       0.83      0.79      0.81      5776\n",
      "weighted avg       0.86      0.86      0.86      5776\n",
      "\n"
     ]
    }
   ],
   "source": [
    "#Predict the response for test dataset\n",
    "predictions = adb.predict(x1_test)\n",
    "# print classification report \n",
    "print('Accuracy:',accuracy_score(y1_test,predictions))\n",
    "print('Confusion Matrix: \\n',confusion_matrix(y1_test, predictions))\n",
    "print('Classification Report: \\n',classification_report(y1_test, predictions)) "
   ]
  },
  {
   "cell_type": "code",
   "execution_count": 124,
   "metadata": {},
   "outputs": [
    {
     "data": {
      "image/png": "[encoded data removed]",
      "text/plain": [
       "<Figure size 432x288 with 1 Axes>"
      ]
     },
     "metadata": {},
     "output_type": "display_data"
    }
   ],
   "source": [
    "roc_auc(predictions,y1_test)"
   ]
  },
  {
   "cell_type": "code",
   "execution_count": 61,
   "metadata": {
    "scrolled": true
   },
   "outputs": [
    {
     "name": "stdout",
     "output_type": "stream",
     "text": [
      "Fitting 5 folds for each of 15 candidates, totalling 75 fits\n",
      "[CV] learning_rate=0.1, n_estimators=50 ..............................\n"
     ]
    },
    {
     "name": "stderr",
     "output_type": "stream",
     "text": [
      "[Parallel(n_jobs=1)]: Using backend SequentialBackend with 1 concurrent workers.\n"
     ]
    },
    {
     "name": "stdout",
     "output_type": "stream",
     "text": [
      "[CV] ............... learning_rate=0.1, n_estimators=50, total=   0.5s\n",
      "[CV] learning_rate=0.1, n_estimators=50 ..............................\n"
     ]
    },
    {
     "name": "stderr",
     "output_type": "stream",
     "text": [
      "[Parallel(n_jobs=1)]: Done   1 out of   1 | elapsed:    0.5s remaining:    0.0s\n"
     ]
    },
    {
     "name": "stdout",
     "output_type": "stream",
     "text": [
      "[CV] ............... learning_rate=0.1, n_estimators=50, total=   0.5s\n",
      "[CV] learning_rate=0.1, n_estimators=50 ..............................\n",
      "[CV] ............... learning_rate=0.1, n_estimators=50, total=   0.5s\n",
      "[CV] learning_rate=0.1, n_estimators=50 ..............................\n",
      "[CV] ............... learning_rate=0.1, n_estimators=50, total=   0.5s\n",
      "[CV] learning_rate=0.1, n_estimators=50 ..............................\n",
      "[CV] ............... learning_rate=0.1, n_estimators=50, total=   0.5s\n",
      "[CV] learning_rate=0.1, n_estimators=100 .............................\n",
      "[CV] .............. learning_rate=0.1, n_estimators=100, total=   1.0s\n",
      "[CV] learning_rate=0.1, n_estimators=100 .............................\n",
      "[CV] .............. learning_rate=0.1, n_estimators=100, total=   1.0s\n",
      "[CV] learning_rate=0.1, n_estimators=100 .............................\n",
      "[CV] .............. learning_rate=0.1, n_estimators=100, total=   1.0s\n",
      "[CV] learning_rate=0.1, n_estimators=100 .............................\n",
      "[CV] .............. learning_rate=0.1, n_estimators=100, total=   1.0s\n",
      "[CV] learning_rate=0.1, n_estimators=100 .............................\n",
      "[CV] .............. learning_rate=0.1, n_estimators=100, total=   0.9s\n",
      "[CV] learning_rate=0.1, n_estimators=500 .............................\n",
      "[CV] .............. learning_rate=0.1, n_estimators=500, total=   5.6s\n",
      "[CV] learning_rate=0.1, n_estimators=500 .............................\n",
      "[CV] .............. learning_rate=0.1, n_estimators=500, total=   4.9s\n",
      "[CV] learning_rate=0.1, n_estimators=500 .............................\n",
      "[CV] .............. learning_rate=0.1, n_estimators=500, total=   4.7s\n",
      "[CV] learning_rate=0.1, n_estimators=500 .............................\n",
      "[CV] .............. learning_rate=0.1, n_estimators=500, total=   4.6s\n",
      "[CV] learning_rate=0.1, n_estimators=500 .............................\n",
      "[CV] .............. learning_rate=0.1, n_estimators=500, total=   4.8s\n",
      "[CV] learning_rate=0.1, n_estimators=1000 ............................\n",
      "[CV] ............. learning_rate=0.1, n_estimators=1000, total=   9.4s\n",
      "[CV] learning_rate=0.1, n_estimators=1000 ............................\n",
      "[CV] ............. learning_rate=0.1, n_estimators=1000, total=   9.9s\n",
      "[CV] learning_rate=0.1, n_estimators=1000 ............................\n",
      "[CV] ............. learning_rate=0.1, n_estimators=1000, total=   9.9s\n",
      "[CV] learning_rate=0.1, n_estimators=1000 ............................\n",
      "[CV] ............. learning_rate=0.1, n_estimators=1000, total=   9.8s\n",
      "[CV] learning_rate=0.1, n_estimators=1000 ............................\n",
      "[CV] ............. learning_rate=0.1, n_estimators=1000, total=   9.9s\n",
      "[CV] learning_rate=0.1, n_estimators=2000 ............................\n",
      "[CV] ............. learning_rate=0.1, n_estimators=2000, total=  18.8s\n",
      "[CV] learning_rate=0.1, n_estimators=2000 ............................\n",
      "[CV] ............. learning_rate=0.1, n_estimators=2000, total=  19.8s\n",
      "[CV] learning_rate=0.1, n_estimators=2000 ............................\n",
      "[CV] ............. learning_rate=0.1, n_estimators=2000, total=  19.2s\n",
      "[CV] learning_rate=0.1, n_estimators=2000 ............................\n",
      "[CV] ............. learning_rate=0.1, n_estimators=2000, total=  19.5s\n",
      "[CV] learning_rate=0.1, n_estimators=2000 ............................\n",
      "[CV] ............. learning_rate=0.1, n_estimators=2000, total=  19.2s\n",
      "[CV] learning_rate=1, n_estimators=50 ................................\n",
      "[CV] ................. learning_rate=1, n_estimators=50, total=   0.5s\n",
      "[CV] learning_rate=1, n_estimators=50 ................................\n",
      "[CV] ................. learning_rate=1, n_estimators=50, total=   0.5s\n",
      "[CV] learning_rate=1, n_estimators=50 ................................\n",
      "[CV] ................. learning_rate=1, n_estimators=50, total=   0.5s\n",
      "[CV] learning_rate=1, n_estimators=50 ................................\n",
      "[CV] ................. learning_rate=1, n_estimators=50, total=   0.5s\n",
      "[CV] learning_rate=1, n_estimators=50 ................................\n",
      "[CV] ................. learning_rate=1, n_estimators=50, total=   0.5s\n",
      "[CV] learning_rate=1, n_estimators=100 ...............................\n",
      "[CV] ................ learning_rate=1, n_estimators=100, total=   0.9s\n",
      "[CV] learning_rate=1, n_estimators=100 ...............................\n",
      "[CV] ................ learning_rate=1, n_estimators=100, total=   1.0s\n",
      "[CV] learning_rate=1, n_estimators=100 ...............................\n",
      "[CV] ................ learning_rate=1, n_estimators=100, total=   1.0s\n",
      "[CV] learning_rate=1, n_estimators=100 ...............................\n",
      "[CV] ................ learning_rate=1, n_estimators=100, total=   0.9s\n",
      "[CV] learning_rate=1, n_estimators=100 ...............................\n",
      "[CV] ................ learning_rate=1, n_estimators=100, total=   0.9s\n",
      "[CV] learning_rate=1, n_estimators=500 ...............................\n",
      "[CV] ................ learning_rate=1, n_estimators=500, total=   4.7s\n",
      "[CV] learning_rate=1, n_estimators=500 ...............................\n",
      "[CV] ................ learning_rate=1, n_estimators=500, total=   4.7s\n",
      "[CV] learning_rate=1, n_estimators=500 ...............................\n",
      "[CV] ................ learning_rate=1, n_estimators=500, total=   4.7s\n",
      "[CV] learning_rate=1, n_estimators=500 ...............................\n",
      "[CV] ................ learning_rate=1, n_estimators=500, total=   4.7s\n",
      "[CV] learning_rate=1, n_estimators=500 ...............................\n",
      "[CV] ................ learning_rate=1, n_estimators=500, total=   4.7s\n",
      "[CV] learning_rate=1, n_estimators=1000 ..............................\n",
      "[CV] ............... learning_rate=1, n_estimators=1000, total=   9.4s\n",
      "[CV] learning_rate=1, n_estimators=1000 ..............................\n",
      "[CV] ............... learning_rate=1, n_estimators=1000, total=   9.4s\n",
      "[CV] learning_rate=1, n_estimators=1000 ..............................\n",
      "[CV] ............... learning_rate=1, n_estimators=1000, total=   9.8s\n",
      "[CV] learning_rate=1, n_estimators=1000 ..............................\n",
      "[CV] ............... learning_rate=1, n_estimators=1000, total=   9.5s\n",
      "[CV] learning_rate=1, n_estimators=1000 ..............................\n",
      "[CV] ............... learning_rate=1, n_estimators=1000, total=   9.4s\n",
      "[CV] learning_rate=1, n_estimators=2000 ..............................\n",
      "[CV] ............... learning_rate=1, n_estimators=2000, total=  19.4s\n",
      "[CV] learning_rate=1, n_estimators=2000 ..............................\n",
      "[CV] ............... learning_rate=1, n_estimators=2000, total=  19.0s\n",
      "[CV] learning_rate=1, n_estimators=2000 ..............................\n",
      "[CV] ............... learning_rate=1, n_estimators=2000, total=  19.5s\n",
      "[CV] learning_rate=1, n_estimators=2000 ..............................\n",
      "[CV] ............... learning_rate=1, n_estimators=2000, total=  18.7s\n",
      "[CV] learning_rate=1, n_estimators=2000 ..............................\n",
      "[CV] ............... learning_rate=1, n_estimators=2000, total=  18.9s\n",
      "[CV] learning_rate=2, n_estimators=50 ................................\n",
      "[CV] ................. learning_rate=2, n_estimators=50, total=   0.5s\n",
      "[CV] learning_rate=2, n_estimators=50 ................................\n",
      "[CV] ................. learning_rate=2, n_estimators=50, total=   0.5s\n",
      "[CV] learning_rate=2, n_estimators=50 ................................\n",
      "[CV] ................. learning_rate=2, n_estimators=50, total=   0.5s\n",
      "[CV] learning_rate=2, n_estimators=50 ................................\n",
      "[CV] ................. learning_rate=2, n_estimators=50, total=   0.5s\n",
      "[CV] learning_rate=2, n_estimators=50 ................................\n",
      "[CV] ................. learning_rate=2, n_estimators=50, total=   0.5s\n",
      "[CV] learning_rate=2, n_estimators=100 ...............................\n",
      "[CV] ................ learning_rate=2, n_estimators=100, total=   1.0s\n",
      "[CV] learning_rate=2, n_estimators=100 ...............................\n",
      "[CV] ................ learning_rate=2, n_estimators=100, total=   0.9s\n",
      "[CV] learning_rate=2, n_estimators=100 ...............................\n",
      "[CV] ................ learning_rate=2, n_estimators=100, total=   1.0s\n",
      "[CV] learning_rate=2, n_estimators=100 ...............................\n",
      "[CV] ................ learning_rate=2, n_estimators=100, total=   1.0s\n",
      "[CV] learning_rate=2, n_estimators=100 ...............................\n"
     ]
    },
    {
     "name": "stdout",
     "output_type": "stream",
     "text": [
      "[CV] ................ learning_rate=2, n_estimators=100, total=   1.0s\n",
      "[CV] learning_rate=2, n_estimators=500 ...............................\n",
      "[CV] ................ learning_rate=2, n_estimators=500, total=   4.8s\n",
      "[CV] learning_rate=2, n_estimators=500 ...............................\n",
      "[CV] ................ learning_rate=2, n_estimators=500, total=   4.7s\n",
      "[CV] learning_rate=2, n_estimators=500 ...............................\n",
      "[CV] ................ learning_rate=2, n_estimators=500, total=   4.7s\n",
      "[CV] learning_rate=2, n_estimators=500 ...............................\n",
      "[CV] ................ learning_rate=2, n_estimators=500, total=   4.8s\n",
      "[CV] learning_rate=2, n_estimators=500 ...............................\n",
      "[CV] ................ learning_rate=2, n_estimators=500, total=   4.8s\n",
      "[CV] learning_rate=2, n_estimators=1000 ..............................\n",
      "[CV] ............... learning_rate=2, n_estimators=1000, total=   9.6s\n",
      "[CV] learning_rate=2, n_estimators=1000 ..............................\n",
      "[CV] ............... learning_rate=2, n_estimators=1000, total=   9.5s\n",
      "[CV] learning_rate=2, n_estimators=1000 ..............................\n",
      "[CV] ............... learning_rate=2, n_estimators=1000, total=  10.1s\n",
      "[CV] learning_rate=2, n_estimators=1000 ..............................\n",
      "[CV] ............... learning_rate=2, n_estimators=1000, total=   9.8s\n",
      "[CV] learning_rate=2, n_estimators=1000 ..............................\n",
      "[CV] ............... learning_rate=2, n_estimators=1000, total=   9.5s\n",
      "[CV] learning_rate=2, n_estimators=2000 ..............................\n",
      "[CV] ............... learning_rate=2, n_estimators=2000, total=  19.3s\n",
      "[CV] learning_rate=2, n_estimators=2000 ..............................\n",
      "[CV] ............... learning_rate=2, n_estimators=2000, total=  21.0s\n",
      "[CV] learning_rate=2, n_estimators=2000 ..............................\n",
      "[CV] ............... learning_rate=2, n_estimators=2000, total=  19.2s\n",
      "[CV] learning_rate=2, n_estimators=2000 ..............................\n",
      "[CV] ............... learning_rate=2, n_estimators=2000, total=  20.6s\n",
      "[CV] learning_rate=2, n_estimators=2000 ..............................\n",
      "[CV] ............... learning_rate=2, n_estimators=2000, total=  20.8s\n"
     ]
    },
    {
     "name": "stderr",
     "output_type": "stream",
     "text": [
      "[Parallel(n_jobs=1)]: Done  75 out of  75 | elapsed:  8.9min finished\n"
     ]
    },
    {
     "name": "stdout",
     "output_type": "stream",
     "text": [
      "Best Parameter:  {'learning_rate': 1, 'n_estimators': 1000}\n",
      "Model:  AdaBoostClassifier(algorithm='SAMME.R', base_estimator=None, learning_rate=1,\n",
      "                   n_estimators=1000, random_state=None)\n"
     ]
    }
   ],
   "source": [
    "param_grid = {\"n_estimators\": [50, 100, 500, 1000, 2000],\n",
    "              \"learning_rate\": [0.1, 1, 2]\n",
    "              }\n",
    "grid = GridSearchCV(AdaBoostClassifier(), param_grid, refit = True, verbose = 2) \n",
    "\n",
    "grid.fit(x1_train, y1_train)\n",
    "\n",
    "print('Best Parameter: ', grid.best_params_) \n",
    "\n",
    "print('Model: ', grid.best_estimator_)"
   ]
  },
  {
   "cell_type": "code",
   "execution_count": 62,
   "metadata": {},
   "outputs": [
    {
     "name": "stdout",
     "output_type": "stream",
     "text": [
      "Accuracy: 0.8623614958448753\n",
      "Confusion Matrix: \n",
      " [[4026  311]\n",
      " [ 484  955]]\n",
      "Classification Report: \n",
      "               precision    recall  f1-score   support\n",
      "\n",
      "           0       0.89      0.93      0.91      4337\n",
      "           1       0.75      0.66      0.71      1439\n",
      "\n",
      "    accuracy                           0.86      5776\n",
      "   macro avg       0.82      0.80      0.81      5776\n",
      "weighted avg       0.86      0.86      0.86      5776\n",
      "\n"
     ]
    }
   ],
   "source": [
    "grid_predictions = grid.predict(x1_test)\n",
    "print('Accuracy:',accuracy_score(y1_test,grid_predictions))\n",
    "print('Confusion Matrix: \\n', confusion_matrix(y1_test,grid_predictions))\n",
    "print('Classification Report: \\n', classification_report(y1_test,grid_predictions))"
   ]
  },
  {
   "cell_type": "code",
   "execution_count": 63,
   "metadata": {},
   "outputs": [
    {
     "data": {
      "image/png": "[encoded data removed]",
      "text/plain": [
       "<Figure size 432x288 with 1 Axes>"
      ]
     },
     "metadata": {},
     "output_type": "display_data"
    }
   ],
   "source": [
    "test_accuracy = []\n",
    "train_accuracy = []\n",
    "depth = []\n",
    "for i in range(100,grid.best_params_['n_estimators']+300,100):\n",
    "    dtc = AdaBoostClassifier(n_estimators=i, learning_rate=1)\n",
    "# Train Decision Tree Classifer\n",
    "    dtc = dtc.fit(x1_train,y1_train)\n",
    "\n",
    "    predictionstest = dtc.predict(x1_test)\n",
    "    predictionstrain = dtc.predict(x1_train)\n",
    "\n",
    "    test_accuracy.append(accuracy_score(y1_test,predictionstest)*100)\n",
    "    train_accuracy.append(accuracy_score(y1_train,predictionstrain)*100)\n",
    "    depth.append(i)\n",
    "    \n",
    "plt.xlabel('No. of Estimators')\n",
    "plt.ylabel('Accuracy')\n",
    "plt.plot(depth,train_accuracy, label='train')\n",
    "plt.plot(depth,test_accuracy, label='test')\n",
    "plt.legend()\n",
    "plt.show()"
   ]
  },
  {
   "cell_type": "code",
   "execution_count": 64,
   "metadata": {},
   "outputs": [
    {
     "name": "stdout",
     "output_type": "stream",
     "text": [
      "Scores:  [0.87203264 0.86419295 0.8567718  0.86085343 0.86382189]\n",
      "Accuracy: 0.86 (+/- 0.01)\n"
     ]
    }
   ],
   "source": [
    "model = AdaBoostClassifier(n_estimators=1000, learning_rate=1)\n",
    "scores = cross_val_score(model, x1_train, y1_train, scoring='accuracy', cv=5)\n",
    "print('Scores: ',scores)\n",
    "print(\"Accuracy: %0.2f (+/- %0.2f)\" % (scores.mean(), scores.std() * 2))"
   ]
  },
  {
   "cell_type": "code",
   "execution_count": 3,
   "metadata": {},
   "outputs": [],
   "source": [
    "b= np.zeros(1, dtype=np.float64)"
   ]
  },
  {
   "cell_type": "code",
   "execution_count": 2,
   "metadata": {},
   "outputs": [],
   "source": [
    "import numpy as np"
   ]
  },
  {
   "cell_type": "code",
   "execution_count": 4,
   "metadata": {},
   "outputs": [
    {
     "data": {
      "text/plain": [
       "array([0.])"
      ]
     },
     "execution_count": 4,
     "metadata": {},
     "output_type": "execute_result"
    }
   ],
   "source": [
    "b"
   ]
  },
  {
   "cell_type": "code",
   "execution_count": null,
   "metadata": {},
   "outputs": [],
   "source": []
  }
 ],
 "metadata": {
  "kernelspec": {
   "display_name": "Python 3",
   "language": "python",
   "name": "python3"
  },
  "language_info": {
   "codemirror_mode": {
    "name": "ipython",
    "version": 3
   },
   "file_extension": ".py",
   "mimetype": "text/x-python",
   "name": "python",
   "nbconvert_exporter": "python",
   "pygments_lexer": "ipython3",
   "version": "3.7.4"
  }
 },
 "nbformat": 4,
 "nbformat_minor": 2
}
